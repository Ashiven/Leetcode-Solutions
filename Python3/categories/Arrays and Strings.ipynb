{
 "cells": [
  {
   "cell_type": "markdown",
   "id": "1c151092",
   "metadata": {},
   "source": [
    "### 118. Pascal's Triangle"
   ]
  },
  {
   "cell_type": "code",
   "execution_count": null,
   "id": "df1a539f",
   "metadata": {},
   "outputs": [],
   "source": [
    "class Solution:\n",
    "    def generate(self, numRows: int) -> List[List[int]]:\n",
    "        if numRows == 0: return []\n",
    "        if numRows == 1: return [[1]]\n",
    "        if numRows == 2: return [[1],[1,1]]\n",
    "        \n",
    "        def getNext(row):\n",
    "            n = [1]*(len(row)+1)\n",
    "            for i in range(len(row)-1):\n",
    "                n[i+1] = row[i] + row[i+1]\n",
    "            return n\n",
    "    \n",
    "        res = [[1],[1,1]]\n",
    "        r = 2\n",
    "        while r < numRows:\n",
    "            res.append(getNext(res[r-1]))\n",
    "            r += 1\n",
    "\n",
    "        return res"
   ]
  },
  {
   "cell_type": "markdown",
   "id": "11b6bfb4",
   "metadata": {},
   "source": [
    "- I solved this problem by defining a helper function `getNext` that will calculate the next `row` of the **Pascal Triangle** for any given `row`.\n",
    "- All that was left to do then was to calculate the rows up until `numRows`."
   ]
  },
  {
   "cell_type": "markdown",
   "id": "5eb3cc84",
   "metadata": {},
   "source": [
    "### 225. Implement Stack using Queues"
   ]
  },
  {
   "cell_type": "code",
   "execution_count": null,
   "id": "84d8bdd6",
   "metadata": {},
   "outputs": [],
   "source": [
    "class MyStack:\n",
    "\n",
    "    def __init__(self):\n",
    "        self.s = collections.deque()\n",
    "\n",
    "    def push(self, x: int) -> None:\n",
    "        self.s.append(x)\n",
    "        # reverse the order such that the top of the stack is always at the front\n",
    "        for _ in range(len(self.s)-1):\n",
    "            self.s.append(self.s.popleft())\n",
    "        \n",
    "    def pop(self) -> int:\n",
    "        return self.s.popleft()\n",
    "\n",
    "    def top(self) -> int:\n",
    "        return self.s[0]\n",
    "\n",
    "    def empty(self) -> bool:\n",
    "        return len(self.s) == 0\n",
    "        \n",
    "\n",
    "\n",
    "# Your MyStack object will be instantiated and called as such:\n",
    "# obj = MyStack()\n",
    "# obj.push(x)\n",
    "# param_2 = obj.pop()\n",
    "# param_3 = obj.top()\n",
    "# param_4 = obj.empty()"
   ]
  },
  {
   "cell_type": "markdown",
   "id": "55d76e39",
   "metadata": {},
   "source": [
    "- The restrictions here were basically that you were not allowed to use the `pop` operation or access an index other than the first index in the queue.\n",
    "- To get around these restrictions, the queue representing the stack, `s`, had to be reordered on every `push` operation such that the newly appended item would be rotated towards the front by repeatedly popping the item in the front position and appending it to the back of the queue."
   ]
  },
  {
   "cell_type": "markdown",
   "id": "f502c6f7",
   "metadata": {},
   "source": [
    "### 338. Counting Bits"
   ]
  },
  {
   "cell_type": "code",
   "execution_count": null,
   "id": "439f5563",
   "metadata": {},
   "outputs": [],
   "source": [
    "class Solution:\n",
    "    def countBits(self, n: int) -> List[int]:\n",
    "        \n",
    "        res = []\n",
    "        for b in range(n+1):\n",
    "            c = collections.Counter(bin(b))\n",
    "            res.append(c['1'] if '1' in c else 0)\n",
    "        return res"
   ]
  },
  {
   "cell_type": "markdown",
   "id": "a461bb82",
   "metadata": {},
   "source": [
    "- I simply iterated through the range from `0` to `n` and counted the number of 1s in the binary representation of each number."
   ]
  },
  {
   "cell_type": "markdown",
   "id": "e37fe2b5",
   "metadata": {},
   "source": [
    "### 459. Repeated Substring Pattern"
   ]
  },
  {
   "cell_type": "code",
   "execution_count": null,
   "id": "86f3b137",
   "metadata": {},
   "outputs": [],
   "source": [
    "class Solution:\n",
    "    def repeatedSubstringPattern(self, s: str) -> bool:\n",
    "        def constructible(sub):\n",
    "            constructed = \"\"\n",
    "            while len(constructed) < len(s):\n",
    "                constructed += sub\n",
    "                if constructed != s[:len(constructed)]: return False\n",
    "            return True\n",
    "        \n",
    "        for i in range(len(s)//2):\n",
    "            if len(s)%(i+1): continue\n",
    "            if constructible(s[:i+1]):\n",
    "                return True\n",
    "        return False"
   ]
  },
  {
   "cell_type": "markdown",
   "id": "aab924a0",
   "metadata": {},
   "source": [
    "- We iterate over the first half of the given string `s` and try out every substring in that range using the helper function `constructible`.\n",
    "- When a substring can be made into the original string, `constructible` returns `True`, and we return `True`."
   ]
  },
  {
   "cell_type": "markdown",
   "id": "c7c6075d",
   "metadata": {},
   "source": [
    "### 1337. The K Weakest Rows in a Matrix"
   ]
  },
  {
   "cell_type": "code",
   "execution_count": null,
   "id": "be220b98",
   "metadata": {},
   "outputs": [],
   "source": [
    "class Solution:\n",
    "    def kWeakestRows(self, mat: List[List[int]], k: int) -> List[int]:\n",
    "        indices = list(range(len(mat)))\n",
    "        mat = list(zip(mat,indices))\n",
    "        mat.sort(key=lambda x: len([ num for num in x[0] if num == 1 ]))\n",
    "        return [ mat[i][1] for i in range(k) ]"
   ]
  },
  {
   "cell_type": "markdown",
   "id": "3f8a92de",
   "metadata": {},
   "source": [
    "- To solve this problem, I zipped the rows of the given matrix, `mat`, with their `indices` and then sorted them by the number of 1's they contain.\n",
    "- Lastly, I returned the indices of the first `k` elements of the sorted matrix."
   ]
  }
 ],
 "metadata": {
  "kernelspec": {
   "display_name": "Python 3 (ipykernel)",
   "language": "python",
   "name": "python3"
  },
  "language_info": {
   "codemirror_mode": {
    "name": "ipython",
    "version": 3
   },
   "file_extension": ".py",
   "mimetype": "text/x-python",
   "name": "python",
   "nbconvert_exporter": "python",
   "pygments_lexer": "ipython3",
   "version": "3.10.9"
  }
 },
 "nbformat": 4,
 "nbformat_minor": 5
}
