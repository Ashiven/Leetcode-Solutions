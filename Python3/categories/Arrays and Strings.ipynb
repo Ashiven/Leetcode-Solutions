{
 "cells": [
  {
   "cell_type": "markdown",
   "id": "f630a2c5",
   "metadata": {},
   "source": [
    "### 1. Two Sum"
   ]
  },
  {
   "cell_type": "code",
   "execution_count": null,
   "id": "bd032073",
   "metadata": {},
   "outputs": [],
   "source": [
    "class Solution:\n",
    "    def twoSum(self, nums: List[int], target: int) -> List[int]:\n",
    "        for i in range(len(nums)):\n",
    "            for j in range(i + 1, len(nums)):\n",
    "                if nums[i] + nums[j] == target:\n",
    "                    return [i, j]"
   ]
  },
  {
   "cell_type": "markdown",
   "id": "dc3deea9",
   "metadata": {},
   "source": [
    "- I solved this problem by simply trying every combination of two numbers."
   ]
  },
  {
   "cell_type": "markdown",
   "id": "643165fb",
   "metadata": {},
   "source": [
    "### 5. Longest Palindromic Substring"
   ]
  },
  {
   "cell_type": "code",
   "execution_count": null,
   "id": "5882a6a0",
   "metadata": {},
   "outputs": [],
   "source": [
    "class Solution:\n",
    "    def longestPalindrome(self, s: str) -> str:\n",
    "\n",
    "        def maxPalindrome(i,variant):\n",
    "            max_string = \"\"\n",
    "            l = i\n",
    "            r = i if variant == \"odd\" else i+1 \n",
    "            while l >= 0 and r < len(s):\n",
    "                if s[l] == s[r]:\n",
    "                    max_string = s[l:r+1]\n",
    "                    l -= 1\n",
    "                    r += 1\n",
    "                else: break\n",
    "            return max_string\n",
    "\n",
    "        max_pali = \"\"\n",
    "        for i in range(len(s)):\n",
    "            pali_odd = maxPalindrome(i, \"odd\")\n",
    "            pali_even = maxPalindrome(i, \"even\")\n",
    "            pali = pali_odd if len(pali_odd) > len(pali_even) else pali_even\n",
    "            if len(pali) > len(max_pali):\n",
    "                max_pali = pali\n",
    "\n",
    "        return max_pali"
   ]
  },
  {
   "cell_type": "markdown",
   "id": "6e9ff9bf",
   "metadata": {},
   "source": [
    "- This problem could be solved by iterating over `s` and calculating the maximum palindrome at every index.\n",
    "- The helper function `maxPalindrome` calculates the largest possible palindrome at a given index `i` for a given `variant` (`\"even\"` or `\"odd\"` length) by expanding toward the left and the right as long as the string is a palindrome.\n",
    "- We use this helper function to calculate the largest possible palindrome of even length and the largest possible palindrome of odd length at every index, and we keep track of the largest palindrome that we encounter throughout this process."
   ]
  },
  {
   "cell_type": "markdown",
   "id": "cee435f3",
   "metadata": {},
   "source": [
    "### 36. Valid Sudoku"
   ]
  },
  {
   "cell_type": "code",
   "execution_count": null,
   "id": "80eb7029",
   "metadata": {},
   "outputs": [],
   "source": [
    "class Solution:\n",
    "    def isValidSudoku(self, board: List[List[str]]) -> bool:\n",
    "        # Step 1 validate rows\n",
    "        valid = range(1, 10)\n",
    "        isValid = True\n",
    "        for i in range(len(board)):\n",
    "            row = [int(val) for val in board[i] if val != \".\"]\n",
    "            print(row)\n",
    "            if not sorted(row) == sorted(list(set(row))):\n",
    "                isValid = False\n",
    "            for val in row:\n",
    "                if not val in valid:\n",
    "                    isValid = False\n",
    "        print(f'rows are {isValid}')\n",
    "        # Step 2 validate cols\n",
    "        colCount = 0\n",
    "        while colCount < len(board):\n",
    "            col = []\n",
    "            for i in range(len(board)):\n",
    "                col.append(board[i][colCount])\n",
    "            col = [int(val) for val in col if val != \".\"]\n",
    "            print(col)\n",
    "            if not sorted(col) == sorted(list(set(col))):\n",
    "                isValid = False\n",
    "            for val in col:\n",
    "                if not val in valid:\n",
    "                    isValid = False\n",
    "            colCount += 1\n",
    "        print(f'cols are {isValid}')\n",
    "        # Step 3 validate blocks\n",
    "        layer = 0\n",
    "        block = 0\n",
    "        for i in range(len(board)):\n",
    "            vals = []\n",
    "            if block == 9:\n",
    "                block = 0\n",
    "                layer += 3\n",
    "            for j in range(3):\n",
    "                for i in range(3):\n",
    "                    vals.append(board[block + j][layer + i])\n",
    "            vals = [int(val) for val in vals if val != \".\"]\n",
    "            print(vals)\n",
    "            if not sorted(vals) == sorted(list(set(vals))):\n",
    "                isValid = False\n",
    "            for val in vals:\n",
    "                if not val in valid:\n",
    "                    isValid = False\n",
    "            block += 3\n",
    "        print(f'blocks are {isValid}')\n",
    "        return isValid"
   ]
  },
  {
   "cell_type": "markdown",
   "id": "2ab3ead5",
   "metadata": {},
   "source": [
    "- This task was pretty straightforward. I went through it in three distinct steps.\n",
    "- First, I extracted the rows of the board, and validated them by making sure that each `row` only contains unique values from 1 to 9.\n",
    "- The second and third step follow the exact same pattern, although I had to put some more effort into properly indexing the blocks in step three."
   ]
  },
  {
   "cell_type": "markdown",
   "id": "14b0fe6c",
   "metadata": {},
   "source": [
    "### 49. Group Anagrams"
   ]
  },
  {
   "cell_type": "code",
   "execution_count": null,
   "id": "5aa3c2f1",
   "metadata": {},
   "outputs": [],
   "source": [
    "class Solution:\n",
    "    def groupAnagrams(self, strs: List[str]) -> List[List[str]]:\n",
    "        res = defaultdict(list)\n",
    "\n",
    "        for string in strs:\n",
    "            count = [0] * 26\n",
    "\n",
    "            for c in string:\n",
    "                count[ord(c) - ord('a')] += 1\n",
    "\n",
    "            res[tuple(count)].append(string)\n",
    "\n",
    "        return res.values()"
   ]
  },
  {
   "cell_type": "markdown",
   "id": "362f92a8",
   "metadata": {},
   "source": [
    "- The way this works is, we create a list `count` for each string, which holds 26 fields, representing the frequency of the lowercase letters of the alphabet. \n",
    "- Then we go through the characters of each string and populate `count`. For example the string `cab` would result in `[1,1,1,0,0,...]`\n",
    "- This will then be used as the key in the `res` dictionary, where we append the string to the corresponding list of values.\n",
    "- These values are then returned as the result.\n",
    "- An intuitive way to think about this, is that we are using histograms as keys, and lists of values fitting the pattern of the histogram, as values."
   ]
  },
  {
   "attachments": {
    "GroupAnagrams.png": {
     "image/png": "[encoded data removed]"
    }
   },
   "cell_type": "markdown",
   "id": "b7335b19",
   "metadata": {},
   "source": [
    "![GroupAnagrams.png](attachment:GroupAnagrams.png)"
   ]
  },
  {
   "cell_type": "markdown",
   "id": "1c151092",
   "metadata": {},
   "source": [
    "### 118. Pascal's Triangle"
   ]
  },
  {
   "cell_type": "code",
   "execution_count": null,
   "id": "df1a539f",
   "metadata": {},
   "outputs": [],
   "source": [
    "class Solution:\n",
    "    def generate(self, numRows: int) -> List[List[int]]:\n",
    "        if numRows == 0: return []\n",
    "        if numRows == 1: return [[1]]\n",
    "        if numRows == 2: return [[1],[1,1]]\n",
    "        \n",
    "        def getNext(row):\n",
    "            n = [1]*(len(row)+1)\n",
    "            for i in range(len(row)-1):\n",
    "                n[i+1] = row[i] + row[i+1]\n",
    "            return n\n",
    "    \n",
    "        res = [[1],[1,1]]\n",
    "        r = 2\n",
    "        while r < numRows:\n",
    "            res.append(getNext(res[r-1]))\n",
    "            r += 1\n",
    "\n",
    "        return res"
   ]
  },
  {
   "cell_type": "markdown",
   "id": "11b6bfb4",
   "metadata": {},
   "source": [
    "- I solved this problem by defining a helper function `getNext` that will calculate the next `row` of the **Pascal Triangle** for any given `row`.\n",
    "- All that was left to do then was to calculate the rows up until `numRows`."
   ]
  },
  {
   "cell_type": "markdown",
   "id": "141d14a3",
   "metadata": {},
   "source": [
    "### 128. Longest Consecutive Sequence"
   ]
  },
  {
   "cell_type": "code",
   "execution_count": null,
   "id": "336ea36d",
   "metadata": {},
   "outputs": [],
   "source": [
    "class Solution:\n",
    "    def longestConsecutive(self, nums: List[int]) -> int:\n",
    "        if nums == []:\n",
    "            return 0\n",
    "        s_nums = sorted(list(set(nums)))\n",
    "        count = 1\n",
    "        res = 1\n",
    "        for i in range(len(s_nums) - 1):\n",
    "            if s_nums[i] == s_nums[i+1] - 1:\n",
    "                count += 1\n",
    "                if i == len(s_nums) - 2 and count > res:\n",
    "                    res = count\n",
    "            else:\n",
    "                if count > res:\n",
    "                    res = count\n",
    "                count = 1\n",
    "        return res"
   ]
  },
  {
   "cell_type": "markdown",
   "id": "4c54db14",
   "metadata": {},
   "source": [
    "- To solve this problem, I first converted `nums` into a sorted and unique list `s_nums`. \n",
    "- Similarly to finding the maximum value in a list, I traversed `s_nums` and saved the state of the longest sequence of elements increasing by steps of one, inside of `res`."
   ]
  },
  {
   "cell_type": "markdown",
   "id": "f7fdf0a0",
   "metadata": {},
   "source": [
    "### 217. Contains Duplicate "
   ]
  },
  {
   "cell_type": "code",
   "execution_count": null,
   "id": "5f5833e7",
   "metadata": {},
   "outputs": [],
   "source": [
    "class Solution:\n",
    "    def containsDuplicate(self, nums: List[int]) -> bool:\n",
    "        return not len(set(nums)) == len(nums)"
   ]
  },
  {
   "cell_type": "markdown",
   "id": "8e30e20f",
   "metadata": {},
   "source": [
    "- A list contains at least one duplicate if the length of its set is less than its length."
   ]
  },
  {
   "cell_type": "markdown",
   "id": "5eb3cc84",
   "metadata": {},
   "source": [
    "### 225. Implement Stack using Queues"
   ]
  },
  {
   "cell_type": "code",
   "execution_count": null,
   "id": "84d8bdd6",
   "metadata": {},
   "outputs": [],
   "source": [
    "class MyStack:\n",
    "\n",
    "    def __init__(self):\n",
    "        self.s = collections.deque()\n",
    "\n",
    "    def push(self, x: int) -> None:\n",
    "        self.s.append(x)\n",
    "        # reverse the order such that the top of the stack is always at the front\n",
    "        for _ in range(len(self.s)-1):\n",
    "            self.s.append(self.s.popleft())\n",
    "        \n",
    "    def pop(self) -> int:\n",
    "        return self.s.popleft()\n",
    "\n",
    "    def top(self) -> int:\n",
    "        return self.s[0]\n",
    "\n",
    "    def empty(self) -> bool:\n",
    "        return len(self.s) == 0\n",
    "        \n",
    "\n",
    "\n",
    "# Your MyStack object will be instantiated and called as such:\n",
    "# obj = MyStack()\n",
    "# obj.push(x)\n",
    "# param_2 = obj.pop()\n",
    "# param_3 = obj.top()\n",
    "# param_4 = obj.empty()"
   ]
  },
  {
   "cell_type": "markdown",
   "id": "55d76e39",
   "metadata": {},
   "source": [
    "- The restrictions here were basically that you were not allowed to use the `pop` operation or access an index other than the first index in the queue.\n",
    "- To get around these restrictions, the queue representing the stack, `s`, had to be reordered on every `push` operation such that the newly appended item would be rotated towards the front by repeatedly popping the item in the front position and appending it to the back of the queue."
   ]
  },
  {
   "cell_type": "markdown",
   "id": "ce88ec82",
   "metadata": {},
   "source": [
    "### 238. Product of Array Except Self"
   ]
  },
  {
   "cell_type": "code",
   "execution_count": null,
   "id": "d06f5800",
   "metadata": {},
   "outputs": [],
   "source": [
    "class Solution:\n",
    "    #step 1: save the product for each unique number in a dict\n",
    "    #step 2: go through nums and for each number paste the corresponding value of the dict into the result array \n",
    "    def prod(self, nums: List[int]) -> int:\n",
    "        prod = 1\n",
    "        for i in range(len(nums)):\n",
    "            prod = prod * nums[i]\n",
    "        return prod\n",
    "\n",
    "    def productExceptSelf(self, nums: List[int]) -> List[int]:\n",
    "        unique = list(set(nums))\n",
    "        uniqueDict = defaultdict(int)\n",
    "        for num in unique:\n",
    "            temp = nums.copy()\n",
    "            nums.remove(num)\n",
    "            uniqueDict[num] = self.prod(nums)\n",
    "            nums = temp \n",
    "        res = [0] * len(nums)\n",
    "        for count, num in enumerate(nums):\n",
    "            res[count] = uniqueDict[num]\n",
    "        return res"
   ]
  },
  {
   "cell_type": "markdown",
   "id": "89cc2f80",
   "metadata": {},
   "source": [
    "- What I have done to drastically improve the performance and reduce the complexity to O(n), was to first retrieve all unique values inside of `nums`, and save them inside of `unique`.\n",
    "- Then I created a dictionary `uniqueDict`, which would hold the product corresponding to each of the unique numbers.\n",
    "- Lastly I went through `nums` and populated the `res` list with the matching dictionary entries for each `num` in `nums`."
   ]
  },
  {
   "cell_type": "markdown",
   "id": "42c3cf35",
   "metadata": {},
   "source": [
    "### 242. Valid Anagram"
   ]
  },
  {
   "cell_type": "code",
   "execution_count": 2,
   "id": "7eb13482",
   "metadata": {},
   "outputs": [],
   "source": [
    "class Solution:\n",
    "    def isAnagram(self, s: str, t: str) -> bool:\n",
    "        for char in s:\n",
    "            if t == '':\n",
    "                return False\n",
    "            t = t.replace(char, '', 1)\n",
    "        if t != '':\n",
    "            return False\n",
    "        return True"
   ]
  },
  {
   "cell_type": "markdown",
   "id": "a2bf94d1",
   "metadata": {},
   "source": [
    "- We iterate over the letters in `s` and replace them in `t`. If `s` and `t` are not both empty afterwards, they are not anagrams."
   ]
  },
  {
   "cell_type": "markdown",
   "id": "f502c6f7",
   "metadata": {},
   "source": [
    "### 338. Counting Bits"
   ]
  },
  {
   "cell_type": "code",
   "execution_count": null,
   "id": "439f5563",
   "metadata": {},
   "outputs": [],
   "source": [
    "class Solution:\n",
    "    def countBits(self, n: int) -> List[int]:\n",
    "        \n",
    "        res = []\n",
    "        for b in range(n+1):\n",
    "            c = collections.Counter(bin(b))\n",
    "            res.append(c['1'] if '1' in c else 0)\n",
    "        return res"
   ]
  },
  {
   "cell_type": "markdown",
   "id": "a461bb82",
   "metadata": {},
   "source": [
    "- I simply iterated through the range from `0` to `n` and counted the number of 1s in the binary representation of each number."
   ]
  },
  {
   "cell_type": "markdown",
   "id": "420355f5",
   "metadata": {},
   "source": [
    "### 347. Top K Frequent Elements"
   ]
  },
  {
   "cell_type": "code",
   "execution_count": null,
   "id": "b4c2680a",
   "metadata": {},
   "outputs": [],
   "source": [
    "class Solution:\n",
    "    def topKFrequent(self, nums: List[int], k: int) -> List[int]:\n",
    "        counter = dict(Counter(nums))\n",
    "        counter = dict(sorted(counter.items(), key=lambda item: item[1]))\n",
    "        counterList = list(reversed(list(counter.keys())))\n",
    "        res = []\n",
    "        for i in range(k):\n",
    "            res.append(counterList[i])\n",
    "        return res"
   ]
  },
  {
   "cell_type": "markdown",
   "id": "47d89262",
   "metadata": {},
   "source": [
    "- My thought process here was to use the `Counter` object from python to count the occurences of each number in `nums`, and return the `k` most frequent numbers.\n",
    "- To retrieve the most frequent numbers, I sorted the `counter` dictionary by it's values (ascending), extracted the keys as `counterList`, reversed `counterList` for a descending ordering, and returned the `k` first keys."
   ]
  },
  {
   "cell_type": "markdown",
   "id": "e37fe2b5",
   "metadata": {},
   "source": [
    "### 459. Repeated Substring Pattern"
   ]
  },
  {
   "cell_type": "code",
   "execution_count": null,
   "id": "86f3b137",
   "metadata": {},
   "outputs": [],
   "source": [
    "class Solution:\n",
    "    def repeatedSubstringPattern(self, s: str) -> bool:\n",
    "        def constructible(sub):\n",
    "            constructed = \"\"\n",
    "            while len(constructed) < len(s):\n",
    "                constructed += sub\n",
    "                if constructed != s[:len(constructed)]: return False\n",
    "            return True\n",
    "        \n",
    "        for i in range(len(s)//2):\n",
    "            if len(s)%(i+1): continue\n",
    "            if constructible(s[:i+1]):\n",
    "                return True\n",
    "        return False"
   ]
  },
  {
   "cell_type": "markdown",
   "id": "aab924a0",
   "metadata": {},
   "source": [
    "- We iterate over the first half of the given string `s` and try out every substring in that range using the helper function `constructible`.\n",
    "- When a substring can be made into the original string, `constructible` returns `True`, and we return `True`."
   ]
  },
  {
   "cell_type": "markdown",
   "id": "a5f527b6",
   "metadata": {},
   "source": [
    "### 647. Palindromic Substrings"
   ]
  },
  {
   "cell_type": "code",
   "execution_count": null,
   "id": "6893b5bb",
   "metadata": {},
   "outputs": [],
   "source": [
    "class Solution:\n",
    "    def countSubstrings(self, s: str) -> int:\n",
    "        \n",
    "        def countPalis(i, variant):\n",
    "            l = i\n",
    "            r = i if variant == \"odd\" else i+1\n",
    "            count = 0\n",
    "            while l >= 0 and r <= len(s)-1:\n",
    "                if s[l] == s[r]:\n",
    "                    count += 1\n",
    "                    l -= 1\n",
    "                    r += 1\n",
    "                else: break\n",
    "            return count\n",
    "\n",
    "        res = 0\n",
    "        for i in range(len(s)):\n",
    "            res += countPalis(i, \"odd\")\n",
    "            res += countPalis(i, \"even\")\n",
    "        return res"
   ]
  },
  {
   "cell_type": "markdown",
   "id": "1e2abe13",
   "metadata": {},
   "source": [
    "- The way I solved this problem was to count the number of palindromes of even and odd length that can be constructed via the method explained in the previous solution at every index and add them to the result, `res`. "
   ]
  },
  {
   "cell_type": "markdown",
   "id": "c7c6075d",
   "metadata": {},
   "source": [
    "### 1337. The K Weakest Rows in a Matrix"
   ]
  },
  {
   "cell_type": "code",
   "execution_count": null,
   "id": "be220b98",
   "metadata": {},
   "outputs": [],
   "source": [
    "class Solution:\n",
    "    def kWeakestRows(self, mat: List[List[int]], k: int) -> List[int]:\n",
    "        indices = list(range(len(mat)))\n",
    "        mat = list(zip(mat,indices))\n",
    "        mat.sort(key=lambda x: len([ num for num in x[0] if num == 1 ]))\n",
    "        return [ mat[i][1] for i in range(k) ]"
   ]
  },
  {
   "cell_type": "markdown",
   "id": "3f8a92de",
   "metadata": {},
   "source": [
    "- To solve this problem, I zipped the rows of the given matrix, `mat`, with their `indices` and then sorted them by the number of 1's they contain.\n",
    "- Lastly, I returned the indices of the first `k` elements of the sorted matrix."
   ]
  }
 ],
 "metadata": {
  "kernelspec": {
   "display_name": "Python 3 (ipykernel)",
   "language": "python",
   "name": "python3"
  },
  "language_info": {
   "codemirror_mode": {
    "name": "ipython",
    "version": 3
   },
   "file_extension": ".py",
   "mimetype": "text/x-python",
   "name": "python",
   "nbconvert_exporter": "python",
   "pygments_lexer": "ipython3",
   "version": "3.10.9"
  }
 },
 "nbformat": 4,
 "nbformat_minor": 5
}
