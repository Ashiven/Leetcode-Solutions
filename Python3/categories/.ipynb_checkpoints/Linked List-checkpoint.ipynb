{
 "cells": [
  {
   "cell_type": "markdown",
   "id": "6c821f15",
   "metadata": {},
   "source": [
    "### 86. Partition List"
   ]
  },
  {
   "cell_type": "code",
   "execution_count": null,
   "id": "eec067a7",
   "metadata": {},
   "outputs": [],
   "source": [
    "# Definition for singly-linked list.\n",
    "# class ListNode:\n",
    "#     def __init__(self, val=0, next=None):\n",
    "#         self.val = val\n",
    "#         self.next = next\n",
    "class Solution:\n",
    "    def partition(self, head: Optional[ListNode], x: int) -> Optional[ListNode]:\n",
    "        p_head = ListNode()\n",
    "        p_curr = p_head\n",
    "        curr = head\n",
    "        \n",
    "        prev = None\n",
    "        while curr:\n",
    "            if curr.val < x:\n",
    "                p_curr.next = curr\n",
    "                p_curr = curr\n",
    "                if curr == head:\n",
    "                    head = head.next\n",
    "                else:\n",
    "                    prev.next = curr.next\n",
    "            else:\n",
    "                prev = curr\n",
    "            curr = curr.next\n",
    "\n",
    "        p_curr.next = head\n",
    "        return p_head.next"
   ]
  },
  {
   "cell_type": "markdown",
   "id": "7c6854c5",
   "metadata": {},
   "source": [
    "- We traverse the given **Linked List** once, and whenever we encounter a node with a value less than `x`, we add it to our partition list that starts with `p_head` and remove it from the original list.\n",
    "- Lastly, we append the `head` of the original list to the end of our partition list."
   ]
  },
  {
   "cell_type": "markdown",
   "id": "e85ff140",
   "metadata": {},
   "source": [
    "### 92. Reverse Linked List II"
   ]
  },
  {
   "cell_type": "code",
   "execution_count": null,
   "id": "69f9b37e",
   "metadata": {},
   "outputs": [],
   "source": [
    "# Definition for singly-linked list.\n",
    "# class ListNode:\n",
    "#     def __init__(self, val=0, next=None):\n",
    "#         self.val = val\n",
    "#         self.next = next\n",
    "class Solution:\n",
    "    def reverseBetween(self, head: Optional[ListNode], left: int, right: int) -> Optional[ListNode]:\n",
    "        \n",
    "        # Step 1: split up linked list\n",
    "        curr,prev = head,None\n",
    "        before,after = None,None\n",
    "        rev_head,rev_tail = None,None\n",
    "        length = 1\n",
    "        while curr:\n",
    "            if length == left:\n",
    "                before = prev\n",
    "                rev_head = curr\n",
    "            if length == right:\n",
    "                rev_tail = curr\n",
    "                after = curr.next\n",
    "            prev = curr\n",
    "            curr = curr.next\n",
    "            length += 1\n",
    "        \n",
    "        # Step 2: reverse the selected slice with a stack\n",
    "        stack = []\n",
    "        curr = rev_head\n",
    "        while curr:\n",
    "            stack.append(curr)\n",
    "            if curr is rev_tail:\n",
    "                break\n",
    "            curr = curr.next\n",
    "        \n",
    "        rev_head = stack[-1]\n",
    "        prev = None\n",
    "        while stack:\n",
    "            curr = stack.pop()\n",
    "            curr.next = None\n",
    "            if curr is not rev_head:\n",
    "                prev.next = curr\n",
    "            prev = curr\n",
    "        rev_tail = curr\n",
    "    \n",
    "        # Step 3: concatenate the reversed slice with the remainder\n",
    "        if before: before.next = rev_head\n",
    "        if after: rev_tail.next = after\n",
    "        if left == 1: head = rev_head\n",
    "            \n",
    "        return head"
   ]
  },
  {
   "cell_type": "markdown",
   "id": "c9f4dd1b",
   "metadata": {},
   "source": [
    "- I solved this problem in three distinct steps.\n",
    "- First, I iterated through the given linked list and put references on the head of the inner linked list `rev_head` and the last node of the inner linked list `rev_tail`, and I also put references on the node just before the beginning of the inner linked list `before` and the node just after the last node of the inner linked list `after`.\n",
    "- Then I used a `stack` to reverse the nodes of the inner linked list.\n",
    "- Lastly, I reconnected the now reversed inner list with the node `before` and the node `after`."
   ]
  },
  {
   "cell_type": "markdown",
   "id": "dc80e221",
   "metadata": {},
   "source": [
    "### 138. Copy List with Random Pointer"
   ]
  },
  {
   "cell_type": "code",
   "execution_count": null,
   "id": "0512038f",
   "metadata": {},
   "outputs": [],
   "source": [
    "\"\"\"\n",
    "# Definition for a Node.\n",
    "class Node:\n",
    "    def __init__(self, x: int, next: 'Node' = None, random: 'Node' = None):\n",
    "        self.val = int(x)\n",
    "        self.next = next\n",
    "        self.random = random\n",
    "\"\"\"\n",
    "\n",
    "class Solution:\n",
    "    def copyRandomList(self, head: 'Optional[Node]') -> 'Optional[Node]':\n",
    "        if not head: return None\n",
    "    \n",
    "        d = defaultdict(list)  \n",
    "        curr = head\n",
    "        while curr:\n",
    "            d[curr].append(curr.next)\n",
    "            d[curr].append(curr.random)\n",
    "            c = Node(curr.val,None,None)\n",
    "            d[curr].append(c)\n",
    "            curr = curr.next\n",
    "            \n",
    "        curr = head\n",
    "        while curr:\n",
    "            c = d[curr][2]\n",
    "            c.next = d[d[curr][0]][2] if d[curr][0] else None\n",
    "            c.random = d[d[curr][1]][2] if d[curr][1] else None\n",
    "            curr = curr.next\n",
    "            \n",
    "        return d[head][2]"
   ]
  },
  {
   "cell_type": "markdown",
   "id": "487e773b",
   "metadata": {},
   "source": [
    "- This problem can be solved with the help of a dictionary that will store the `next` node, the `random` node, and a copy `c` for every node in the given linked list.\n",
    "- After constructing this dictonary, `d`, we will iterate over the given linked list once more to connect every node's copy with its `next` node and `random` node according to the entries in `d`."
   ]
  },
  {
   "cell_type": "markdown",
   "id": "36547da1",
   "metadata": {},
   "source": [
    "### 141. Linked List Cycle"
   ]
  },
  {
   "cell_type": "code",
   "execution_count": null,
   "id": "3fb564a4",
   "metadata": {},
   "outputs": [],
   "source": [
    "# Definition for singly-linked list.\n",
    "# class ListNode:\n",
    "#     def __init__(self, x):\n",
    "#         self.val = x\n",
    "#         self.next = None\n",
    "\n",
    "class Solution:\n",
    "    def hasCycle(self, head: Optional[ListNode]) -> bool:\n",
    "        slow,fast = head,head\n",
    "        while slow:\n",
    "            slow = slow.next\n",
    "            fast = fast.next.next if fast and fast.next else None\n",
    "            if slow and fast and slow == fast: \n",
    "                return True\n",
    "        return False"
   ]
  },
  {
   "cell_type": "markdown",
   "id": "89fb430b",
   "metadata": {},
   "source": [
    "- This problem is quite trivial to solve if you know **Floyd's Algorithm**.\n",
    "- We put a `slow` pointer and a `fast` pointer at the beginning of the linked list and increment the `slow` pointer by one while incrementing the `fast` pointer by two in every iteration.\n",
    "- If the linked list contains a cycle, the two pointers will eventually overlap."
   ]
  },
  {
   "cell_type": "markdown",
   "id": "44ae88d4",
   "metadata": {},
   "source": [
    "### 725. Split Linked List in Parts"
   ]
  },
  {
   "cell_type": "code",
   "execution_count": null,
   "id": "733ba726",
   "metadata": {},
   "outputs": [],
   "source": [
    "# Definition for singly-linked list.\n",
    "# class ListNode:\n",
    "#     def __init__(self, val=0, next=None):\n",
    "#         self.val = val\n",
    "#         self.next = next\n",
    "class Solution:\n",
    "    def splitListToParts(self, head: Optional[ListNode], k: int) -> List[Optional[ListNode]]:\n",
    "        if k == 1:\n",
    "            return [head]\n",
    "        if head and not head.next:\n",
    "            return [head] + [ListNode(\"\") for _ in range(k-1)]\n",
    "        if not head:\n",
    "            return [ListNode(\"\") for _ in range(k)]\n",
    "        \n",
    "        curr,l = head,0\n",
    "        while curr:\n",
    "            l += 1\n",
    "            curr = curr.next\n",
    "            \n",
    "        sub_len = l // k\n",
    "        extra = l % k\n",
    "        \n",
    "        res = []\n",
    "        curr = head\n",
    "        curr_head = head\n",
    "        count = 1\n",
    "        while curr:\n",
    "            if extra and count == sub_len+1:\n",
    "                extra -= 1\n",
    "                count = 0\n",
    "                res.append(curr_head)\n",
    "                curr_head = curr.next\n",
    "                curr.next = None\n",
    "                curr = curr_head\n",
    "            elif not extra and count == sub_len:\n",
    "                count = 0\n",
    "                res.append(curr_head)\n",
    "                curr_head = curr.next\n",
    "                curr.next = None\n",
    "                curr = curr_head\n",
    "            else:\n",
    "                curr = curr.next\n",
    "            count += 1\n",
    "            \n",
    "        \n",
    "        for _ in range(l, k):\n",
    "            res.append(ListNode(\"\"))\n",
    "        return res"
   ]
  },
  {
   "cell_type": "markdown",
   "id": "1523ce9d",
   "metadata": {},
   "source": [
    "- To solve this problem, I started by calculating the length of the given linked list and saving it in the variable `l`.\n",
    "- Then I retrieved the length of individual sub-lists, `sub_len`, and the remaining length, `extra`.\n",
    "- Lastly, I iterated through the linked list and constructed the result, `res`, according to the previously calculated lengths."
   ]
  }
 ],
 "metadata": {
  "kernelspec": {
   "display_name": "Python 3 (ipykernel)",
   "language": "python",
   "name": "python3"
  },
  "language_info": {
   "codemirror_mode": {
    "name": "ipython",
    "version": 3
   },
   "file_extension": ".py",
   "mimetype": "text/x-python",
   "name": "python",
   "nbconvert_exporter": "python",
   "pygments_lexer": "ipython3",
   "version": "3.10.9"
  }
 },
 "nbformat": 4,
 "nbformat_minor": 5
}
