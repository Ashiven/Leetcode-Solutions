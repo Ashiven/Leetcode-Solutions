{
 "cells": [
  {
   "cell_type": "markdown",
   "id": "79d77eeb",
   "metadata": {},
   "source": [
    "### 62. Unique Paths"
   ]
  },
  {
   "cell_type": "code",
   "execution_count": null,
   "id": "0b638bb9",
   "metadata": {},
   "outputs": [],
   "source": [
    "class Solution:\n",
    "    def uniquePaths(self, m: int, n: int) -> int:\n",
    "        dp = [ [0]*n for _ in range(m) ]\n",
    "        dp[0][0] = 1\n",
    "        \n",
    "        for i in range(m):\n",
    "            for j in range(n):\n",
    "                if i > 0: dp[i][j] += dp[i-1][j]\n",
    "                if j > 0: dp[i][j] += dp[i][j-1]\n",
    "                    \n",
    "        return dp[m-1][n-1]"
   ]
  },
  {
   "cell_type": "markdown",
   "id": "d3cf69b9",
   "metadata": {},
   "source": [
    "- I solved this problem with **Tabulation**, where every entry in the dynamic programming list `dp` holds the number of unique paths to reach that particular field in the given matrix."
   ]
  },
  {
   "cell_type": "markdown",
   "id": "87296740",
   "metadata": {},
   "source": [
    "### 63. Unique Paths II"
   ]
  },
  {
   "cell_type": "code",
   "execution_count": null,
   "id": "70bcec7a",
   "metadata": {},
   "outputs": [],
   "source": [
    "class Solution:\n",
    "    def uniquePathsWithObstacles(self, obstacleGrid: List[List[int]]) -> int:\n",
    "        ROWS,COLS = len(obstacleGrid),len(obstacleGrid[0])\n",
    "        dp = [ [0]*COLS for _ in range(ROWS) ]\n",
    "        dp[0][0] = 1 if obstacleGrid[0][0] == 0 else 0\n",
    "        \n",
    "        for i in range(ROWS):\n",
    "            for j in range(COLS):\n",
    "                if obstacleGrid[i][j] != 1:\n",
    "                    if i > 0:\n",
    "                        dp[i][j] += dp[i-1][j]\n",
    "                    if j > 0:\n",
    "                        dp[i][j] += dp[i][j-1]\n",
    "        \n",
    "        return dp[ROWS-1][COLS-1]"
   ]
  },
  {
   "cell_type": "markdown",
   "id": "ef7b479a",
   "metadata": {},
   "source": [
    "- This solution is very similar to the solution to the previous problem. The only difference is that we are avoiding fields containing obstacles."
   ]
  },
  {
   "cell_type": "markdown",
   "id": "79cb83f6",
   "metadata": {},
   "source": [
    "### 920. Number of Music Playlists"
   ]
  },
  {
   "cell_type": "code",
   "execution_count": null,
   "id": "b17ffad5",
   "metadata": {},
   "outputs": [],
   "source": [
    "class Solution:\n",
    "    def numMusicPlaylists(self, n: int, goal: int, k: int) -> int:\n",
    "        MOD = 1_000_000_007\n",
    "        dp = [ [0 for _ in range(n + 1)] for _ in range(2) ]\n",
    "        dp[0][0] = 1\n",
    "\n",
    "        # i: length of the playlist  j: unique songs in the playlist\n",
    "        # dp[i][j]: number of playlists constructable with i and j\n",
    "        for i in range(1, goal+1):\n",
    "            dp[i%2][0] = 0\n",
    "            for j in range(1, min(i,n)+1): # min(i,n) because there could be less songs available(n) than the length of the playlist(i)\n",
    "                dp[i%2][j] = dp[(i-1)%2][j-1] * (n-j + 1)) % MOD # n - j  is the number of songs to choose from, having picked j songs already\n",
    "                if j > k:\n",
    "                    dp[i%2][j] = (dp[i%2][j] + dp[(i-1)%2][j] * (j-k)) % MOD\n",
    "\n",
    "        return dp[goal%2][n]"
   ]
  },
  {
   "cell_type": "markdown",
   "id": "521743eb",
   "metadata": {},
   "source": [
    "- I did not come up with this solution myself, that much is for sure.\n",
    "- This is also the first time that I don't really understand a solution even after looking at it, so I can't really give an explanation here."
   ]
  }
 ],
 "metadata": {
  "kernelspec": {
   "display_name": "Python 3 (ipykernel)",
   "language": "python",
   "name": "python3"
  },
  "language_info": {
   "codemirror_mode": {
    "name": "ipython",
    "version": 3
   },
   "file_extension": ".py",
   "mimetype": "text/x-python",
   "name": "python",
   "nbconvert_exporter": "python",
   "pygments_lexer": "ipython3",
   "version": "3.10.9"
  }
 },
 "nbformat": 4,
 "nbformat_minor": 5
}
