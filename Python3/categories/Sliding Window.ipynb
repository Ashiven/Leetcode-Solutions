{
 "cells": [
  {
   "cell_type": "markdown",
   "id": "d97805d5",
   "metadata": {},
   "source": [
    "### 239. Sliding Window Maximum"
   ]
  },
  {
   "cell_type": "code",
   "execution_count": null,
   "id": "7170d73c",
   "metadata": {},
   "outputs": [],
   "source": [
    "class Solution:\n",
    "    def maxSlidingWindow(self, nums: List[int], k: int) -> List[int]:\n",
    "        d = collections.deque()\n",
    "        l,r = 0,0\n",
    "        res = []\n",
    "        while r < len(nums):\n",
    "            while d and nums[r] > nums[d[-1]]:\n",
    "                d.pop()\n",
    "            d.append(r)\n",
    "            if d[0] < l:\n",
    "                d.popleft()\n",
    "            if r+1 >= k:\n",
    "                l += 1\n",
    "                res.append(nums[d[0]])\n",
    "            r += 1\n",
    "        return res"
   ]
  },
  {
   "cell_type": "markdown",
   "id": "ad4d9eb6",
   "metadata": {},
   "source": [
    "- For every new window, we pop every value that is smaller than the new right element `nums[r]` from the deque `d` such that `d[0]` will always hold the index to the largest value for each window.\n",
    "- Every time we shift the window, we also have to ensure that `d` doesn't hold indices that are out of bounds to the left, which is ensured via the second conditional statement."
   ]
  }
 ],
 "metadata": {
  "kernelspec": {
   "display_name": "Python 3 (ipykernel)",
   "language": "python",
   "name": "python3"
  },
  "language_info": {
   "codemirror_mode": {
    "name": "ipython",
    "version": 3
   },
   "file_extension": ".py",
   "mimetype": "text/x-python",
   "name": "python",
   "nbconvert_exporter": "python",
   "pygments_lexer": "ipython3",
   "version": "3.10.9"
  }
 },
 "nbformat": 4,
 "nbformat_minor": 5
}
