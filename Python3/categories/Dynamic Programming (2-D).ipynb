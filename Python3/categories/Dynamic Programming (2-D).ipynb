{
 "cells": [
  {
   "cell_type": "markdown",
   "id": "79d77eeb",
   "metadata": {},
   "source": [
    "### 62. Unique Paths"
   ]
  },
  {
   "cell_type": "code",
   "execution_count": null,
   "id": "0b638bb9",
   "metadata": {},
   "outputs": [],
   "source": [
    "class Solution:\n",
    "    def uniquePaths(self, m: int, n: int) -> int:\n",
    "        dp = [ [0]*n for _ in range(m) ]\n",
    "        dp[0][0] = 1\n",
    "        \n",
    "        for i in range(m):\n",
    "            for j in range(n):\n",
    "                if i > 0: dp[i][j] += dp[i-1][j]\n",
    "                if j > 0: dp[i][j] += dp[i][j-1]\n",
    "                    \n",
    "        return dp[m-1][n-1]"
   ]
  },
  {
   "cell_type": "markdown",
   "id": "d3cf69b9",
   "metadata": {},
   "source": [
    "- I solved this problem with **Tabulation**, where every entry in the dynamic programming list `dp` holds the number of unique paths to reach that particular field in the given matrix."
   ]
  },
  {
   "cell_type": "markdown",
   "id": "87296740",
   "metadata": {},
   "source": [
    "### 63. Unique Paths II"
   ]
  },
  {
   "cell_type": "code",
   "execution_count": null,
   "id": "70bcec7a",
   "metadata": {},
   "outputs": [],
   "source": [
    "class Solution:\n",
    "    def uniquePathsWithObstacles(self, obstacleGrid: List[List[int]]) -> int:\n",
    "        ROWS,COLS = len(obstacleGrid),len(obstacleGrid[0])\n",
    "        dp = [ [0]*COLS for _ in range(ROWS) ]\n",
    "        dp[0][0] = 1 if obstacleGrid[0][0] == 0 else 0\n",
    "        \n",
    "        for i in range(ROWS):\n",
    "            for j in range(COLS):\n",
    "                if obstacleGrid[i][j] != 1:\n",
    "                    if i > 0:\n",
    "                        dp[i][j] += dp[i-1][j]\n",
    "                    if j > 0:\n",
    "                        dp[i][j] += dp[i][j-1]\n",
    "        \n",
    "        return dp[ROWS-1][COLS-1]"
   ]
  },
  {
   "cell_type": "markdown",
   "id": "ef7b479a",
   "metadata": {},
   "source": [
    "- This solution is very similar to the solution to the previous problem. The only difference is that we are avoiding fields containing obstacles."
   ]
  }
 ],
 "metadata": {
  "kernelspec": {
   "display_name": "Python 3 (ipykernel)",
   "language": "python",
   "name": "python3"
  },
  "language_info": {
   "codemirror_mode": {
    "name": "ipython",
    "version": 3
   },
   "file_extension": ".py",
   "mimetype": "text/x-python",
   "name": "python",
   "nbconvert_exporter": "python",
   "pygments_lexer": "ipython3",
   "version": "3.10.9"
  }
 },
 "nbformat": 4,
 "nbformat_minor": 5
}
