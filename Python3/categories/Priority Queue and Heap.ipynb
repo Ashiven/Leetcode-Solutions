{
 "cells": [
  {
   "cell_type": "markdown",
   "id": "886bf1ca",
   "metadata": {},
   "source": [
    "### 215. Kth Largest Element in an Array"
   ]
  },
  {
   "cell_type": "code",
   "execution_count": null,
   "id": "17461ad9",
   "metadata": {},
   "outputs": [],
   "source": [
    "class Solution:\n",
    "    def findKthLargest(self, nums: List[int], k: int) -> int:\n",
    "        heap = []\n",
    "        heapify(heap)\n",
    "\n",
    "        for n in nums:\n",
    "            heappush(heap, -n)\n",
    "\n",
    "        for i in range(k-1):\n",
    "            heappop(heap)\n",
    "\n",
    "        return -heap[0]"
   ]
  },
  {
   "cell_type": "markdown",
   "id": "5d4c148e",
   "metadata": {},
   "source": [
    "- We are using the **Heap** implementation from the library `heapq` to solve this problem.\n",
    "- `heapify` returns a **MinHeap**, so we have to insert negated values for it to act like a **MaxHeap**.\n",
    "- After converting `nums` to a `heap`, we use the `heappop` method to remove the `k` largest values from the `heap`, and return the largest value, `heap[0]`."
   ]
  },
  {
   "cell_type": "markdown",
   "id": "6e3f2591",
   "metadata": {},
   "source": [
    "### 767. Reorganize String"
   ]
  },
  {
   "cell_type": "code",
   "execution_count": null,
   "id": "04799f07",
   "metadata": {},
   "outputs": [],
   "source": [
    "class Solution:\n",
    "    def reorganizeString(self, s: str) -> str:\n",
    "        c = collections.Counter(s)\n",
    "        l = [t[0] for t in c.most_common(2)]\n",
    "        \n",
    "        res = \"\"\n",
    "        while l:\n",
    "            if res and res[-1] == l[0]: return \"\"\n",
    "            res += f\"{l[0]}{l[1]}\" if len(l) == 2 else f\"{l[0]}\"\n",
    "            c.subtract(l)\n",
    "            l = [t[0] for t in c.most_common(2) if t[1] > 0]\n",
    "        return res"
   ]
  },
  {
   "cell_type": "markdown",
   "id": "42a3034b",
   "metadata": {},
   "source": [
    "- This problem is very similar to *621. Task Scheduler* in that the letters of the string could be interpreted as tasks, and the cooldown for each task is 1 round.\n",
    "- All that is left to do then is to append the most frequent task and the second most frequent task to the string until there are no more tasks left."
   ]
  }
 ],
 "metadata": {
  "kernelspec": {
   "display_name": "Python 3 (ipykernel)",
   "language": "python",
   "name": "python3"
  },
  "language_info": {
   "codemirror_mode": {
    "name": "ipython",
    "version": 3
   },
   "file_extension": ".py",
   "mimetype": "text/x-python",
   "name": "python",
   "nbconvert_exporter": "python",
   "pygments_lexer": "ipython3",
   "version": "3.10.9"
  }
 },
 "nbformat": 4,
 "nbformat_minor": 5
}
