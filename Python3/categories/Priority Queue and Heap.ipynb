{
 "cells": [
  {
   "cell_type": "markdown",
   "id": "886bf1ca",
   "metadata": {},
   "source": [
    "### 215. Kth Largest Element in an Array"
   ]
  },
  {
   "cell_type": "code",
   "execution_count": null,
   "id": "17461ad9",
   "metadata": {},
   "outputs": [],
   "source": [
    "class Solution:\n",
    "    def findKthLargest(self, nums: List[int], k: int) -> int:\n",
    "        heap = []\n",
    "        heapify(heap)\n",
    "\n",
    "        for n in nums:\n",
    "            heappush(heap, -n)\n",
    "\n",
    "        for i in range(k-1):\n",
    "            heappop(heap)\n",
    "\n",
    "        return -heap[0]"
   ]
  },
  {
   "cell_type": "markdown",
   "id": "5d4c148e",
   "metadata": {},
   "source": [
    "- We are using the **Heap** implementation from the library `heapq` to solve this problem.\n",
    "- `heapify` returns a **MinHeap**, so we have to insert negated values for it to act like a **MaxHeap**.\n",
    "- After converting `nums` to a `heap`, we use the `heappop` method to remove the `k` largest values from the `heap`, and return the largest value, `heap[0]`."
   ]
  },
  {
   "cell_type": "markdown",
   "id": "ac4f0f59",
   "metadata": {},
   "source": [
    "### 295. Find Median from Data Stream"
   ]
  },
  {
   "cell_type": "code",
   "execution_count": null,
   "id": "3e6aba80",
   "metadata": {},
   "outputs": [],
   "source": [
    "class MedianFinder:\n",
    "    def __init__(self):\n",
    "        self.nums = []\n",
    "        \n",
    "    def addNum(self, num: int) -> None:\n",
    "        bisect.insort(self.nums, num)\n",
    "        \n",
    "    def findMedian(self) -> float:\n",
    "        m = len(self.nums) // 2\n",
    "        return (self.nums[m] + self.nums[m-1])/2 if len(self.nums) % 2 == 0 else self.nums[m]\n",
    "        \n",
    "\n",
    "# Your MedianFinder object will be instantiated and called as such:\n",
    "# obj = MedianFinder()\n",
    "# obj.addNum(num)\n",
    "# param_2 = obj.findMedian()"
   ]
  },
  {
   "cell_type": "markdown",
   "id": "baa9d183",
   "metadata": {},
   "source": [
    "- Sometimes using Python really feels like cheating...\n",
    "- There is a reason why this is rated as a hard problem, and I believe it has to do with implementing `addNum()` in an efficient manner while still being able to find the median, but `bisect.insort()` is just too good.\n",
    "- I think what they expected you to do here was to use heaps in your solution."
   ]
  },
  {
   "cell_type": "markdown",
   "id": "0da77431-0834-4f5a-8793-6f33a1391117",
   "metadata": {},
   "source": [
    "### 355. Design Twitter"
   ]
  },
  {
   "cell_type": "code",
   "execution_count": null,
   "id": "66b6e4ab-0168-4e6d-9a53-73662eaec06e",
   "metadata": {},
   "outputs": [],
   "source": [
    "class Twitter:\n",
    "    def __init__(self):\n",
    "        self.posts = []\n",
    "        self.follows = defaultdict(set)\n",
    "        \n",
    "    def postTweet(self, userId: int, tweetId: int) -> None:\n",
    "        self.posts.append( (userId, tweetId) )\n",
    "        \n",
    "    def getNewsFeed(self, userId: int) -> List[int]:\n",
    "        newsfeed = []\n",
    "        offset = 0\n",
    "        while len(newsfeed) < 10:\n",
    "            try:\n",
    "                recentpost = self.posts[-1 -offset]\n",
    "                if recentpost[0] in self.follows[userId] or recentpost[0] == userId:\n",
    "                    newsfeed.append( recentpost[1] )\n",
    "            except IndexError:\n",
    "                    break\n",
    "            offset += 1\n",
    "        return newsfeed\n",
    "\n",
    "    def follow(self, followerId: int, followeeId: int) -> None:\n",
    "        self.follows[followerId].add(followeeId)\n",
    "\n",
    "    def unfollow(self, followerId: int, followeeId: int) -> None:\n",
    "        if followeeId in self.follows[followerId]:\n",
    "            self.follows[followerId].remove(followeeId)\n",
    "\n",
    "\n",
    "# Your Twitter object will be instantiated and called as such:\n",
    "# obj = Twitter()\n",
    "# obj.postTweet(userId,tweetId)\n",
    "# param_2 = obj.getNewsFeed(userId)\n",
    "# obj.follow(followerId,followeeId)\n",
    "# obj.unfollow(followerId,followeeId)"
   ]
  },
  {
   "cell_type": "markdown",
   "id": "0e8be153-560c-4613-9d45-8c27989398de",
   "metadata": {},
   "source": [
    "- Looking at the problem description, I was a bit apprehensive, but it turned out to not be that hard.\n",
    "- We use a list to keep track of all `posts` and a dictionary of sets, `follows`, to keep track of the follower relationships.\n",
    "- To retrieve the `newsfeed`, we simply collect `posts`, starting at the rightmost element, until we have either accumulated ten posts or iterated over all `posts`.\n",
    "- We also have to ensure that we collect only posts from the followees of the user or the user himself."
   ]
  },
  {
   "cell_type": "markdown",
   "id": "264b8078",
   "metadata": {},
   "source": [
    "### 621. Task Scheduler"
   ]
  },
  {
   "cell_type": "code",
   "execution_count": null,
   "id": "3c902789",
   "metadata": {},
   "outputs": [],
   "source": [
    "class Solution:\n",
    "    def leastInterval(self, tasks: List[str], n: int) -> int:\n",
    "        d = defaultdict(int)\n",
    "        for t in tasks:\n",
    "            d[t] += 1\n",
    "        pq = list( dict(sorted(d.items(), key=lambda x: x[1])).keys() )\n",
    "\n",
    "\n",
    "        offset = 0\n",
    "        res = 0\n",
    "        while tasks:\n",
    "            try:\n",
    "                currentTask = pq[-1 -offset]\n",
    "                #print(f'prioQ = {pq}  currentTask = {currentTask} (pq[{-1 -offset}])  tasks = {tasks}  [{res}]')\n",
    "                tasks.remove( currentTask )\n",
    "                if d[currentTask] > 1: d[currentTask] -= 1 \n",
    "                else: d.pop(currentTask)\n",
    "            except IndexError:\n",
    "                #print(f\"idling for one round  [{res}]\")\n",
    "                pass\n",
    "            \n",
    "            # reset the offset to 0 when it reaches n and also sort the priority queue again\n",
    "            if n == 0 or (offset > 0 and offset % n == 0):\n",
    "                offset = -1  # set to -1 because it gets incremented a few lines down\n",
    "                pq = list( dict(sorted(d.items(), key=lambda x: x[1])).keys() ) \n",
    "\n",
    "            offset += 1\n",
    "            res += 1\n",
    "\n",
    "        return res"
   ]
  },
  {
   "cell_type": "markdown",
   "id": "20c8355a",
   "metadata": {},
   "source": [
    "- I am not too happy with this solution because it is not quite as efficient as it could be due to the frequent sorting that I perform on the priority queue, `pq`.\n",
    "- How it works is that we put the `tasks` into a priority queue sorted by the frequency of the specific tasks.\n",
    "- We then remove the element in `pq` at the position of the current `offset` from `tasks` until there are no tasks left.\n",
    "- We reset the `offset` to `0` whenever  it reaches `n` and sort the priority queue `pq`, again.\n",
    "- It is best understood how we take the `offset` into account via the following graphic."
   ]
  },
  {
   "attachments": {
    "TaskScheduler.png": {
     "image/png": "[encoded data removed]"
    }
   },
   "cell_type": "markdown",
   "id": "86673ebc",
   "metadata": {},
   "source": [
    "![TaskScheduler.png](attachment:TaskScheduler.png)"
   ]
  },
  {
   "cell_type": "markdown",
   "id": "d6d9dea8",
   "metadata": {},
   "source": [
    "### 703. Kth Largest Element in a Stream"
   ]
  },
  {
   "cell_type": "code",
   "execution_count": null,
   "id": "8633ac00",
   "metadata": {},
   "outputs": [],
   "source": [
    "class KthLargest:\n",
    "    def __init__(self, k: int, nums: List[int]):\n",
    "        self.nums = sorted(nums)\n",
    "        self.k = k\n",
    "        \n",
    "    def add(self, val: int) -> int:\n",
    "        bisect.insort(self.nums, val)\n",
    "        return self.nums[-self.k]\n",
    "        \n",
    "\n",
    "# Your KthLargest object will be instantiated and called as such:\n",
    "# obj = KthLargest(k, nums)\n",
    "# param_1 = obj.add(val)"
   ]
  },
  {
   "cell_type": "markdown",
   "id": "88bad7a2",
   "metadata": {},
   "source": [
    "- As far as I am aware, my solution utilizes neither a heap nor a priority queue.\n",
    "- I should probably come up with another solution that makes use of them."
   ]
  },
  {
   "cell_type": "markdown",
   "id": "6e3f2591",
   "metadata": {},
   "source": [
    "### 767. Reorganize String"
   ]
  },
  {
   "cell_type": "code",
   "execution_count": null,
   "id": "04799f07",
   "metadata": {},
   "outputs": [],
   "source": [
    "class Solution:\n",
    "    def reorganizeString(self, s: str) -> str:\n",
    "        c = collections.Counter(s)\n",
    "        l = [t[0] for t in c.most_common(2)]\n",
    "        \n",
    "        res = \"\"\n",
    "        while l:\n",
    "            if res and res[-1] == l[0]: return \"\"\n",
    "            res += f\"{l[0]}{l[1]}\" if len(l) == 2 else f\"{l[0]}\"\n",
    "            c.subtract(l)\n",
    "            l = [t[0] for t in c.most_common(2) if t[1] > 0]\n",
    "        return res"
   ]
  },
  {
   "cell_type": "markdown",
   "id": "42a3034b",
   "metadata": {},
   "source": [
    "- This problem is very similar to *621. Task Scheduler* in that the letters of the string could be interpreted as tasks, and the cooldown for each task is 1 round.\n",
    "- All that is left to do then is to append the most frequent task and the second most frequent task to the string until there are no more tasks left."
   ]
  },
  {
   "cell_type": "markdown",
   "id": "43540e58-7a2f-48ed-860c-970c91d450d3",
   "metadata": {},
   "source": [
    "### 973. K Closest Points to Origin"
   ]
  },
  {
   "cell_type": "code",
   "execution_count": null,
   "id": "bf4034dd-727b-4ca7-b540-b8be920f47b8",
   "metadata": {},
   "outputs": [],
   "source": [
    "class Solution:\n",
    "    def kClosest(self, points: List[List[int]], k: int) -> List[List[int]]:\n",
    "        s_points = sorted(points, key=lambda p: p[0]**2 + p[1]**2)\n",
    "        return s_points[:k]"
   ]
  },
  {
   "cell_type": "markdown",
   "id": "a3abac65-4f07-44d7-83ef-b876a28965f8",
   "metadata": {},
   "source": [
    "- I will also add a solution for this that uses a priority queue a bit later on.\n",
    "- What I have done here is sort the given `points` by the square of their euclidian distance to the origin, and then I return the first `k` elements."
   ]
  },
  {
   "cell_type": "markdown",
   "id": "4c44a70c-6933-454b-be54-920ec9e8c06f",
   "metadata": {},
   "source": [
    "### 1046. Last Stone Weight"
   ]
  },
  {
   "cell_type": "code",
   "execution_count": null,
   "id": "a3cf6a15",
   "metadata": {},
   "outputs": [],
   "source": [
    "class Solution:\n",
    "    def lastStoneWeight(self, stones: List[int]) -> int:\n",
    "        s_stones = sorted(stones)\n",
    "\n",
    "        while len(s_stones) > 1:\n",
    "            stone1 = s_stones.pop()\n",
    "            stone2 = s_stones.pop()\n",
    "            if stone1 > stone2:\n",
    "                stones.remove(stone2)\n",
    "                i = stones.index(stone1)\n",
    "                stones[i] = stone1-stone2\n",
    "                bisect.insort(s_stones, stones[i])\n",
    "            elif stone1 == stone2:\n",
    "                stones.remove(stone1)\n",
    "                stones.remove(stone2)\n",
    "\n",
    "        return stones[0] if len(stones) == 1 else 0"
   ]
  },
  {
   "cell_type": "markdown",
   "id": "63d89f6a-e5dc-4343-aec3-c4ba3fb608ff",
   "metadata": {},
   "source": [
    "- The way this works is that we first sort the list of `stones` and store the sorted list in `s_stones`, which we will treat as some sort of **priority queue**.\n",
    "- Then we iterate over `s_stones` as long as it contains more than one element, and we `pop` the two heaviest stones, `stone1` and `stone2`, from the priority queue.\n",
    "- If the stones are not of equal weight, we `remove` the lighter stone, `stone2`, from `stones` and update the value of the heavier one. It is also important to note that we reinserted `stone1` into the priority queue because we did not remove it from `stones`.\n",
    "- Lastly, if the stones are of equal weight, we simply `remove` both of them from `stones`."
   ]
  }
 ],
 "metadata": {
  "kernelspec": {
   "display_name": "Python 3 (ipykernel)",
   "language": "python",
   "name": "python3"
  },
  "language_info": {
   "codemirror_mode": {
    "name": "ipython",
    "version": 3
   },
   "file_extension": ".py",
   "mimetype": "text/x-python",
   "name": "python",
   "nbconvert_exporter": "python",
   "pygments_lexer": "ipython3",
   "version": "3.10.9"
  }
 },
 "nbformat": 4,
 "nbformat_minor": 5
}
