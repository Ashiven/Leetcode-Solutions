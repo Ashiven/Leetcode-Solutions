{
 "cells": [
  {
   "cell_type": "markdown",
   "id": "5e984dd6",
   "metadata": {},
   "source": [
    "### 46. Permutations"
   ]
  },
  {
   "cell_type": "code",
   "execution_count": null,
   "id": "95a6fd81",
   "metadata": {},
   "outputs": [],
   "source": [
    "class Solution:\n",
    "    def permute(self, nums: List[int]) -> List[List[int]]:\n",
    "        p = itertools.permutations(nums, len(nums))\n",
    "        return [list(pm) for pm in p]"
   ]
  },
  {
   "cell_type": "markdown",
   "id": "27978d9c",
   "metadata": {},
   "source": [
    "- There's not much to explain here; I used `itertools.permutations()` to get all of the permutations and then returned them."
   ]
  },
  {
   "cell_type": "markdown",
   "id": "f390a867",
   "metadata": {},
   "source": [
    "### 77. Combinations"
   ]
  },
  {
   "cell_type": "code",
   "execution_count": null,
   "id": "9f4fd2ef",
   "metadata": {},
   "outputs": [],
   "source": [
    "class Solution:\n",
    "    def combine(self, n: int, k: int) -> List[List[int]]:\n",
    "        c = itertools.combinations(range(1, n+1), k)\n",
    "        return [list(cm) for cm in c]"
   ]
  },
  {
   "cell_type": "markdown",
   "id": "cde37030",
   "metadata": {},
   "source": [
    "- I don't feel like taking credit for this because I didn't really do anything; `itertools.combinations()` did the work for me."
   ]
  },
  {
   "cell_type": "markdown",
   "id": "9d05c668",
   "metadata": {},
   "source": [
    "### 168. Excel Sheet Column Title"
   ]
  },
  {
   "cell_type": "code",
   "execution_count": null,
   "id": "43cdfbb4",
   "metadata": {},
   "outputs": [],
   "source": [
    "class Solution:\n",
    "    def convertToTitle(self, columnNumber: int) -> str:\n",
    "        n = 7\n",
    "        offsets = [0]*n\n",
    "        for i in range(1,n):\n",
    "            offsets[i] = offsets[i-1] + 26**i\n",
    "\n",
    "        res = \"\"\n",
    "        for j in reversed(range(n)):\n",
    "            if offsets[j] >= columnNumber: continue\n",
    "            counter = 0\n",
    "            while offsets[j] < columnNumber:\n",
    "                counter += 1\n",
    "                columnNumber -= 26**j\n",
    "            res += chr(64+counter)\n",
    "\n",
    "        return res"
   ]
  },
  {
   "cell_type": "markdown",
   "id": "19f16a56",
   "metadata": {},
   "source": [
    "- First, we initialize a list of `offsets` that will store the beginning number for every letter index.\n",
    "- Then, we iterate from `26` to the power of `0` to `26` to the power of a sufficiently large `n`, and add the corresponding letter for every offset to our result `res`."
   ]
  },
  {
   "cell_type": "markdown",
   "id": "31d82476",
   "metadata": {},
   "source": [
    "### 1359. Count All Valid Pickup and Delivery Options"
   ]
  },
  {
   "cell_type": "code",
   "execution_count": null,
   "id": "f0e04405",
   "metadata": {},
   "outputs": [],
   "source": [
    "class Solution:\n",
    "    def countOrders(self, n: int) -> int:\n",
    "        MOD = 10**9 + 7\n",
    "        res = 1\n",
    "        # P's and D's from 2 to n\n",
    "        for pickups_and_deliveries in range(2, n+1):\n",
    "            # #positions to place the current pickup * #positions to place the current delivery\n",
    "            res *= (2*pickups_and_deliveries-1) * pickups_and_deliveries\n",
    "            res %= MOD\n",
    "\n",
    "        return res"
   ]
  },
  {
   "cell_type": "markdown",
   "id": "dd3b1b41",
   "metadata": {},
   "source": [
    "- This problem could be solved via a combinatorics approach.\n",
    "- How it works is that we iterate through the number of pickups and deliveries, `pickups_and_deliveries`, and multiply the previous number of combinations by the number of ways to place the current pickup times the number of ways to place the deliveries."
   ]
  }
 ],
 "metadata": {
  "kernelspec": {
   "display_name": "Python 3 (ipykernel)",
   "language": "python",
   "name": "python3"
  },
  "language_info": {
   "codemirror_mode": {
    "name": "ipython",
    "version": 3
   },
   "file_extension": ".py",
   "mimetype": "text/x-python",
   "name": "python",
   "nbconvert_exporter": "python",
   "pygments_lexer": "ipython3",
   "version": "3.10.9"
  }
 },
 "nbformat": 4,
 "nbformat_minor": 5
}
