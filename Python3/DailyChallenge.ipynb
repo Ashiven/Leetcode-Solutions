{
 "cells": [
  {
   "cell_type": "markdown",
   "id": "a4c87909",
   "metadata": {},
   "source": [
    "## August 2023"
   ]
  },
  {
   "cell_type": "markdown",
   "id": "c71e74c5",
   "metadata": {},
   "source": [
    "### 77. Combinations"
   ]
  },
  {
   "cell_type": "code",
   "execution_count": null,
   "id": "423ab0f5",
   "metadata": {},
   "outputs": [],
   "source": [
    "class Solution:\n",
    "    def combine(self, n: int, k: int) -> List[List[int]]:\n",
    "        c = itertools.combinations(range(1, n+1), k)\n",
    "        return [list(cm) for cm in c]"
   ]
  },
  {
   "cell_type": "markdown",
   "id": "36f3cb3a",
   "metadata": {},
   "source": [
    "- I don't feel like taking credit for this because I didn't really do anything; `itertools.combinations()` did the work for me."
   ]
  },
  {
   "cell_type": "markdown",
   "id": "364b23b8",
   "metadata": {},
   "source": [
    "### 46. Permutations"
   ]
  },
  {
   "cell_type": "code",
   "execution_count": null,
   "id": "68cb628c",
   "metadata": {},
   "outputs": [],
   "source": [
    "class Solution:\n",
    "    def permute(self, nums: List[int]) -> List[List[int]]:\n",
    "        p = itertools.permutations(nums, len(nums))\n",
    "        return [list(pm) for pm in p]"
   ]
  },
  {
   "cell_type": "markdown",
   "id": "c19ab3b6",
   "metadata": {},
   "source": [
    "- There's not much to explain here; I used `itertools.permutations()` to get all of the permutations and then returned them."
   ]
  },
  {
   "cell_type": "markdown",
   "id": "2e671324",
   "metadata": {},
   "source": [
    "### 17. Letter Combinations of a Phone Number"
   ]
  },
  {
   "cell_type": "code",
   "execution_count": null,
   "id": "9c02ae2b",
   "metadata": {},
   "outputs": [],
   "source": [
    "class Solution:\n",
    "    def letterCombinations(self, digits: str) -> List[str]:\n",
    "        phonedict = dict()\n",
    "        phonedict[2], phonedict[3], phonedict[4], phonedict[5], phonedict[6] = 'abc', 'def', 'ghi', 'jkl', 'mno'\n",
    "        phonedict[7], phonedict[8], phonedict[9] = 'pqrs', 'tuv', 'wxyz'\n",
    "\n",
    "        res = []\n",
    "        def rec(digits, word, c, i):\n",
    "            if i > len(digits):\n",
    "                return\n",
    "            word += c\n",
    "            if len(word) == len(digits):\n",
    "                res.append(word)\n",
    "                return\n",
    "            for c in phonedict[int(digits[i])]:\n",
    "                rec(digits, word, c, i+1)\n",
    "        rec(digits, '', '', 0)\n",
    "\n",
    "        return [r for r in res if r != \"\"]"
   ]
  },
  {
   "cell_type": "markdown",
   "id": "b90093b4",
   "metadata": {},
   "source": [
    "- First, I saved the strings corresponding to a digit on the phone in the dictionary `phonedict`.\n",
    "- Then I used the recursive function `rec`, to accumulate every combination of letters for the given `digits`.  "
   ]
  },
  {
   "cell_type": "markdown",
   "id": "5033dba9",
   "metadata": {},
   "source": [
    "### 139. Word Break"
   ]
  },
  {
   "cell_type": "code",
   "execution_count": null,
   "id": "9734fa35",
   "metadata": {},
   "outputs": [],
   "source": [
    "class Solution:\n",
    "    def wordBreak(self, s: str, wordDict: List[str]) -> bool:\n",
    "        \n",
    "        wordDict = set(wordDict)\n",
    "        res, seen = set(), set()\n",
    "        def bt(constructed, remainder, wordDict):\n",
    "            # memoization happens here. we keep track of the words we have already tried so we don't end up trying them again\n",
    "            if not constructed in seen:\n",
    "                seen.add(constructed)\n",
    "            elif constructed in seen:\n",
    "                return\n",
    "\n",
    "            # we have succesfully constructed the string from wordDict\n",
    "            if not remainder:\n",
    "                res.add(constructed)\n",
    "                return\n",
    "\n",
    "            # recursive call with every word that matches the beginning of the remaining string\n",
    "            # if no string matches, we have reached a cutoff condition and return\n",
    "            ret = True\n",
    "            for word in wordDict:\n",
    "                if remainder.startswith(word):\n",
    "                    ret = False\n",
    "                    bt(constructed + word, remainder[len(word):], wordDict)\n",
    "            if ret:\n",
    "                return\n",
    "\n",
    "        bt(\"\", s, wordDict)\n",
    "        return len(list(res)) > 0"
   ]
  },
  {
   "cell_type": "markdown",
   "id": "4e032489",
   "metadata": {},
   "source": [
    "- We perform a DFS to construct `s` with the given `wordList`.\n",
    "- On every recursive call, we iterate over `wordList`, and start another recursive call for every `word` that matches the beginning of the `remainder` of `s`.\n",
    "- Eventually we will either have no `remainder`, which means that we have successfully constructed `s`, or we don't have any words left that match the beginning of the `remainder`, at which point we cut off."
   ]
  },
  {
   "cell_type": "markdown",
   "id": "22168a95",
   "metadata": {},
   "source": [
    "### 95. Unique Binary Search Trees II"
   ]
  },
  {
   "cell_type": "code",
   "execution_count": null,
   "id": "9bc91da6",
   "metadata": {},
   "outputs": [],
   "source": [
    "class Solution:\n",
    "    def getTrees(self, start, end):\n",
    "        if start > end:  # the current node does not have any subtrees\n",
    "            return [None]\n",
    "        \n",
    "        # for every node i in the range of n, we calculate the node's left and right subtrees\n",
    "        res = []\n",
    "        for root in range(start, end+1):\n",
    "            leftTrees = self.getTrees(start, root-1)  # i.e. for root: 3  leftTrees:  Trees(1,2) -> ...\n",
    "            rightTrees = self.getTrees(root+1, end)   #                   rightTrees: Trees(4,3) -> [None]\n",
    "\n",
    "            # actually build the trees and add them to res\n",
    "            for l in leftTrees:\n",
    "                for r in rightTrees:\n",
    "                    res.append(TreeNode(root, l, r))\n",
    "\n",
    "        return res\n",
    "\n",
    "    def generateTrees(self, n: int) -> List[Optional[TreeNode]]:\n",
    "        return self.getTrees(1, n)"
   ]
  },
  {
   "cell_type": "markdown",
   "id": "cb50fda4",
   "metadata": {},
   "source": [
    "- Unfortunately, I wasn't able to come up with a solution to this on my own, so I looked into the editorial section.\n",
    "- How it works is that we recursively calculate every possible left and right subtree for every `root` in the range `n`.\n",
    "- The left subtrees, `leftTrees`, will be all possible trees in the range `1` to `root-1`, while the right subtrees, `rightTrees`, will be all possible trees in the range `root+1` to `n`."
   ]
  },
  {
   "cell_type": "markdown",
   "id": "17d9ce85-1bba-48c8-9bcc-44cc3a12eb78",
   "metadata": {},
   "source": [
    "### 920. Number of Music Playlists"
   ]
  },
  {
   "cell_type": "code",
   "execution_count": null,
   "id": "a6d83966-fdc6-4458-906d-b6ccd114cf8c",
   "metadata": {},
   "outputs": [],
   "source": [
    "class Solution:\n",
    "    def numMusicPlaylists(self, n: int, goal: int, k: int) -> int:\n",
    "        MOD = 1_000_000_007\n",
    "        dp = [ [0 for _ in range(n + 1)] for _ in range(2) ]\n",
    "        dp[0][0] = 1\n",
    "\n",
    "        # i: length of the playlist  j: unique songs in the playlist\n",
    "        # dp[i][j]: number of playlists constructable with i and j\n",
    "        for i in range(1, goal+1):\n",
    "            dp[i%2][0] = 0\n",
    "            for j in range(1, min(i,n)+1): # min(i,n) because there could be less songs available(n) than the length of the playlist(i)\n",
    "                dp[i%2][j] = dp[(i-1)%2][j-1] * (n-j + 1)) % MOD # n - j  is the number of songs to choose from, having picked j songs already\n",
    "                if j > k:\n",
    "                    dp[i%2][j] = (dp[i%2][j] + dp[(i-1)%2][j] * (j-k)) % MOD\n",
    "\n",
    "        return dp[goal%2][n]"
   ]
  },
  {
   "cell_type": "markdown",
   "id": "24bb5fe7-87c2-4c86-92c5-487ec76a9eec",
   "metadata": {},
   "source": [
    "- I did not come up with this solution myself, that much is for sure.\n",
    "- This is also the first time that I don't really understand a solution even after looking at it, so I can't really give an explanation here."
   ]
  },
  {
   "cell_type": "markdown",
   "id": "5722b334",
   "metadata": {},
   "source": [
    "### 74. Search a 2D Matrix"
   ]
  },
  {
   "cell_type": "code",
   "execution_count": null,
   "id": "d4e160b1",
   "metadata": {},
   "outputs": [],
   "source": [
    "class Solution:\n",
    "    def bin(self, nums: List[int], l: int, r: int, target: int) -> bool:\n",
    "        if r >= l:\n",
    "            middle = l + (r-l)//2\n",
    "\n",
    "            if nums[middle] == target:\n",
    "                return True\n",
    "            elif nums[middle] < target:\n",
    "                return self.bin(nums, middle+1, r, target)\n",
    "            elif nums[middle] > target:\n",
    "                return self.bin(nums, l, middle-1, target)\n",
    "        else:\n",
    "            return False\n",
    "\n",
    "    def searchMatrix(self, matrix: List[List[int]], target: int) -> bool:\n",
    "        nums = list(itertools.chain.from_iterable(matrix))\n",
    "        return self.bin(nums, 0, len(nums)-1, target)"
   ]
  },
  {
   "cell_type": "markdown",
   "id": "57a16b6f",
   "metadata": {},
   "source": [
    "- I solved this problem with a simple binary search over a flattened version of the given `matrix`."
   ]
  },
  {
   "cell_type": "markdown",
   "id": "9752386b",
   "metadata": {},
   "source": [
    "### 33. Search in Rotated Sorted Array"
   ]
  },
  {
   "cell_type": "code",
   "execution_count": null,
   "id": "ec78c486",
   "metadata": {},
   "outputs": [],
   "source": [
    "class Solution:\n",
    "    def bin(self, nums: List[int], l: int, r: int, target: int) -> int:\n",
    "        if l <= r:\n",
    "            m = l + (r-l)//2\n",
    "            print(f'l = {l}  r = {r}  m = {m}  nums[m] = {nums[m]}')\n",
    "            if nums[m] == target:\n",
    "                return m\n",
    "            elif nums[r] == target:\n",
    "                return r\n",
    "            elif nums[m-1] == target:\n",
    "                return m-1\n",
    "            #case 1 / 2\n",
    "            elif nums[m-1] >= target and nums[r] >= target or nums[m-1] <= target and nums[r] <= target:\n",
    "                if nums[m-1] < nums[r]:\n",
    "                    return self.bin(nums, l, m-1, target)\n",
    "                else:\n",
    "                    return self.bin(nums, m+1, r, target)\n",
    "            #case 3\n",
    "            elif nums[m-1] >= target and not nums[r] >= target:\n",
    "                return self.bin(nums, l, m-1, target)\n",
    "            #case 4\n",
    "            elif nums[r] >= target and not nums[m-1] >= target:\n",
    "                return self.bin(nums, m+1, r, target)\n",
    "        else:\n",
    "            return -1\n",
    "    def search(self, nums: List[int], target: int) -> int:\n",
    "\n",
    "        # case 1 topleft and topright >= target  -> go with lesser top\n",
    "        # case 2 topleft and topright <= target  -> go with lesser top\n",
    "        # case 3 topleft >= target and topright not >= target -> go left\n",
    "        # case 4 topright >= target and topleft not >= target -> go right\n",
    "\n",
    "        return self.bin(nums, 0, len(nums)-1, target)"
   ]
  },
  {
   "cell_type": "markdown",
   "id": "798d03f4",
   "metadata": {},
   "source": [
    "- Luckily, I have solved this problem before, so I was able to copy and paste my solution.\n",
    "- I have solved it with a binary search that considers four distinct cases for deciding whether to continue searching in the left or the right sublist. The cases have been added as comments in the solution."
   ]
  }
 ],
 "metadata": {
  "kernelspec": {
   "display_name": "Python 3 (ipykernel)",
   "language": "python",
   "name": "python3"
  },
  "language_info": {
   "codemirror_mode": {
    "name": "ipython",
    "version": 3
   },
   "file_extension": ".py",
   "mimetype": "text/x-python",
   "name": "python",
   "nbconvert_exporter": "python",
   "pygments_lexer": "ipython3",
   "version": "3.10.9"
  }
 },
 "nbformat": 4,
 "nbformat_minor": 5
}
