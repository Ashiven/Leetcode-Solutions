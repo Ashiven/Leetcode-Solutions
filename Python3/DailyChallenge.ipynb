{
 "cells": [
  {
   "cell_type": "markdown",
   "id": "a4c87909",
   "metadata": {},
   "source": [
    "## August 2023"
   ]
  },
  {
   "cell_type": "markdown",
   "id": "364b23b8",
   "metadata": {},
   "source": [
    "### 46. Permutations"
   ]
  },
  {
   "cell_type": "code",
   "execution_count": null,
   "id": "68cb628c",
   "metadata": {},
   "outputs": [],
   "source": [
    "class Solution:\n",
    "    def permute(self, nums: List[int]) -> List[List[int]]:\n",
    "        res = []\n",
    "        p = itertools.permutations(nums, len(nums))\n",
    "        for pm in p:\n",
    "            res.append(list(pm))\n",
    "        return res"
   ]
  },
  {
   "cell_type": "markdown",
   "id": "c19ab3b6",
   "metadata": {},
   "source": [
    "- There's not much to explain here; I used `itertools.permutations()` to get all of the permutations and then returned them."
   ]
  },
  {
   "cell_type": "markdown",
   "id": "2e671324",
   "metadata": {},
   "source": [
    "### 17. Letter Combinations of a Phone Number"
   ]
  },
  {
   "cell_type": "code",
   "execution_count": null,
   "id": "9c02ae2b",
   "metadata": {},
   "outputs": [],
   "source": [
    "class Solution:\n",
    "    def letterCombinations(self, digits: str) -> List[str]:\n",
    "        phonedict = dict()\n",
    "        phonedict[2], phonedict[3], phonedict[4], phonedict[5], phonedict[6] = 'abc', 'def', 'ghi', 'jkl', 'mno'\n",
    "        phonedict[7], phonedict[8], phonedict[9] = 'pqrs', 'tuv', 'wxyz'\n",
    "\n",
    "        res = []\n",
    "        def rec(digits, word, c, i):\n",
    "            if i > len(digits):\n",
    "                return\n",
    "            word += c\n",
    "            if len(word) == len(digits):\n",
    "                res.append(word)\n",
    "                return\n",
    "            for c in phonedict[int(digits[i])]:\n",
    "                rec(digits, word, c, i+1)\n",
    "        rec(digits, '', '', 0)\n",
    "\n",
    "        return [r for r in res if r != \"\"]"
   ]
  },
  {
   "cell_type": "markdown",
   "id": "b90093b4",
   "metadata": {},
   "source": [
    "- First, I saved the strings corresponding to a digit on the phone in the dictionary `phonedict`.\n",
    "- Then I used the recursive function `rec`, to accumulate every combination of letters for the given `digits`.  "
   ]
  }
 ],
 "metadata": {
  "kernelspec": {
   "display_name": "Python 3 (ipykernel)",
   "language": "python",
   "name": "python3"
  },
  "language_info": {
   "codemirror_mode": {
    "name": "ipython",
    "version": 3
   },
   "file_extension": ".py",
   "mimetype": "text/x-python",
   "name": "python",
   "nbconvert_exporter": "python",
   "pygments_lexer": "ipython3",
   "version": "3.10.9"
  }
 },
 "nbformat": 4,
 "nbformat_minor": 5
}
