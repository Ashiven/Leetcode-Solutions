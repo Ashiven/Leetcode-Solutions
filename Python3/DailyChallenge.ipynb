{
 "cells": [
  {
   "cell_type": "markdown",
   "id": "a4c87909",
   "metadata": {},
   "source": [
    "## August 2023"
   ]
  },
  {
   "cell_type": "markdown",
   "id": "c71e74c5",
   "metadata": {},
   "source": [
    "### 77. Combinations"
   ]
  },
  {
   "cell_type": "code",
   "execution_count": null,
   "id": "423ab0f5",
   "metadata": {},
   "outputs": [],
   "source": [
    "class Solution:\n",
    "    def combine(self, n: int, k: int) -> List[List[int]]:\n",
    "        c = itertools.combinations(range(1, n+1), k)\n",
    "        return [list(cm) for cm in c]"
   ]
  },
  {
   "cell_type": "markdown",
   "id": "36f3cb3a",
   "metadata": {},
   "source": [
    "- I don't feel like taking credit for this because I didn't really do anything; `itertools.combinations()` did the work for me."
   ]
  },
  {
   "cell_type": "markdown",
   "id": "364b23b8",
   "metadata": {},
   "source": [
    "### 46. Permutations"
   ]
  },
  {
   "cell_type": "code",
   "execution_count": null,
   "id": "68cb628c",
   "metadata": {},
   "outputs": [],
   "source": [
    "class Solution:\n",
    "    def permute(self, nums: List[int]) -> List[List[int]]:\n",
    "        p = itertools.permutations(nums, len(nums))\n",
    "        return [list(pm) for pm in p]"
   ]
  },
  {
   "cell_type": "markdown",
   "id": "c19ab3b6",
   "metadata": {},
   "source": [
    "- There's not much to explain here; I used `itertools.permutations()` to get all of the permutations and then returned them."
   ]
  },
  {
   "cell_type": "markdown",
   "id": "2e671324",
   "metadata": {},
   "source": [
    "### 17. Letter Combinations of a Phone Number"
   ]
  },
  {
   "cell_type": "code",
   "execution_count": null,
   "id": "9c02ae2b",
   "metadata": {},
   "outputs": [],
   "source": [
    "class Solution:\n",
    "    def letterCombinations(self, digits: str) -> List[str]:\n",
    "        phonedict = dict()\n",
    "        phonedict[2], phonedict[3], phonedict[4], phonedict[5], phonedict[6] = 'abc', 'def', 'ghi', 'jkl', 'mno'\n",
    "        phonedict[7], phonedict[8], phonedict[9] = 'pqrs', 'tuv', 'wxyz'\n",
    "\n",
    "        res = []\n",
    "        def rec(digits, word, c, i):\n",
    "            if i > len(digits):\n",
    "                return\n",
    "            word += c\n",
    "            if len(word) == len(digits):\n",
    "                res.append(word)\n",
    "                return\n",
    "            for c in phonedict[int(digits[i])]:\n",
    "                rec(digits, word, c, i+1)\n",
    "        rec(digits, '', '', 0)\n",
    "\n",
    "        return [r for r in res if r != \"\"]"
   ]
  },
  {
   "cell_type": "markdown",
   "id": "b90093b4",
   "metadata": {},
   "source": [
    "- First, I saved the strings corresponding to a digit on the phone in the dictionary `phonedict`.\n",
    "- Then I used the recursive function `rec`, to accumulate every combination of letters for the given `digits`.  "
   ]
  },
  {
   "cell_type": "markdown",
   "id": "5033dba9",
   "metadata": {},
   "source": [
    "### 139. Word Break"
   ]
  },
  {
   "cell_type": "code",
   "execution_count": null,
   "id": "9734fa35",
   "metadata": {},
   "outputs": [],
   "source": [
    "class Solution:\n",
    "    def wordBreak(self, s: str, wordDict: List[str]) -> bool:\n",
    "        wordDict = set(wordDict)\n",
    "        res, seen = False, set()\n",
    "\n",
    "        def bt(constructed, remainder, wordDict):\n",
    "            # memoization happens here. we keep track of the words we have already tried so we don't end up trying them again\n",
    "            if constructed not in seen: seen.add(constructed)\n",
    "            else: return\n",
    "            \n",
    "            # we have succesfully constructed the string from wordDict\n",
    "            if not remainder:\n",
    "                nonlocal res \n",
    "                res = True\n",
    "                return\n",
    "\n",
    "            for word in wordDict:\n",
    "                if remainder.startswith(word):\n",
    "                    bt(constructed + word, remainder[len(word):], wordDict)\n",
    "            return\n",
    "\n",
    "        bt(\"\", s, wordDict)\n",
    "        return res"
   ]
  },
  {
   "cell_type": "markdown",
   "id": "4e032489",
   "metadata": {},
   "source": [
    "- We perform a DFS to construct `s` with the given `wordList`.\n",
    "- On every recursive call, we iterate over `wordList`, and start another recursive call for every `word` that matches the beginning of the `remainder` of `s`.\n",
    "- Eventually we will either have no `remainder`, which means that we have successfully constructed `s`, or we don't have any words left that match the beginning of the `remainder`, at which point we cut off."
   ]
  },
  {
   "cell_type": "markdown",
   "id": "22168a95",
   "metadata": {},
   "source": [
    "### 95. Unique Binary Search Trees II"
   ]
  },
  {
   "cell_type": "code",
   "execution_count": null,
   "id": "9bc91da6",
   "metadata": {},
   "outputs": [],
   "source": [
    "class Solution:\n",
    "    def getTrees(self, start, end):\n",
    "        if start > end:  # the current node does not have any subtrees\n",
    "            return [None]\n",
    "        \n",
    "        # for every node i in the range of n, we calculate the node's left and right subtrees\n",
    "        res = []\n",
    "        for root in range(start, end+1):\n",
    "            leftTrees = self.getTrees(start, root-1)  # i.e. for root: 3  leftTrees:  Trees(1,2) -> ...\n",
    "            rightTrees = self.getTrees(root+1, end)   #                   rightTrees: Trees(4,3) -> [None]\n",
    "\n",
    "            # actually build the trees and add them to res\n",
    "            for l in leftTrees:\n",
    "                for r in rightTrees:\n",
    "                    res.append(TreeNode(root, l, r))\n",
    "\n",
    "        return res\n",
    "\n",
    "    def generateTrees(self, n: int) -> List[Optional[TreeNode]]:\n",
    "        return self.getTrees(1, n)"
   ]
  },
  {
   "cell_type": "markdown",
   "id": "cb50fda4",
   "metadata": {},
   "source": [
    "- Unfortunately, I wasn't able to come up with a solution to this on my own, so I looked into the editorial section.\n",
    "- How it works is that we recursively calculate every possible left and right subtree for every `root` in the range `n`.\n",
    "- The left subtrees, `leftTrees`, will be all possible trees in the range `1` to `root-1`, while the right subtrees, `rightTrees`, will be all possible trees in the range `root+1` to `n`."
   ]
  },
  {
   "cell_type": "markdown",
   "id": "17d9ce85-1bba-48c8-9bcc-44cc3a12eb78",
   "metadata": {},
   "source": [
    "### 920. Number of Music Playlists"
   ]
  },
  {
   "cell_type": "code",
   "execution_count": null,
   "id": "a6d83966-fdc6-4458-906d-b6ccd114cf8c",
   "metadata": {},
   "outputs": [],
   "source": [
    "class Solution:\n",
    "    def numMusicPlaylists(self, n: int, goal: int, k: int) -> int:\n",
    "        MOD = 1_000_000_007\n",
    "        dp = [ [0 for _ in range(n + 1)] for _ in range(2) ]\n",
    "        dp[0][0] = 1\n",
    "\n",
    "        # i: length of the playlist  j: unique songs in the playlist\n",
    "        # dp[i][j]: number of playlists constructable with i and j\n",
    "        for i in range(1, goal+1):\n",
    "            dp[i%2][0] = 0\n",
    "            for j in range(1, min(i,n)+1): # min(i,n) because there could be less songs available(n) than the length of the playlist(i)\n",
    "                dp[i%2][j] = dp[(i-1)%2][j-1] * (n-j + 1)) % MOD # n - j  is the number of songs to choose from, having picked j songs already\n",
    "                if j > k:\n",
    "                    dp[i%2][j] = (dp[i%2][j] + dp[(i-1)%2][j] * (j-k)) % MOD\n",
    "\n",
    "        return dp[goal%2][n]"
   ]
  },
  {
   "cell_type": "markdown",
   "id": "24bb5fe7-87c2-4c86-92c5-487ec76a9eec",
   "metadata": {},
   "source": [
    "- I did not come up with this solution myself, that much is for sure.\n",
    "- This is also the first time that I don't really understand a solution even after looking at it, so I can't really give an explanation here."
   ]
  },
  {
   "cell_type": "markdown",
   "id": "5722b334",
   "metadata": {},
   "source": [
    "### 74. Search a 2D Matrix"
   ]
  },
  {
   "cell_type": "code",
   "execution_count": null,
   "id": "d4e160b1",
   "metadata": {},
   "outputs": [],
   "source": [
    "class Solution:\n",
    "    def bin(self, nums: List[int], l: int, r: int, target: int) -> bool:\n",
    "        if r >= l:\n",
    "            middle = l + (r-l)//2\n",
    "\n",
    "            if nums[middle] == target:\n",
    "                return True\n",
    "            elif nums[middle] < target:\n",
    "                return self.bin(nums, middle+1, r, target)\n",
    "            elif nums[middle] > target:\n",
    "                return self.bin(nums, l, middle-1, target)\n",
    "        else:\n",
    "            return False\n",
    "\n",
    "    def searchMatrix(self, matrix: List[List[int]], target: int) -> bool:\n",
    "        nums = list(itertools.chain.from_iterable(matrix))\n",
    "        return self.bin(nums, 0, len(nums)-1, target)"
   ]
  },
  {
   "cell_type": "markdown",
   "id": "57a16b6f",
   "metadata": {},
   "source": [
    "- I solved this problem with a simple binary search over a flattened version of the given `matrix`."
   ]
  },
  {
   "cell_type": "markdown",
   "id": "9752386b",
   "metadata": {},
   "source": [
    "### 33. Search in Rotated Sorted Array"
   ]
  },
  {
   "cell_type": "code",
   "execution_count": null,
   "id": "ec78c486",
   "metadata": {},
   "outputs": [],
   "source": [
    "class Solution:\n",
    "    def bin(self, nums: List[int], l: int, r: int, target: int) -> int:\n",
    "        if l <= r:\n",
    "            m = l + (r-l)//2\n",
    "            print(f'l = {l}  r = {r}  m = {m}  nums[m] = {nums[m]}')\n",
    "            if nums[m] == target:\n",
    "                return m\n",
    "            elif nums[r] == target:\n",
    "                return r\n",
    "            elif nums[m-1] == target:\n",
    "                return m-1\n",
    "            #case 1 / 2\n",
    "            elif nums[m-1] >= target and nums[r] >= target or nums[m-1] <= target and nums[r] <= target:\n",
    "                if nums[m-1] < nums[r]:\n",
    "                    return self.bin(nums, l, m-1, target)\n",
    "                else:\n",
    "                    return self.bin(nums, m+1, r, target)\n",
    "            #case 3\n",
    "            elif nums[m-1] >= target and not nums[r] >= target:\n",
    "                return self.bin(nums, l, m-1, target)\n",
    "            #case 4\n",
    "            elif nums[r] >= target and not nums[m-1] >= target:\n",
    "                return self.bin(nums, m+1, r, target)\n",
    "        else:\n",
    "            return -1\n",
    "    def search(self, nums: List[int], target: int) -> int:\n",
    "\n",
    "        # case 1 topleft and topright >= target  -> go with lesser top\n",
    "        # case 2 topleft and topright <= target  -> go with lesser top\n",
    "        # case 3 topleft >= target and topright not >= target -> go left\n",
    "        # case 4 topright >= target and topleft not >= target -> go right\n",
    "\n",
    "        return self.bin(nums, 0, len(nums)-1, target)"
   ]
  },
  {
   "cell_type": "markdown",
   "id": "798d03f4",
   "metadata": {},
   "source": [
    "- Luckily, I have solved this problem before, so I was able to copy and paste my solution.\n",
    "- I have solved it with a binary search that considers four distinct cases for deciding whether to continue searching in the left or the right sublist. The cases have been added as comments in the solution."
   ]
  },
  {
   "cell_type": "markdown",
   "id": "b2f152a1",
   "metadata": {},
   "source": [
    "### 2616. Minimize the Maximum Difference of Pairs"
   ]
  },
  {
   "cell_type": "code",
   "execution_count": null,
   "id": "c798abcf",
   "metadata": {},
   "outputs": [],
   "source": [
    "class Solution:\n",
    "    def minimizeMax(self, nums: List[int], p: int) -> int:\n",
    "        # we need to sort nums for everything below to work\n",
    "        nums.sort()\n",
    "\n",
    "        # how many pairs with a difference less or equal to diff are there in nums\n",
    "        def validPairs(diff: int):\n",
    "            i, pairs = 0,0\n",
    "            while i < len(nums)-1:\n",
    "                if nums[i+1] - nums[i] <= diff:\n",
    "                    pairs += 1\n",
    "                    i += 1\n",
    "                i += 1\n",
    "            return pairs\n",
    "\n",
    "        # we find the smallest possible upper boundary for the difference such that there are p pairs with that maximum difference\n",
    "        def binSearch(l: int, r: int, target: int):\n",
    "            if l <= r:\n",
    "                m = l + (r-l)//2\n",
    "\n",
    "                if validPairs(m) >= target:\n",
    "                    return binSearch(l, m-1, target)\n",
    "                elif validPairs(m) < target:\n",
    "                    return binSearch(m+1, r, target)\n",
    "            else:\n",
    "                return l\n",
    "\n",
    "        # search space between 0 and greatest possible difference: rightmost(largest) - leftmost(smallest)\n",
    "        return binSearch(0, nums[-1]-nums[0], p)"
   ]
  },
  {
   "cell_type": "markdown",
   "id": "fdd247cf",
   "metadata": {},
   "source": [
    "- This problem was pretty difficult, so I had to look into the editorial to understand its solution.\n",
    "- To understand how it works, we first need to know that we can easily find the number of `pairs` for a **concrete maximum difference** via the helper function `validPairs()` when `nums` has been sorted beforehand.\n",
    "- What is left to do then is to perform a binary search over **all possible maximum differences** and find the **smallest maximum difference** that satisfies the condition that there are `p` pairs for this **maximum difference** in `nums`."
   ]
  },
  {
   "attachments": {
    "MinimizeMaximumDifference.png": {
     "image/png": "[encoded data removed]"
    }
   },
   "cell_type": "markdown",
   "id": "74e0e15b",
   "metadata": {},
   "source": [
    "![MinimizeMaximumDifference.png](attachment:MinimizeMaximumDifference.png)"
   ]
  },
  {
   "cell_type": "markdown",
   "id": "3809733a",
   "metadata": {},
   "source": [
    "### 81. Search in Rotated Sorted Array II"
   ]
  },
  {
   "cell_type": "code",
   "execution_count": null,
   "id": "a2d70c98",
   "metadata": {},
   "outputs": [],
   "source": [
    "class Solution:\n",
    "    def bin(self, nums: List[int], l: int, r: int, target: int) -> int:\n",
    "        if l <= r:\n",
    "            m = l + (r-l)//2\n",
    "            print(f'l = {l}  r = {r}  m = {m}  nums[m] = {nums[m]}')\n",
    "            if nums[m] == target:\n",
    "                return m\n",
    "            elif nums[r] == target:\n",
    "                return r\n",
    "            elif nums[m-1] == target:\n",
    "                return m-1\n",
    "            #case 1 / 2\n",
    "            elif nums[m-1] >= target and nums[r] >= target or nums[m-1] <= target and nums[r] <= target:\n",
    "                if nums[m-1] < nums[r]:\n",
    "                    return self.bin(nums, l, m-1, target)\n",
    "                else:\n",
    "                    return self.bin(nums, m+1, r, target)\n",
    "            #case 3\n",
    "            elif nums[m-1] >= target and not nums[r] >= target:\n",
    "                return self.bin(nums, l, m-1, target)\n",
    "            #case 4\n",
    "            elif nums[r] >= target and not nums[m-1] >= target:\n",
    "                return self.bin(nums, m+1, r, target)\n",
    "        else:\n",
    "            return -1\n",
    "    def search(self, nums: List[int], target: int) -> int:\n",
    "        # have to search unique values in nums\n",
    "        nums = sorted(list(set(nums)))\n",
    "\n",
    "        # case 1 topleft and topright >= target  -> go with lesser top\n",
    "        # case 2 topleft and topright <= target  -> go with lesser top\n",
    "        # case 3 topleft >= target and topright not >= target -> go left\n",
    "        # case 4 topright >= target and topleft not >= target -> go right\n",
    "\n",
    "        return self.bin(nums, 0, len(nums)-1, target) != -1"
   ]
  },
  {
   "cell_type": "markdown",
   "id": "c2760dcd",
   "metadata": {},
   "source": [
    "- The only two ways in which this problem differs from its predecessor are that it expects a boolean value whether the `target` exists in the given list `nums`, and that the values are not unique.\n",
    "- Therefore, I slightly modified my solution to transform `nums` into a list containing only unique values, and instead of returning the actual index of the `target`, I return `True` if the value exists in `nums`, and `False`, otherwise."
   ]
  },
  {
   "cell_type": "markdown",
   "id": "a4ae7567",
   "metadata": {},
   "source": [
    "### 518. Coin Change II"
   ]
  },
  {
   "cell_type": "code",
   "execution_count": null,
   "id": "33484c10",
   "metadata": {},
   "outputs": [],
   "source": [
    "class Solution:\n",
    "    def change(self, amount: int, coins: List[int]) -> int:\n",
    "        dp = [0] * (amount+1)  # one index per amount from 0 to amount\n",
    "        dp[0] = 1  # there is exactly 1 way to make 0 (by using no coins)\n",
    "        for coin in coins:\n",
    "            for i in range(coin, amount+1):\n",
    "                dp[i] += dp[i-coin]\n",
    "        return dp[amount]"
   ]
  },
  {
   "cell_type": "markdown",
   "id": "48735bf5",
   "metadata": {},
   "source": [
    "- As with most dynamic programming problems so far, I have not been able to come up with the solution myself.\n",
    "- We utilize a dynamic programming list `dp` to build up the solution incrementally. Every index represents an `amount` that can be made up with the `coins`, and the value at an index represents the number of ways that `amount` can be made up.\n",
    "- How it works is best explained in the graphic below."
   ]
  },
  {
   "attachments": {
    "CoinChangeII.png": {
     "image/png": "[encoded data removed]"
    }
   },
   "cell_type": "markdown",
   "id": "5d68178e",
   "metadata": {},
   "source": [
    "![CoinChangeII.png](attachment:CoinChangeII.png)"
   ]
  },
  {
   "cell_type": "markdown",
   "id": "53c440b4",
   "metadata": {},
   "source": [
    "### 63. Unique Paths II"
   ]
  },
  {
   "cell_type": "code",
   "execution_count": null,
   "id": "c9e57f22",
   "metadata": {},
   "outputs": [],
   "source": [
    "class Solution:\n",
    "    def uniquePathsWithObstacles(self, obstacleGrid: List[List[int]]) -> int:\n",
    "        ROWS,COLS = len(obstacleGrid),len(obstacleGrid[0])\n",
    "        dp = [ [0]*COLS for _ in range(ROWS) ]\n",
    "        dp[-1][-1] = 1\n",
    "\n",
    "        def dfs(row,col):\n",
    "            if row >= ROWS or col >= COLS or obstacleGrid[row][col] == 1:\n",
    "                return 0\n",
    "            if not dp[row][col]:\n",
    "                dp[row][col] = dfs(row+1, col) + dfs(row,col+1)\n",
    "            return dp[row][col]\n",
    "\n",
    "        return dfs(0,0)"
   ]
  },
  {
   "cell_type": "markdown",
   "id": "5c9cf73b",
   "metadata": {},
   "source": [
    "- We perform a **Depth-first search** combined with a dynamic programming list, `dp`, that stores the number of paths for every field in the `obstacleGrid`.\n",
    "- For this, we set the field of the goal to `1`, and every other field will receive the sum of its lower and right neighbors as its number of paths."
   ]
  },
  {
   "cell_type": "markdown",
   "id": "7dd32043",
   "metadata": {},
   "source": [
    "### 2369. Check if There is a Valid Partition For The Array"
   ]
  },
  {
   "cell_type": "markdown",
   "id": "592f09d5",
   "metadata": {},
   "source": [
    "#### My Initial Attempt:"
   ]
  },
  {
   "cell_type": "code",
   "execution_count": null,
   "id": "f2a72208",
   "metadata": {},
   "outputs": [],
   "source": [
    "class Solution:\n",
    "    def validPartition(self, nums: List[int]) -> bool:\n",
    "        \n",
    "        res = False\n",
    "        def bt(pos):\n",
    "            nonlocal res\n",
    "            if pos == len(nums):\n",
    "                res = True\n",
    "                return\n",
    "            \n",
    "            for i in range(pos, len(nums)):\n",
    "                if isValid(nums[pos:i+1]):\n",
    "                    if res: return\n",
    "                    bt(i+1)\n",
    "            return\n",
    "\n",
    "        def isValid(p):\n",
    "            if len(p) < 2 or len(p) > 3: return False\n",
    "            if (len(p) == 2 or len(p) == 3) and len(set(p)) == 1: return True\n",
    "\n",
    "            for i,num in enumerate(p):\n",
    "                if i < len(p)-1:\n",
    "                    if p[i+1] - num != 1:\n",
    "                        return False \n",
    "            return i == 2\n",
    "\n",
    "        bt(0)\n",
    "        return res"
   ]
  },
  {
   "cell_type": "markdown",
   "id": "7838df46",
   "metadata": {},
   "source": [
    "- Initially, I tried solving this problem with a **backtracking** approach, but it ended up not being efficient enough."
   ]
  },
  {
   "cell_type": "markdown",
   "id": "5d3bd6aa",
   "metadata": {},
   "source": [
    "#### Improved Solution:"
   ]
  },
  {
   "cell_type": "code",
   "execution_count": null,
   "id": "aeeb350a",
   "metadata": {},
   "outputs": [],
   "source": [
    "class Solution:\n",
    "    def validPartition(self, nums: List[int]) -> bool:\n",
    "\n",
    "        def isValid(i: int):\n",
    "            if i < 0: return True\n",
    "\n",
    "            if ( nums[i] == nums[i-1] and isValid(i-2) ) or \\\n",
    "                ( nums[i] == nums[i-1] == nums[i-2] and isValid(i-3) ) or \\\n",
    "                ( nums[i] == nums[i-1]+1 == nums[i-2]+2 and isValid(i-3) ):\n",
    "                    return True\n",
    "            return False\n",
    "            \n",
    "        return isValid(len(nums)-1)"
   ]
  },
  {
   "cell_type": "markdown",
   "id": "dbb0ec24",
   "metadata": {},
   "source": [
    "- Looking into the editorial it became clear that this problem could be solved recursively.\n",
    "- How it works is that we start at the last index of `nums`, and recursively moving to the front, we check for the three valid partitions.\n",
    "- If the last two to three fields form a valid partition and the index ahead of them is also the end of a valid partition, `isValid` returns `True`."
   ]
  },
  {
   "cell_type": "markdown",
   "id": "5a17d907",
   "metadata": {},
   "source": [
    "### 215. Kth Largest Element in an Array"
   ]
  },
  {
   "cell_type": "code",
   "execution_count": null,
   "id": "7df413c5",
   "metadata": {},
   "outputs": [],
   "source": [
    "class Solution:\n",
    "    def findKthLargest(self, nums: List[int], k: int) -> int:\n",
    "        heap = []\n",
    "        heapify(heap)\n",
    "\n",
    "        for n in nums:\n",
    "            heappush(heap, -n)\n",
    "\n",
    "        for i in range(k-1):\n",
    "            heappop(heap)\n",
    "\n",
    "        return -heap[0]"
   ]
  },
  {
   "cell_type": "markdown",
   "id": "ba545f11",
   "metadata": {},
   "source": [
    "- We are using the **Heap** implementation from the library `heapq` to solve this problem.\n",
    "- `heapify` returns a **MinHeap**, so we have to insert negated values for it to act like a **MaxHeap**.\n",
    "- After converting `nums` to a `heap`, we use the `heappop` method to remove the `k` largest values from the `heap`, and return the largest value, `heap[0]`."
   ]
  },
  {
   "cell_type": "markdown",
   "id": "3aa7425f",
   "metadata": {},
   "source": [
    "### 86. Partition List"
   ]
  },
  {
   "cell_type": "code",
   "execution_count": null,
   "id": "87ab8a40",
   "metadata": {},
   "outputs": [],
   "source": [
    "# Definition for singly-linked list.\n",
    "# class ListNode:\n",
    "#     def __init__(self, val=0, next=None):\n",
    "#         self.val = val\n",
    "#         self.next = next\n",
    "class Solution:\n",
    "    def partition(self, head: Optional[ListNode], x: int) -> Optional[ListNode]:\n",
    "        p_head = ListNode()\n",
    "        p_curr = p_head\n",
    "        curr = head\n",
    "        \n",
    "        prev = None\n",
    "        while curr:\n",
    "            if curr.val < x:\n",
    "                p_curr.next = curr\n",
    "                p_curr = curr\n",
    "                if curr == head:\n",
    "                    head = head.next\n",
    "                else:\n",
    "                    prev.next = curr.next\n",
    "            else:\n",
    "                prev = curr\n",
    "            curr = curr.next\n",
    "\n",
    "        p_curr.next = head\n",
    "        return p_head.next"
   ]
  },
  {
   "cell_type": "markdown",
   "id": "f81bce4b",
   "metadata": {},
   "source": [
    "- We traverse the given linked list once, and whenever we encounter a node with a value less than `x`, we add it to our partition list that starts with `p_head` and remove it from the original list.\n",
    "- Lastly, we append the `head` of the original list to the end of our partition list."
   ]
  },
  {
   "cell_type": "markdown",
   "id": "2e7554a9",
   "metadata": {},
   "source": [
    "### 239. Sliding Window Maximum"
   ]
  },
  {
   "cell_type": "code",
   "execution_count": null,
   "id": "a28c3102",
   "metadata": {},
   "outputs": [],
   "source": [
    "class Solution:\n",
    "    def maxSlidingWindow(self, nums: List[int], k: int) -> List[int]:\n",
    "        d = collections.deque()\n",
    "        l,r = 0,0\n",
    "        res = []\n",
    "        while r < len(nums):\n",
    "            while d and nums[r] > nums[d[-1]]:\n",
    "                d.pop()\n",
    "            d.append(r)\n",
    "            if d[0] < l:\n",
    "                d.popleft()\n",
    "            if r+1 >= k:\n",
    "                l += 1\n",
    "                res.append(nums[d[0]])\n",
    "            r += 1\n",
    "        return res"
   ]
  },
  {
   "cell_type": "markdown",
   "id": "7a46a341",
   "metadata": {},
   "source": [
    "- For every new window, we pop every value that is smaller than the new right element `nums[r]` from the deque `d` such that `d[0]` will always hold the index to the largest value for each window.\n",
    "- Every time we shift the window, we also have to ensure that `d` doesn't hold indices that are out of bounds to the left, which is ensured via the second conditional statement."
   ]
  },
  {
   "cell_type": "markdown",
   "id": "77197526",
   "metadata": {},
   "source": [
    "### 542. 01 Matrix"
   ]
  },
  {
   "cell_type": "code",
   "execution_count": null,
   "id": "50e3b561",
   "metadata": {},
   "outputs": [],
   "source": [
    "class Solution:\n",
    "    def updateMatrix(self, mat: List[List[int]]) -> List[List[int]]:\n",
    "        ROWS,COLS = len(mat),len(mat[0])\n",
    "        grid = [ [0]*COLS for _ in range(ROWS)]\n",
    "        \n",
    "        queue,visited = collections.deque(),set()\n",
    "        for row in range(ROWS):\n",
    "            for col in range(COLS):\n",
    "                if mat[row][col] == 0:\n",
    "                    queue.append((row,col,1))\n",
    "                    visited.add((row,col))\n",
    "    \n",
    "        while queue:\n",
    "            r,c,d = queue.popleft()\n",
    "            for row,col in [ (r-1,c),(r,c+1),(r+1,c),(r,c-1) ]:\n",
    "                if row >= 0 and col >= 0 and row < ROWS and col < COLS and (row,col) not in visited:\n",
    "                    if mat[row][col] == 1: grid[row][col] = d \n",
    "                    queue.append((row,col,d+1))\n",
    "                    visited.add((row,col))\n",
    "        \n",
    "        return grid"
   ]
  },
  {
   "cell_type": "markdown",
   "id": "36ed3b0a",
   "metadata": {},
   "source": [
    "- This problem is very similar to the problem *994. Rotting Oranges* in that in both of them, you have to perform a **Breadth-first search with multiple starting points**.\n",
    "- The starting points are all fields that contain a `0` and will be added to the `queue` and `visited` initially, and whenever we encounter a field with a `1` in our BFS, we set the value in that field to the search depth `d`."
   ]
  },
  {
   "cell_type": "markdown",
   "id": "470a5408",
   "metadata": {},
   "source": [
    "### 1615. Maximal Network Rank"
   ]
  },
  {
   "cell_type": "code",
   "execution_count": null,
   "id": "7a392813",
   "metadata": {},
   "outputs": [],
   "source": [
    "class Solution:\n",
    "    def maximalNetworkRank(self, n: int, roads: List[List[int]]) -> int:\n",
    "        if len(roads) == 0: return 0\n",
    "        \n",
    "        adjMap = defaultdict(list)\n",
    "        for e1,e2 in roads:\n",
    "            adjMap[e1].append(e2)\n",
    "            adjMap[e2].append(e1)\n",
    "            \n",
    "        adjMap = dict(reversed(sorted(adjMap.items(), key=lambda item: len(item[1]))))\n",
    "        nodes = list(adjMap.keys())\n",
    "        l0,l1 = len(adjMap[nodes[0]]),len(adjMap[nodes[1]])\n",
    "        maxV = 0\n",
    "        \n",
    "        for i in range(len(nodes)):\n",
    "            ni_edges = adjMap[nodes[i]]\n",
    "            if len(ni_edges) != l0: break\n",
    "\n",
    "            for j in range(i+1,len(nodes)):\n",
    "                nj_edges = adjMap[nodes[j]]\n",
    "                if len(nj_edges) != l1: break\n",
    "\n",
    "                sumV = len(ni_edges) + len(nj_edges)\n",
    "                sumV = sumV-1 if nodes[j] in adjMap[nodes[i]] else sumV\n",
    "                if sumV > maxV: maxV = sumV\n",
    "        \n",
    "        return maxV"
   ]
  },
  {
   "cell_type": "markdown",
   "id": "bebc5592",
   "metadata": {},
   "source": [
    "- We create an adjacency map, `adjMap`, that holds a list of connected edges for every node.\n",
    "- Then we sort `adjMap` by the number of edges such that the nodes with the largest number of edges are at the front.\n",
    "- Lastly, we have to iterate over all combinations of two nodes with the same number of edges as the top two nodes (`l0` and `l1`) to find two nodes that are not connected to each other."
   ]
  },
  {
   "cell_type": "markdown",
   "id": "06ab5240",
   "metadata": {},
   "source": [
    "### 1489. Find Critical and Pseudo-Critical Edges in Minimum Spanning Tree"
   ]
  },
  {
   "cell_type": "markdown",
   "id": "9d4d4cb8",
   "metadata": {},
   "source": [
    "#### My Initial Attempt:"
   ]
  },
  {
   "cell_type": "code",
   "execution_count": null,
   "id": "f9d8dc67",
   "metadata": {},
   "outputs": [],
   "source": [
    "class Solution:\n",
    "    def getMST(self, n, edges):\n",
    "        parents = list(range(n+1))\n",
    "        ranks = [1] * (n+1)\n",
    "\n",
    "        def find(n):\n",
    "            p = parents[n]\n",
    "            while p != parents[p]:\n",
    "                p = parents[p]\n",
    "            return p\n",
    "        \n",
    "        def union(n1, n2):\n",
    "            p1,p2 = find(n1),find(n2)\n",
    "            if p1 == p2: return False\n",
    "            if ranks[p1] > ranks[p2]:\n",
    "                parents[p2] = p1\n",
    "                ranks[p1] += ranks[p2]\n",
    "            else:\n",
    "                parents[p1] = p2\n",
    "                ranks[p2] += ranks[p1]\n",
    "            return True\n",
    "\n",
    "        edges.sort(key=lambda e: e[2])\n",
    "\n",
    "        mst,mst_len = [], 0\n",
    "        for n1, n2, n3 in edges:\n",
    "            if union(n1,n2):\n",
    "                mst.append([n1,n2])\n",
    "                mst_len += n3\n",
    "        \n",
    "        return mst, mst_len\n",
    "\n",
    "    def findCriticalAndPseudoCriticalEdges(self, n: int, edges: List[List[int]]) -> List[List[int]]:\n",
    "        # we have to copy edges to maintain their ordering because passing edges to getMST causes it to be mutated\n",
    "        initialMST, initialSum = self.getMST(n, edges.copy())\n",
    "        print(f'initial MST: {initialMST} ({initialSum})')\n",
    "\n",
    "        critical,pseudo = [],set()\n",
    "        prevEdges = set([tuple(e) for e in initialMST])\n",
    "        for i in range(len(edges)):\n",
    "            mst,s = self.getMST(n, edges[:i] + edges[i+1:])\n",
    "            print(f'[{i}] MST: {mst} ({s})')   \n",
    "            if s != initialSum: \n",
    "                critical.append(i)\n",
    "            elif s == initialSum:\n",
    "                currEdges = set([tuple(e) for e in mst])\n",
    "                pseudo.update( prevEdges.difference(currEdges) )\n",
    "                pseudo.update( currEdges.difference(prevEdges) )\n",
    "                prevEdges = currEdges\n",
    "                print(f'[{i}] updated pseudo-critical: {pseudo}')\n",
    "\n",
    "        pseudo = [ i for i in range(len(edges)) if tuple(edges[i][:2]) in pseudo ]\n",
    "        return [critical, pseudo]"
   ]
  },
  {
   "cell_type": "markdown",
   "id": "759d567b",
   "metadata": {},
   "source": [
    "- Unfortunately, this does not work due to some edge cases where iterating over all `edges` and calculating the **Minimum Spanning Tree** via `getMST` does not result in all possible MSTs.\n",
    "- I will eventually try to fix my code and get it accepted, but for now I will only leave this here."
   ]
  },
  {
   "cell_type": "markdown",
   "id": "329201b3",
   "metadata": {},
   "source": [
    "### 1203. Sort Items by Groups Respecting Dependencies"
   ]
  },
  {
   "cell_type": "code",
   "execution_count": null,
   "id": "2e49bb2a",
   "metadata": {},
   "outputs": [],
   "source": [
    "class Solution:\n",
    "    def kahn(self, nodes, constraints):\n",
    "        in_degree = defaultdict(int)\n",
    "        edges = defaultdict(list)\n",
    "        for n1,n2 in constraints:\n",
    "            edges[n1].append(n2)\n",
    "        print('\\n---------KAHN-------------')\n",
    "        print(f'nodes: {nodes}  constraints: {constraints}')\n",
    "        print(f'in_degree: {dict(in_degree)}  edges: {dict(edges)}')\n",
    "\n",
    "        # calculate in degrees for all nodes\n",
    "        for n1 in edges:\n",
    "            for n2 in edges[n1]:\n",
    "                in_degree[n2] += 1\n",
    "\n",
    "        # put all nodes with an in degree of 0 into the queue\n",
    "        queue = collections.deque()\n",
    "        for node in nodes:\n",
    "            if in_degree[node] == 0:\n",
    "                queue.append(node)\n",
    "\n",
    "        # perform kahn's algorithm (sequentially removing nodes when they have in degree 0)\n",
    "        count,ordering = 0,[]\n",
    "        while queue:\n",
    "            n1 = queue.popleft()\n",
    "            ordering.append(n1)\n",
    "\n",
    "            for n2 in edges[n1]:\n",
    "                in_degree[n2] -= 1\n",
    "                if in_degree[n2] == 0: queue.append(n2)\n",
    "            count += 1\n",
    "\n",
    "        # if there are still nodes left, we have a cycle, in which case we return an empty list\n",
    "        if count != len(nodes): \n",
    "            print([])\n",
    "            return []\n",
    "        else: \n",
    "            print(ordering)\n",
    "            return ordering\n",
    "\n",
    "\n",
    "    def sortItems(self, n: int, m: int, group: List[int], beforeItems: List[List[int]]) -> List[int]:\n",
    "        groups = defaultdict(list)\n",
    "        internal_constraints,external_constraints = defaultdict(list),[]\n",
    "        z_list = list(zip(group, beforeItems))\n",
    "\n",
    "        # construct the dictionary 'groups' that holds each group with a unique identifier\n",
    "        unique = -1\n",
    "        for i in range(len(group)):\n",
    "            if group[i] == -1:\n",
    "                groups[unique].append(i)\n",
    "                group[i] = unique\n",
    "                unique -= 1\n",
    "            else:\n",
    "                groups[group[i]].append(i)\n",
    "\n",
    "        # construct internal cosntraints for each group and external constraints for all groups\n",
    "        for item,t in enumerate(z_list):\n",
    "            for before in t[1]:\n",
    "                if group[item] == group[before]:\n",
    "                    internal_constraints[group[item]].append([before,item])\n",
    "                else:\n",
    "                    external_constraints.append([group[before],group[item]])\n",
    "        print(f'zipped list:          {z_list}\\ngroups:               {dict(groups)}\\ninternal constraints: {dict(internal_constraints)}\\nexternal constraints: {external_constraints}')\n",
    "\n",
    "        # Step 1: fulfill internal constraints\n",
    "        for group in internal_constraints.keys():\n",
    "            sorted_group = self.kahn(groups[group], internal_constraints[group])\n",
    "            if not sorted_group: return sorted_group\n",
    "            groups[group] = sorted_group\n",
    "        print(f'\\ngroups (step 1):      {dict(groups)}')\n",
    "\n",
    "        # Step 2: fulfill external constraints \n",
    "        sorted_groups = []\n",
    "        if external_constraints:\n",
    "            nodes = list(set([ group for constraint in external_constraints for group in constraint ]))\n",
    "            sorted_groups = self.kahn(nodes, external_constraints)\n",
    "            if not sorted_groups: return sorted_groups\n",
    "        print(f'\\ngroups (step 2):      {dict(groups)}')\n",
    "\n",
    "        # Step 3: return result\n",
    "        res = []\n",
    "        for group in sorted_groups:\n",
    "            res.append(groups[group])\n",
    "        for group in groups.values():\n",
    "            if group not in res: res.append(group)\n",
    "        res_flat = []\n",
    "        for l in res:\n",
    "            res_flat += l\n",
    "        \n",
    "        return res_flat"
   ]
  },
  {
   "cell_type": "markdown",
   "id": "ebb8d6cd",
   "metadata": {},
   "source": [
    "- Wow, I feel like I have been able to learn a lot from this problem; it certainly took a while to complete.\n",
    "- First, we extract the internal constraints (how do nodes have to be rearranged within groups) and the external constraints (how do the groups have to be rearranged) from the given `group` and `beforeItems`.\n",
    "- Then, we use **Kahn's Algorithm** to first rearrange the groups internally, using `internal_constraints`, and then rearrange the groups using `external_constraints`."
   ]
  },
  {
   "cell_type": "markdown",
   "id": "09a2e555",
   "metadata": {},
   "source": [
    "### 459. Repeated Substring Pattern"
   ]
  },
  {
   "cell_type": "code",
   "execution_count": null,
   "id": "166392be",
   "metadata": {},
   "outputs": [],
   "source": [
    "class Solution:\n",
    "    def repeatedSubstringPattern(self, s: str) -> bool:\n",
    "        def constructible(sub):\n",
    "            constructed = \"\"\n",
    "            while len(constructed) < len(s):\n",
    "                constructed += sub\n",
    "                if constructed != s[:len(constructed)]: return False\n",
    "            return True\n",
    "        \n",
    "        for i in range(len(s)//2):\n",
    "            if len(s)%(i+1): continue\n",
    "            if constructible(s[:i+1]):\n",
    "                return True\n",
    "        return False"
   ]
  },
  {
   "cell_type": "markdown",
   "id": "03d6f12e",
   "metadata": {},
   "source": [
    "- We iterate over the first half of the given string `s` and try out every substring in that range using the helper function `constructible`.\n",
    "- When a substring can be made into the original string, `constructible` returns `True`, and we return `True`."
   ]
  },
  {
   "cell_type": "markdown",
   "id": "72fe8244",
   "metadata": {},
   "source": [
    "### 168. Excel Sheet Column Title"
   ]
  },
  {
   "cell_type": "code",
   "execution_count": null,
   "id": "f5adc40e",
   "metadata": {},
   "outputs": [],
   "source": [
    "class Solution:\n",
    "    def convertToTitle(self, columnNumber: int) -> str:\n",
    "        n = 7\n",
    "        offsets = [0]*n\n",
    "        for i in range(1,n):\n",
    "            offsets[i] = offsets[i-1] + 26**i\n",
    "\n",
    "        res = \"\"\n",
    "        for j in reversed(range(n)):\n",
    "            if offsets[j] >= columnNumber: continue\n",
    "            counter = 0\n",
    "            while offsets[j] < columnNumber:\n",
    "                counter += 1\n",
    "                columnNumber -= 26**j\n",
    "            res += chr(64+counter)\n",
    "\n",
    "        return res"
   ]
  },
  {
   "cell_type": "markdown",
   "id": "acdcf969",
   "metadata": {},
   "source": [
    "- The solution to this problem was a bit tricky to figure out considering that it is rated easy.\n",
    "- First, we initialize a list of `offsets` that will store the beginning number for every letter index.\n",
    "- Then, we iterate from `26` to the power of `0` to `26` to the power of a sufficiently large `n`, and add the corresponding letter for every offset to our result `res`."
   ]
  },
  {
   "cell_type": "markdown",
   "id": "9c8845fb",
   "metadata": {},
   "source": [
    "### 767. Reorganize String"
   ]
  },
  {
   "cell_type": "code",
   "execution_count": null,
   "id": "2f9a9500",
   "metadata": {},
   "outputs": [],
   "source": [
    "class Solution:\n",
    "    def reorganizeString(self, s: str) -> str:\n",
    "        c = collections.Counter(s)\n",
    "        l = [t[0] for t in c.most_common(2)]\n",
    "        \n",
    "        res = \"\"\n",
    "        while l:\n",
    "            if res and res[-1] == l[0]: return \"\"\n",
    "            res += f\"{l[0]}{l[1]}\" if len(l) == 2 else f\"{l[0]}\"\n",
    "            c.subtract(l)\n",
    "            l = [t[0] for t in c.most_common(2) if t[1] > 0]\n",
    "        return res"
   ]
  },
  {
   "cell_type": "markdown",
   "id": "1d0b00f4",
   "metadata": {},
   "source": [
    "- This problem is very similar to *621. Task Scheduler* in that the letters of the string could be interpreted as tasks, and the cooldown for each task is 1 round.\n",
    "- All that is left to do then is to append the most frequent task and the second most frequent task to the string until there are no more tasks left."
   ]
  },
  {
   "cell_type": "markdown",
   "id": "b32cd1f0",
   "metadata": {},
   "source": [
    "### 68. Text Justification"
   ]
  },
  {
   "cell_type": "code",
   "execution_count": null,
   "id": "d047c665",
   "metadata": {},
   "outputs": [],
   "source": [
    "class Solution:\n",
    "    def fullJustify(self, words: List[str], maxWidth: int) -> List[str]:\n",
    "        res = []\n",
    "        \n",
    "        # Step 1 extract the string into proper lines\n",
    "        lines = []\n",
    "        curr,c_len,spaces = [],0,0\n",
    "        for word in words:\n",
    "            if len(word) + c_len + spaces < maxWidth:\n",
    "                curr.append(word)\n",
    "                c_len += len(word)\n",
    "                spaces = len(curr)-1 if len(curr)>1 else 0\n",
    "            else: \n",
    "                if c_len > 0: lines.append([curr.copy(),c_len,spaces])\n",
    "                curr.clear()\n",
    "                curr.append(word)\n",
    "                c_len = len(word)\n",
    "                spaces = 0\n",
    "        lines.append([curr,c_len,spaces])\n",
    "        \n",
    "        \n",
    "        # Step 2 properly insert spaces into the lines\n",
    "        for j,line in enumerate(lines):\n",
    "            if j == len(lines)-1: # the last line should be left justfified\n",
    "                s = \" \".join(lines[j][0])\n",
    "                res.append(s.ljust(maxWidth))\n",
    "                break\n",
    "            fields,available = line[2],maxWidth-line[1]\n",
    "            per_field = available // fields if fields > 0 else available\n",
    "            extra = available % fields if fields > 0 else 0\n",
    "            \n",
    "            s = \"\"\n",
    "            for i,word in enumerate(line[0]):\n",
    "                s += word\n",
    "                if i == len(line[0])-1: \n",
    "                    if i == 0: s = s.ljust(maxWidth) # left justify lines containing one word\n",
    "                    break # dont add spaces after the last word in a line\n",
    "                s += \"\".rjust(per_field)\n",
    "                if extra: \n",
    "                    s += \" \"\n",
    "                    extra -= 1\n",
    "            res.append(s)\n",
    "        \n",
    "        return res"
   ]
  },
  {
   "cell_type": "markdown",
   "id": "c13156ae",
   "metadata": {},
   "source": [
    "- We solve this problem in two distinct steps.\n",
    "- The first step is to fill a list of `lines` using a greedy approach (we keep adding words to a `line` as long as the sum of their length plus one space between every two words doesn't exceed `maxWidth`).\n",
    "- The second step is to convert every `line` into a string, making sure to insert the proper amount of spaces between words."
   ]
  },
  {
   "cell_type": "markdown",
   "id": "5383ae69",
   "metadata": {},
   "source": [
    "### 97. Interleaving String"
   ]
  },
  {
   "cell_type": "code",
   "execution_count": null,
   "id": "710c7a27",
   "metadata": {},
   "outputs": [],
   "source": [
    "class Solution:\n",
    "    def isInterleave(self, s1: str, s2: str, s3: str) -> bool:\n",
    "        \n",
    "        m = dict()\n",
    "        found = False\n",
    "        def bt(s1, s2, s3):\n",
    "            nonlocal found\n",
    "            if found: \n",
    "                return True\n",
    "            if not s1 and not s2 and not s3: \n",
    "                found = True\n",
    "                return True\n",
    "            if (s1,s2) in m:\n",
    "                return m[(s1,s2)]\n",
    "            \n",
    "            r1,r2 = False,False\n",
    "            if s3 and s1 and s1[0] == s3[0]:\n",
    "                r1 = bt(s1[1:], s2, s3[1:])\n",
    "            if s3 and s2 and s2[0] == s3[0]:\n",
    "                r2 = bt(s1, s2[1:], s3[1:])\n",
    "                \n",
    "            m[(s1,s2)] = r1 or r2\n",
    "            return r1 or r2\n",
    "        \n",
    "        return bt(s1,s2,s3)"
   ]
  },
  {
   "cell_type": "markdown",
   "id": "f9c6d402",
   "metadata": {},
   "source": [
    "- I solved this problem with a **Backtracking** approach combined with **Memoization**.\n",
    "- How it works is that we try all possible ways of constructing `s3` from `s1` and `s2` and cut off whenever we reach a state where the first letter of `s3` does not match either of the first letters of `s1` and `s2`.\n",
    "- We save the results in a dictionary `m` such that we can avoid recalculating a result that we have already calculated."
   ]
  },
  {
   "attachments": {
    "InterleavingString.png": {
     "image/png": "[encoded data removed]"
    }
   },
   "cell_type": "markdown",
   "id": "4d0a0960",
   "metadata": {},
   "source": [
    "![InterleavingString.png](attachment:InterleavingString.png)"
   ]
  },
  {
   "cell_type": "markdown",
   "id": "4d92640e",
   "metadata": {},
   "source": [
    "### 646. Maximum Length of Pair Chain"
   ]
  },
  {
   "cell_type": "code",
   "execution_count": null,
   "id": "c7f38c7b",
   "metadata": {},
   "outputs": [],
   "source": [
    "class Solution:\n",
    "    def findLongestChain(self, pairs: List[List[int]]) -> int:\n",
    "        s_pairs = sorted(pairs, key=lambda x: x[1])\n",
    "        \n",
    "        curr,count = s_pairs[0],1\n",
    "        for pair in s_pairs:\n",
    "            if pair[0] > curr[1]:\n",
    "                curr = pair\n",
    "                count += 1\n",
    "\n",
    "        return count"
   ]
  },
  {
   "cell_type": "markdown",
   "id": "03eb1230",
   "metadata": {},
   "source": [
    "- This problem could be solved by sorting the given `pairs` by their second values and then iterating over the sorted pairs, `s_pairs`, to construct the largest chain or keep track of its length.\n",
    "- This works because we are creating groups of `pairs` that are grouped by their second value, and since these groups are ordered in incrementing order, we are guaranteed that the next fitting `pair` that we find in our iteration is the smallest possible next chain link.\n",
    "- It is also important to note that each group will have at most one chain link that it adds to the chain."
   ]
  },
  {
   "attachments": {
    "MaximumLengthPairChain.png": {
     "image/png": "[encoded data removed]"
    }
   },
   "cell_type": "markdown",
   "id": "240cf4a8",
   "metadata": {},
   "source": [
    "![MaximumLengthPairChain.png](attachment:MaximumLengthPairChain.png)"
   ]
  }
 ],
 "metadata": {
  "kernelspec": {
   "display_name": "Python 3 (ipykernel)",
   "language": "python",
   "name": "python3"
  },
  "language_info": {
   "codemirror_mode": {
    "name": "ipython",
    "version": 3
   },
   "file_extension": ".py",
   "mimetype": "text/x-python",
   "name": "python",
   "nbconvert_exporter": "python",
   "pygments_lexer": "ipython3",
   "version": "3.10.9"
  }
 },
 "nbformat": 4,
 "nbformat_minor": 5
}
