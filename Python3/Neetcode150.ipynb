{
 "cells": [
  {
   "cell_type": "markdown",
   "id": "ca41946d",
   "metadata": {},
   "source": [
    "# Table of Contents\n",
    "- **[Arrays & Hashing](#arrays)**\n",
    "- **[Two Pointers](#pointers)**\n",
    "- **[Stack](#stack)**\n",
    "- **[Sliding Window](#slidingwindow)**\n",
    "- **[Binary Search](#binarysearch)**\n",
    "- **[Linked List](#linkedlist)**\n",
    "- **[Trees](#trees)**\n",
    "- **[Tries](#tries)**\n",
    "- **[Heap / Priority Queue](#heappriority)**"
   ]
  },
  {
   "cell_type": "markdown",
   "id": "75ba7780",
   "metadata": {},
   "source": [
    "## Arrays & Hashing <a name=\"arrays\"></a>"
   ]
  },
  {
   "cell_type": "markdown",
   "id": "f7fdf0a0",
   "metadata": {},
   "source": [
    "### 217. Contains Duplicate "
   ]
  },
  {
   "cell_type": "code",
   "execution_count": null,
   "id": "5f5833e7",
   "metadata": {},
   "outputs": [],
   "source": [
    "class Solution:\n",
    "    def containsDuplicate(self, nums: List[int]) -> bool:\n",
    "        return not len(set(nums)) == len(nums)"
   ]
  },
  {
   "cell_type": "markdown",
   "id": "42c3cf35",
   "metadata": {},
   "source": [
    "### 242. Valid Anagram"
   ]
  },
  {
   "cell_type": "code",
   "execution_count": 2,
   "id": "7eb13482",
   "metadata": {},
   "outputs": [],
   "source": [
    "class Solution:\n",
    "    def isAnagram(self, s: str, t: str) -> bool:\n",
    "        for char in s:\n",
    "            if t == '':\n",
    "                return False\n",
    "            t = t.replace(char, '', 1)\n",
    "        if t != '':\n",
    "            return False\n",
    "        return True"
   ]
  },
  {
   "cell_type": "markdown",
   "id": "f630a2c5",
   "metadata": {},
   "source": [
    "### 1. Two Sum"
   ]
  },
  {
   "cell_type": "code",
   "execution_count": null,
   "id": "bd032073",
   "metadata": {},
   "outputs": [],
   "source": [
    "class Solution:\n",
    "    def twoSum(self, nums: List[int], target: int) -> List[int]:\n",
    "        for i in range(len(nums)):\n",
    "            for j in range(i + 1, len(nums)):\n",
    "                if nums[i] + nums[j] == target:\n",
    "                    return [i, j]"
   ]
  },
  {
   "cell_type": "markdown",
   "id": "14b0fe6c",
   "metadata": {},
   "source": [
    "### 49. Group Anagrams"
   ]
  },
  {
   "cell_type": "markdown",
   "id": "9dcbd3d9",
   "metadata": {},
   "source": [
    "#### My Initial Solution:"
   ]
  },
  {
   "cell_type": "code",
   "execution_count": null,
   "id": "16a4f68a",
   "metadata": {},
   "outputs": [],
   "source": [
    "class Solution:\n",
    "    def isAnagram(self, s: str, t: str) -> bool:\n",
    "        if len(s) != len(t):\n",
    "            return False\n",
    "        for char in s:\n",
    "            if not list(s).count(char) == list(t).count(char):\n",
    "                return False\n",
    "        return True\n",
    "\n",
    "    def groupAnagrams(self, strs: List[str]) -> List[List[str]]:\n",
    "        dict = {}\n",
    "        for string in strs:\n",
    "            addedToDict = False\n",
    "            for key in dict.keys():\n",
    "                if self.isAnagram(string, key):\n",
    "                    arr = dict[key]\n",
    "                    arr.append(string)\n",
    "                    dict[key] = arr\n",
    "                    addedToDict = True\n",
    "            if not addedToDict:\n",
    "                dict[string] = [string]\n",
    "        return list(dict.values())"
   ]
  },
  {
   "cell_type": "markdown",
   "id": "0998c822",
   "metadata": {},
   "source": [
    "- The problem with this code is that very large sets don't run quickly enough.\n",
    "- I am looking for ways to improve performance for that reason.\n",
    "- Looking at the solution video it seems you have to use a dict with keys being the character count, i.e. {a:2, c:1, d:1} and values being a list of words matching that pattern."
   ]
  },
  {
   "cell_type": "markdown",
   "id": "5cb891b7",
   "metadata": {},
   "source": [
    "#### Improved Solution:"
   ]
  },
  {
   "cell_type": "code",
   "execution_count": null,
   "id": "5aa3c2f1",
   "metadata": {},
   "outputs": [],
   "source": [
    "class Solution:\n",
    "    def groupAnagrams(self, strs: List[str]) -> List[List[str]]:\n",
    "        res = defaultdict(list)\n",
    "\n",
    "        for string in strs:\n",
    "            count = [0] * 26\n",
    "\n",
    "            for c in string:\n",
    "                count[ord(c) - ord('a')] += 1\n",
    "\n",
    "            res[tuple(count)].append(string)\n",
    "\n",
    "        return res.values()"
   ]
  },
  {
   "cell_type": "markdown",
   "id": "362f92a8",
   "metadata": {},
   "source": [
    "- The way this works is, we create a list `count` for each string, which holds 26 fields, representing the frequency of the lowercase letters of the alphabet. \n",
    "- Then we go through the characters of each string and populate `count`. For example the string `cab` would result in `[1,1,1,0,0,...]`\n",
    "- This will then be used as the key in the `res` dictionary, where we append the string to the corresponding list of values.\n",
    "- These values are then returned as the result.\n",
    "- An intuitive way to think about this, is that we are using histograms as keys, and lists of values fitting the pattern of the histogram, as values."
   ]
  },
  {
   "attachments": {
    "GroupAnagrams.png": {
     "image/png": "[encoded data removed]"
    }
   },
   "cell_type": "markdown",
   "id": "99fa6aca",
   "metadata": {},
   "source": [
    "![GroupAnagrams.png](attachment:GroupAnagrams.png)"
   ]
  },
  {
   "cell_type": "markdown",
   "id": "420355f5",
   "metadata": {},
   "source": [
    "### 347. Top K Frequent Elements"
   ]
  },
  {
   "cell_type": "code",
   "execution_count": null,
   "id": "b4c2680a",
   "metadata": {},
   "outputs": [],
   "source": [
    "class Solution:\n",
    "    def topKFrequent(self, nums: List[int], k: int) -> List[int]:\n",
    "        counter = dict(Counter(nums))\n",
    "        counter = dict(sorted(counter.items(), key=lambda item: item[1]))\n",
    "        counterList = list(reversed(list(counter.keys())))\n",
    "        res = []\n",
    "        for i in range(k):\n",
    "            res.append(counterList[i])\n",
    "        return res"
   ]
  },
  {
   "cell_type": "markdown",
   "id": "47d89262",
   "metadata": {},
   "source": [
    "- My thought process here was to use the `Counter` object from python to count the occurences of each number in `nums`, and return the `k` most frequent numbers.\n",
    "- To retrieve the most frequent numbers, I sorted the `counter` dictionary by it's values (ascending), extracted the keys as `counterList`, reversed `counterList` for a descending ordering, and returned the `k` first keys."
   ]
  },
  {
   "cell_type": "markdown",
   "id": "ce88ec82",
   "metadata": {},
   "source": [
    "### 238. Product of Array Except Self"
   ]
  },
  {
   "cell_type": "markdown",
   "id": "4c8ea971",
   "metadata": {},
   "source": [
    "#### My Initial Solution:"
   ]
  },
  {
   "cell_type": "code",
   "execution_count": null,
   "id": "8437ade1",
   "metadata": {},
   "outputs": [],
   "source": [
    "class Solution:\n",
    "    def prod(self, nums: List[int]) -> int:\n",
    "        prod = 1\n",
    "        for i in range(len(nums)):\n",
    "            prod = prod * nums[i]\n",
    "        return prod\n",
    "        \n",
    "    def productExceptSelf(self, nums: List[int]) -> List[int]:\n",
    "        res = [0] * len(nums)\n",
    "        for i in range(len(nums)):\n",
    "            if nums[i] != 0:\n",
    "                res[i] = int(self.prod(nums) / nums[i])\n",
    "            elif nums[i] == 0:\n",
    "                temp = nums.copy()\n",
    "                nums.pop(i) \n",
    "                res[i] = self.prod(nums)\n",
    "                nums = temp\n",
    "        return res"
   ]
  },
  {
   "cell_type": "markdown",
   "id": "c21cd735",
   "metadata": {},
   "source": [
    "- Technically this works, but it is highly inefficient because each product is calculated by moving through the whole list, which results in a complexity of O(n^2)."
   ]
  },
  {
   "cell_type": "markdown",
   "id": "b4d4f23b",
   "metadata": {},
   "source": [
    "#### Improved Solution:"
   ]
  },
  {
   "cell_type": "code",
   "execution_count": null,
   "id": "d06f5800",
   "metadata": {},
   "outputs": [],
   "source": [
    "class Solution:\n",
    "    #step 1: save the product for each unique number in a dict\n",
    "    #step 2: go through nums and for each number paste the corresponding value of the dict into the result array \n",
    "    def prod(self, nums: List[int]) -> int:\n",
    "        prod = 1\n",
    "        for i in range(len(nums)):\n",
    "            prod = prod * nums[i]\n",
    "        return prod\n",
    "\n",
    "    def productExceptSelf(self, nums: List[int]) -> List[int]:\n",
    "        unique = list(set(nums))\n",
    "        uniqueDict = defaultdict(int)\n",
    "        for num in unique:\n",
    "            temp = nums.copy()\n",
    "            nums.remove(num)\n",
    "            uniqueDict[num] = self.prod(nums)\n",
    "            nums = temp \n",
    "        res = [0] * len(nums)\n",
    "        for count, num in enumerate(nums):\n",
    "            res[count] = uniqueDict[num]\n",
    "        return res"
   ]
  },
  {
   "cell_type": "markdown",
   "id": "89cc2f80",
   "metadata": {},
   "source": [
    "- What I have done to drastically improve the performance and reduce the complexity to O(n), was to first retrieve all unique values inside of `nums`, and save them inside of `unique`.\n",
    "- Then I created a dictionary `uniqueDict`, which would hold the product corresponding to each of the unique numbers.\n",
    "- Lastly I went through `nums` and populated the `res` list with the matching dictionary entries for each `num` in `nums`."
   ]
  },
  {
   "cell_type": "markdown",
   "id": "cee435f3",
   "metadata": {},
   "source": [
    "### 36. Valid Sudoku"
   ]
  },
  {
   "cell_type": "code",
   "execution_count": null,
   "id": "80eb7029",
   "metadata": {},
   "outputs": [],
   "source": [
    "class Solution:\n",
    "    def isValidSudoku(self, board: List[List[str]]) -> bool:\n",
    "        # Step 1 validate rows\n",
    "        valid = range(1, 10)\n",
    "        isValid = True\n",
    "        for i in range(len(board)):\n",
    "            row = [int(val) for val in board[i] if val != \".\"]\n",
    "            print(row)\n",
    "            if not sorted(row) == sorted(list(set(row))):\n",
    "                isValid = False\n",
    "            for val in row:\n",
    "                if not val in valid:\n",
    "                    isValid = False\n",
    "        print(f'rows are {isValid}')\n",
    "        # Step 2 validate cols\n",
    "        colCount = 0\n",
    "        while colCount < len(board):\n",
    "            col = []\n",
    "            for i in range(len(board)):\n",
    "                col.append(board[i][colCount])\n",
    "            col = [int(val) for val in col if val != \".\"]\n",
    "            print(col)\n",
    "            if not sorted(col) == sorted(list(set(col))):\n",
    "                isValid = False\n",
    "            for val in col:\n",
    "                if not val in valid:\n",
    "                    isValid = False\n",
    "            colCount += 1\n",
    "        print(f'cols are {isValid}')\n",
    "        # Step 3 validate blocks\n",
    "        layer = 0\n",
    "        block = 0\n",
    "        for i in range(len(board)):\n",
    "            vals = []\n",
    "            if block == 9:\n",
    "                block = 0\n",
    "                layer += 3\n",
    "            for j in range(3):\n",
    "                for i in range(3):\n",
    "                    vals.append(board[block + j][layer + i])\n",
    "            vals = [int(val) for val in vals if val != \".\"]\n",
    "            print(vals)\n",
    "            if not sorted(vals) == sorted(list(set(vals))):\n",
    "                isValid = False\n",
    "            for val in vals:\n",
    "                if not val in valid:\n",
    "                    isValid = False\n",
    "            block += 3\n",
    "        print(f'blocks are {isValid}')\n",
    "        return isValid"
   ]
  },
  {
   "cell_type": "markdown",
   "id": "2ab3ead5",
   "metadata": {},
   "source": [
    "- This task was pretty straightforward. I went through it in three distinct steps.\n",
    "- First, I extracted the rows of the board, and validated them by making sure that each `row` only contains unique values from 1 to 9.\n",
    "- The second and third step follow the exact same pattern, although I had to put some more effort into properly indexing the blocks in step three."
   ]
  },
  {
   "cell_type": "markdown",
   "id": "19767268",
   "metadata": {},
   "source": [
    "### 271. Encode and Decode Strings"
   ]
  },
  {
   "cell_type": "markdown",
   "id": "c4edf70e",
   "metadata": {},
   "source": [
    "#### Provisional Solution:"
   ]
  },
  {
   "cell_type": "code",
   "execution_count": null,
   "id": "d2e8bfe6",
   "metadata": {},
   "outputs": [],
   "source": [
    "class Solution:\n",
    "    def encode(self, strs: List[str]) -> str:\n",
    "        res = ''\n",
    "        for i, string in enumerate(strs):\n",
    "            if i != len(strs) - 1:\n",
    "                res = res + string + ':;'\n",
    "            else:\n",
    "                res = res + string\n",
    "        return res\n",
    "    \n",
    "    def decode(self, str) -> List[str]:\n",
    "        strs = str.join(':;')\n",
    "        return strs"
   ]
  },
  {
   "cell_type": "markdown",
   "id": "0687adb8",
   "metadata": {},
   "source": [
    "- Due to this being a problem that requires leetcode premium, I am unable to check whether my solution would be accepted.\n",
    "- For now I will leave this solution here, but it is definitely subject to change and likely will not pass the tests."
   ]
  },
  {
   "cell_type": "markdown",
   "id": "141d14a3",
   "metadata": {},
   "source": [
    "### 128. Longest Consecutive Sequence"
   ]
  },
  {
   "cell_type": "code",
   "execution_count": null,
   "id": "336ea36d",
   "metadata": {},
   "outputs": [],
   "source": [
    "class Solution:\n",
    "    def longestConsecutive(self, nums: List[int]) -> int:\n",
    "        if nums == []:\n",
    "            return 0\n",
    "        s_nums = sorted(list(set(nums)))\n",
    "        count = 1\n",
    "        res = 1\n",
    "        for i in range(len(s_nums) - 1):\n",
    "            if s_nums[i] == s_nums[i+1] - 1:\n",
    "                count += 1\n",
    "                if i == len(s_nums) - 2 and count > res:\n",
    "                    res = count\n",
    "            else:\n",
    "                if count > res:\n",
    "                    res = count\n",
    "                count = 1\n",
    "        return res"
   ]
  },
  {
   "cell_type": "markdown",
   "id": "4c54db14",
   "metadata": {},
   "source": [
    "- To solve this problem, I first converted `nums` into a sorted and unique list `s_nums`. \n",
    "- Similarly to finding the maximum value in a list, I traversed `s_nums` and saved the state of the longest sequence of elements increasing by steps of one, inside of `res`."
   ]
  },
  {
   "cell_type": "markdown",
   "id": "6cb799f7",
   "metadata": {},
   "source": [
    "## Two Pointers <a name=\"pointers\"></a>"
   ]
  },
  {
   "cell_type": "markdown",
   "id": "ffad6fe0",
   "metadata": {},
   "source": [
    "### 125. Valid Palindrome"
   ]
  },
  {
   "cell_type": "code",
   "execution_count": null,
   "id": "9d56f658",
   "metadata": {},
   "outputs": [],
   "source": [
    "class Solution:\n",
    "    def isPalindrome(self, s: str) -> bool:\n",
    "        s = re.sub(r'\\W', '', s)\n",
    "        s = s.lower()\n",
    "        s = s.replace('_', '')\n",
    "        if s == '':\n",
    "            return True\n",
    "        print(s)\n",
    "        half = int(len(s) / 2)\n",
    "        print(f'len {len(s)} half {half}')\n",
    "        for i in range(half):\n",
    "            print(f'comparing {s[i]} : {s[len(s) - 1 - i]}')\n",
    "            if s[i] != s[len(s) - 1 - i]:\n",
    "                return False\n",
    "        return True"
   ]
  },
  {
   "cell_type": "markdown",
   "id": "645d437a",
   "metadata": {},
   "source": [
    "- As the description of this task mentions, a String is a palindrome when its reduction to alphanumeric and lowercase letters, reads the same forward and backward.\n",
    "- To this end, I have used a regular expression and the `lower()` method to convert `s` into the desired format.\n",
    "- Lastly, I iterated through `half` the length of `s`, starting with one pointer at the end of `s` and another pointer at the start of `s`, and compared their characters."
   ]
  },
  {
   "cell_type": "markdown",
   "id": "9bf4e141",
   "metadata": {},
   "source": [
    "### 167. Two Sum II - Input Array Is Sorted"
   ]
  },
  {
   "cell_type": "code",
   "execution_count": null,
   "id": "f4970828",
   "metadata": {},
   "outputs": [],
   "source": [
    "class Solution:\n",
    "    def twoSum(self, numbers: List[int], target: int) -> List[int]:\n",
    "        for i, num in enumerate(numbers):\n",
    "            if i < len(numbers) - 2 and num == numbers[i+2]:  \n",
    "                continue\n",
    "            for j in range(i+1, len(numbers)):\n",
    "                if num + numbers[j] == target:\n",
    "                    print(f'target reached with {i}, {j}')\n",
    "                    return [i+1,j+1]\n",
    "                elif num + numbers[j] > target:\n",
    "                    break"
   ]
  },
  {
   "cell_type": "markdown",
   "id": "0755616b",
   "metadata": {},
   "source": [
    "- The way I approached this problem, was to iterate through every `num` in `numbers`, and for every `num`, to iterate over all subsequent numbers, until either the target is reached, or the sum is greater than the `target`.\n",
    "- To avoid unnecessary calculations of sums, the inner loop breaks as soon as the sum is greater than `target`.\n",
    "- I had to add another conditional check at the start of the outer loop, to further increase performance for large inputs.\n",
    "- The first check will ensure that we avoid entering the inner loop, as long as there are more than two subsequent numbers with the same value.\n",
    "- Both breaking out of the loop and the first conditional only work because the list is sorted."
   ]
  },
  {
   "cell_type": "markdown",
   "id": "1a482f9b",
   "metadata": {},
   "source": [
    "### 15. 3Sum"
   ]
  },
  {
   "cell_type": "markdown",
   "id": "2abad4ee",
   "metadata": {},
   "source": [
    "#### My Initial Solution:"
   ]
  },
  {
   "cell_type": "code",
   "execution_count": null,
   "id": "26f2740f",
   "metadata": {},
   "outputs": [],
   "source": [
    "class Solution:\n",
    "    def threeSum(self, nums: List[int]) -> List[List[int]]:\n",
    "        res = []\n",
    "        for i in range(len(nums)):\n",
    "            for j in range(i+1, len(nums)):\n",
    "                for k in range(j+1, len(nums)):\n",
    "                    if nums[i] + nums[j] + nums[k] == 0:\n",
    "                        arr = sorted([nums[i],nums[j],nums[k]])\n",
    "                        if not arr in res:\n",
    "                            res.append(arr)\n",
    "        return res"
   ]
  },
  {
   "cell_type": "markdown",
   "id": "8a8533d9",
   "metadata": {},
   "source": [
    "- This works, but it is quite inefficient and therefore exceeds the time limit on larger inputs.\n",
    "- I have to think about a way of reducing the time complexity of my solution from O(n^3) to something smaller."
   ]
  },
  {
   "cell_type": "markdown",
   "id": "65d620e1",
   "metadata": {},
   "source": [
    "#### Another Solution:"
   ]
  },
  {
   "cell_type": "code",
   "execution_count": null,
   "id": "3ce0473a",
   "metadata": {},
   "outputs": [],
   "source": [
    "class Solution:\n",
    "    def threeSum(self, nums: List[int]) -> List[List[int]]:\n",
    "        if list(set(nums)) == [0]:\n",
    "            return [[0,0,0]]\n",
    "        res = []\n",
    "        if nums.count(0) >= 3:\n",
    "            res.append([0,0,0])\n",
    "        flag = 0 in nums\n",
    "        nums = [num for num in nums if num != 0]\n",
    "        if flag:\n",
    "            nums.append(0)\n",
    "        s_nums = sorted(nums)\n",
    "        if len(s_nums) == 3 and abs(s_nums[0]) == s_nums[2] and s_nums[1] == 0:\n",
    "            return [s_nums]\n",
    "        print(f'sorted nums: {s_nums}')\n",
    "        # Step 1: Two pointers on the elements leftmost of 0 and one on the rightmost element\n",
    "        right = len(nums) - 1\n",
    "        while(s_nums[right] > 0):\n",
    "            if s_nums[0] >= 0 or s_nums[1] >= 0:\n",
    "                break\n",
    "            if abs(s_nums[right]) > abs(s_nums[0] + s_nums[1]):\n",
    "                right -= 1\n",
    "                continue\n",
    "            for i in range(len(s_nums)):\n",
    "                if s_nums[i] == 0:\n",
    "                    break\n",
    "                for j in range(i+1, len(s_nums)):\n",
    "                    if s_nums[j] > 0:\n",
    "                        break\n",
    "                    if abs(s_nums[i] + s_nums[j]) < s_nums[right]:\n",
    "                        break\n",
    "                    elif abs(s_nums[i] + s_nums[j]) == s_nums[right]:\n",
    "                        arr = sorted([s_nums[i], s_nums[j], s_nums[right]])\n",
    "                        if not arr in res:\n",
    "                            res.append(arr)\n",
    "            right -= 1\n",
    "        print(f'res after starting with two pointers on the left of 0: {res}')\n",
    "        # Step 2: Two pointers on the elements rightmost of 0 and one on the leftmost element\n",
    "        left = 0\n",
    "        while(s_nums[left] < 0):\n",
    "            if s_nums[len(nums) - 2] <= 0 or s_nums[len(nums) - 1] <= 0:\n",
    "                break\n",
    "            if abs(s_nums[left]) > abs(s_nums[len(nums) - 2] + s_nums[len(nums) - 1]):\n",
    "                left += 1\n",
    "                continue\n",
    "            for i in reversed(range(len(s_nums))):\n",
    "                if s_nums[i] == 0:\n",
    "                    break\n",
    "                for j in reversed(range(i)):\n",
    "                    if s_nums[j] < 0:\n",
    "                        break\n",
    "                    if s_nums[i] + s_nums[j] < abs(s_nums[left]):\n",
    "                        break\n",
    "                    elif s_nums[i] + s_nums[j] == abs(s_nums[left]):\n",
    "                        arr = sorted([s_nums[i], s_nums[j], s_nums[left]])\n",
    "                        if not arr in res:\n",
    "                            res.append(arr)\n",
    "            left += 1\n",
    "        print(f'res after starting with two pointers on the right of 0: {res}')\n",
    "        return res"
   ]
  },
  {
   "cell_type": "markdown",
   "id": "e0e2ffca",
   "metadata": {},
   "source": [
    "- This solution is a bit faster than my first solution, but it is still not fast enough to pass the tests for large inputs.\n",
    "- In this solution I am handling a few edge cases at the beginning of the code, and then traverse the sorted `s_nums`.\n",
    "- In the first `while` loop I placed two pointers on the negative half of the sorted array, and compare their absolute sum to the rightmost element. \n",
    "- When no combination of two negative values has yielded the positive element on the right, I decrease the rightmost pointer by one, and try to match it with combinations of negative values again. \n",
    "- The same process is repeated in the next `while` loop, starting with two pointers to the rightmost elements."
   ]
  },
  {
   "cell_type": "markdown",
   "id": "c86f1449",
   "metadata": {},
   "source": [
    "#### Yet Another Solution:"
   ]
  },
  {
   "cell_type": "code",
   "execution_count": null,
   "id": "95b7b130",
   "metadata": {},
   "outputs": [],
   "source": [
    "class Solution:\n",
    "    def twoSum(self, numbers: List[int], target: int, solutions: List[list]) -> List[int]:\n",
    "        for i, num in enumerate(numbers):\n",
    "            if i < len(numbers) - 2 and num == numbers[i+2]:  \n",
    "                continue\n",
    "            for j in range(i+1, len(numbers)):\n",
    "                if num + numbers[j] == target and not [num, numbers[j], -target] in solutions:\n",
    "                    return [numbers[i],numbers[j]]\n",
    "                elif num + numbers[j] > target:\n",
    "                    break\n",
    "        return None\n",
    "    def threeSum(self, nums: List[int]) -> List[List[int]]:\n",
    "        res = []\n",
    "        solutions = defaultdict(list)\n",
    "        s_nums = sorted(nums)\n",
    "        unique_s_nums = sorted(list(set(s_nums)))\n",
    "        for i in range(len(unique_s_nums)):\n",
    "            fixed = unique_s_nums[i]\n",
    "            temp = s_nums.copy()\n",
    "            s_nums.remove(fixed)\n",
    "            ts = []\n",
    "            while not ts is None:\n",
    "                ts = self.twoSum(s_nums, -fixed, solutions[fixed])\n",
    "                if not ts is None:\n",
    "                    ts.append(fixed)\n",
    "                    solutions[fixed].append(ts)\n",
    "                    arr = sorted(ts)\n",
    "                    if not arr in res:\n",
    "                        res.append(arr)\n",
    "            s_nums = temp\n",
    "        return res"
   ]
  },
  {
   "cell_type": "markdown",
   "id": "138e6ebf",
   "metadata": {},
   "source": [
    "- Looking at the hints, it became clear that you are supposed to reduce the problem to a two sum, by fixing one value at a time.\n",
    "- I iterated through the unique values in `nums` via `unique_s_nums`, and for each value `fixed`, I retrieved all possible two sums via the helper function `twoSum`.\n",
    "- It is still not efficient enough to pass with large inputs."
   ]
  },
  {
   "cell_type": "markdown",
   "id": "ec33d38c",
   "metadata": {},
   "source": [
    "#### Improved Solution:"
   ]
  },
  {
   "cell_type": "code",
   "execution_count": null,
   "id": "76c5fa40",
   "metadata": {},
   "outputs": [],
   "source": [
    "class Solution:\n",
    "    def threeSum(self, nums: List[int]) -> List[List[int]]:\n",
    "        res = []\n",
    "        s_nums = sorted(nums)\n",
    "\n",
    "        for i, num in enumerate(s_nums):\n",
    "            if i > 0 and s_nums[i-1] == s_nums[i]:\n",
    "                continue\n",
    "            left, right = i+1, len(s_nums)-1\n",
    "            while left < right:\n",
    "                s = num + s_nums[left] + s_nums[right]\n",
    "                if s > 0:\n",
    "                    right -= 1\n",
    "                    continue\n",
    "                elif s < 0:\n",
    "                    left += 1\n",
    "                    continue\n",
    "                elif s == 0:\n",
    "                    res.append([num, s_nums[left], s_nums[right]])\n",
    "                    left += 1\n",
    "                    while s_nums[left-1] == s_nums[left] and left < right:\n",
    "                        left += 1\n",
    "        return res"
   ]
  },
  {
   "cell_type": "markdown",
   "id": "b7c8da89",
   "metadata": {},
   "source": [
    "- After coding out another inefficient solution which I have not included here, I decided to check out the solution.\n",
    "- The way it works is that we first sort `nums` and save it in `s_nums`, then we iterate through `s_nums`, skipping duplicate elements, and for each number we find the matching two sums in the remainder of `s_nums` to the right.\n",
    "- The two sums in the remaining list can be found by placing a pointer `left` on the leftmost element and a pointer `right` on the rightmost element, and moving the pointers closer together until all matching two sums have been found.\n",
    "- More specifically, when the current sum `s` is greater than `0`, we move the `right` pointer inward, and when `s` is less than `0`, we move the `left` pointer inward."
   ]
  },
  {
   "attachments": {
    "3Sum.drawio.png": {
     "image/png": "[encoded data removed]"
    }
   },
   "cell_type": "markdown",
   "id": "6ed98d40",
   "metadata": {},
   "source": [
    "![3Sum.drawio.png](attachment:3Sum.drawio.png)"
   ]
  },
  {
   "cell_type": "markdown",
   "id": "bc09d7a2",
   "metadata": {},
   "source": [
    "### 11. Container With Most Water"
   ]
  },
  {
   "cell_type": "markdown",
   "id": "bb8b840c",
   "metadata": {},
   "source": [
    "#### My Initial Solution:"
   ]
  },
  {
   "cell_type": "code",
   "execution_count": null,
   "id": "c47f5d33",
   "metadata": {},
   "outputs": [],
   "source": [
    "class Solution:\n",
    "    def area(self, i: int, j: int, height: List[int]) -> int:\n",
    "        return min(height[i], height[j]) * (j - i)\n",
    "\n",
    "    def maxArea(self, height: List[int]) -> int:\n",
    "        res = 0\n",
    "        for i in range(len(height)):\n",
    "            for j in range(i+1, len(height)):\n",
    "                ar = self.area(i, j, height)\n",
    "                if ar > res:\n",
    "                    res = ar\n",
    "        return res"
   ]
  },
  {
   "cell_type": "markdown",
   "id": "96a10e70",
   "metadata": {},
   "source": [
    "- This does return the correct results, but it is not efficient enough on larger inputs.\n",
    "- I have to find a way to reduce the time complexity from O(n^2), because as is, I am calculating the area for all possible tuples."
   ]
  },
  {
   "cell_type": "markdown",
   "id": "dd6dd3ce",
   "metadata": {},
   "source": [
    "#### Improved Solution:"
   ]
  },
  {
   "cell_type": "code",
   "execution_count": null,
   "id": "460b7c05",
   "metadata": {},
   "outputs": [],
   "source": [
    "class Solution:\n",
    "    def area(self, i: int, j: int, height: List[int]) -> int:\n",
    "        return min(height[i], height[j]) * (j - i)\n",
    "\n",
    "    def maxArea(self, height: List[int]) -> int:\n",
    "        res = 0\n",
    "        left = 0\n",
    "        right = len(height) - 1\n",
    "        while(abs(left-right) > 1):\n",
    "            ar = self.area(left, right, height)\n",
    "            if ar > res:\n",
    "                res = ar\n",
    "            if height[left] <= height[right]:\n",
    "                left += 1\n",
    "            elif height[left] > height[right]:\n",
    "                right -= 1\n",
    "        ar = self.area(left, right, height)\n",
    "        if ar > res:\n",
    "            res = ar\n",
    "        return res"
   ]
  },
  {
   "cell_type": "markdown",
   "id": "0a98317d",
   "metadata": {},
   "source": [
    "- A hint I received on the page was *\"Try to use two-pointers. Set one pointer to the left and one to the right of the array. Always move the pointer that points to the lower line.\"*\n",
    "- Thanks to this hint, I was able to come up with a solution with time complexity O(n).\n",
    "- The way it works is, `left` is an index to the leftmost element in `height` and `right` is an index to the rightmost element. We iterate through the elements in `height` until `left` and `right` are at a distance of 1 from each other.\n",
    "- We calculate the area `ar` between `left` and `right` in each iteration, saving the state of the largest area in `res`."
   ]
  },
  {
   "cell_type": "markdown",
   "id": "3350ffdd",
   "metadata": {},
   "source": [
    "### 42. Trapping Rain Water"
   ]
  },
  {
   "cell_type": "code",
   "execution_count": null,
   "id": "584d28be",
   "metadata": {},
   "outputs": [],
   "source": [
    "class Solution:\n",
    "    def validate(self, block: int ,height: List[int]) -> tuple[bool, int]:\n",
    "        remainder = height[block+2:len(height)]\n",
    "        if remainder == []:\n",
    "            return False, 0\n",
    "        if height[block] > height[block+1] and height[block+1] < max(remainder):\n",
    "            #print(f'{height[block]} > {height[block+1]} and {height[block+1]} < {max(remainder)} => detected pool')\n",
    "            return True, max(remainder)\n",
    "        #print(f'{height[block]} > {height[block+1]} and {height[block+1]} < {max(remainder)} => continue')\n",
    "        return False, 0\n",
    "\n",
    "    def trap(self, height: List[int]) -> int:\n",
    "        left,right = 0,1\n",
    "        res = 0\n",
    "        \n",
    "        while left < len(height):\n",
    "            #print(f'left: {left} right: {right}')\n",
    "            loop, highest = self.validate(left, height)\n",
    "            if loop:\n",
    "                #print(f'pool height: {min(highest, height[left])}')\n",
    "                while height[right] < min(highest, height[left]):\n",
    "                    res += min(highest, height[left]) - height[right]\n",
    "                    #print(f'res = {min(highest, height[left])} - {height[right]} = {res}')\n",
    "                    right += 1\n",
    "                left = right\n",
    "                right += 1\n",
    "            else:\n",
    "                left += 1\n",
    "                right += 1\n",
    "        return res"
   ]
  },
  {
   "cell_type": "markdown",
   "id": "2d26032e",
   "metadata": {},
   "source": [
    "- We iterate over `height` with two pointers `left` and `right`, starting on the first and second element respectively.\n",
    "- I had to write a helper function, `validate`, that will check two conditions to decide whether an element in the iteration should be skipped or not. If an element is skipped, `left` and `right` move one position further to the right.\n",
    "- The first condition is that the height of `left` is greater than the height of `right`.\n",
    "- The second condition is that the largest value `highest` in the remaining list to the right of `right`, called `remainder`, is greater than the height of `right`.\n",
    "- In the inner loop, we iterate over the *\"pool\"*, which has a height of the minimum of `highest`, and the height of `left`, and add the amount of *\"water\"* contained in the *\"pool\"* to `res`."
   ]
  },
  {
   "attachments": {
    "TrappingRainWater.png": {
     "image/png": "[encoded data removed]"
    }
   },
   "cell_type": "markdown",
   "id": "0887cd9e",
   "metadata": {},
   "source": [
    "![TrappingRainWater.png](attachment:TrappingRainWater.png)"
   ]
  },
  {
   "cell_type": "markdown",
   "id": "941e970f",
   "metadata": {},
   "source": [
    "## Stack <a name=\"stack\"></a>"
   ]
  },
  {
   "cell_type": "markdown",
   "id": "444e37dd",
   "metadata": {},
   "source": [
    "### 20. Valid Parentheses"
   ]
  },
  {
   "cell_type": "code",
   "execution_count": null,
   "id": "d021ead6",
   "metadata": {},
   "outputs": [],
   "source": [
    "class Solution:\n",
    "    def isValid(self, s: str) -> bool:\n",
    "        if len(s) % 2 != 0:\n",
    "            return False\n",
    "        stack = []\n",
    "        for c in s:\n",
    "            if c in '[{(':\n",
    "                stack.append(c)\n",
    "            elif c in '}])' and stack != []:\n",
    "                t = stack.pop()\n",
    "                if c == '}' and t != '{' or c == ')' and t != '(' or c == ']' and t != '[':\n",
    "                    return False\n",
    "            elif c in '}])' and stack == []:\n",
    "                return False\n",
    "        if stack != []:\n",
    "            return False\n",
    "        return True"
   ]
  },
  {
   "cell_type": "markdown",
   "id": "73e9c7c9",
   "metadata": {},
   "source": [
    "- The solution here was pretty straightforward, although there were a couple of edge cases that I did not pay attention to at first.\n",
    "- The way I implemented it was to iterate over the string `s` and push any opening parantheses onto the `stack`, and whenever there is a closing parantheses, it has to be the closing parantheses to the opening parantheses on top of the `stack`, which we retrieve with `pop()`.\n",
    "- If there are still opening parantheses on the stack after iterating through `s`, or if there are closing parantheses while the `stack` is empty, `s` is not valid."
   ]
  },
  {
   "cell_type": "markdown",
   "id": "53d69942",
   "metadata": {},
   "source": [
    "### 150. Evaluate Reverse Polish Notation "
   ]
  },
  {
   "cell_type": "code",
   "execution_count": null,
   "id": "bd107326",
   "metadata": {},
   "outputs": [],
   "source": [
    "class Solution:\n",
    "    def evalRPN(self, tokens: List[str]) -> int:\n",
    "        stack = []\n",
    "        for token in tokens:\n",
    "            #print(f'token: {token} stack: {stack}')\n",
    "            try:\n",
    "                num = int(token)\n",
    "                stack.append(num)\n",
    "            except ValueError:\n",
    "                num1 = stack.pop()\n",
    "                num2 = stack.pop()\n",
    "                if token == '+':\n",
    "                    stack.append(num1 + num2)\n",
    "                elif token == '*':\n",
    "                    stack.append(num1 * num2)\n",
    "                elif token == '-':\n",
    "                    stack.append(num2 - num1)\n",
    "                elif token == '/':\n",
    "                    stack.append(int(num2 / num1))\n",
    "        return stack.pop()"
   ]
  },
  {
   "cell_type": "markdown",
   "id": "827e79bb",
   "metadata": {},
   "source": [
    "- This works by iterating over the list of `tokens` and pushing every number `num` onto the stack, and whenever we encounter an arithmetic operator, we pop the two elements on top of the stack, `num1` and `num2`, and push the result of the arithmetic operation back onto the stack.\n",
    "- The last remaining value on the stack will be our return value."
   ]
  },
  {
   "cell_type": "markdown",
   "id": "a7f4ba49",
   "metadata": {},
   "source": [
    "### 155. Min Stack"
   ]
  },
  {
   "cell_type": "code",
   "execution_count": null,
   "id": "2c27c529",
   "metadata": {},
   "outputs": [],
   "source": [
    "class MinStack:\n",
    "    def __init__(self):\n",
    "        self.s1 = []\n",
    "        self.s2 = []\n",
    "\n",
    "    def push(self, val: int) -> None:\n",
    "        self.s1.append(val)\n",
    "        if self.s2 == [] or self.s2 != [] and val <= self.s2[-1]:\n",
    "            self.s2.append(val)\n",
    "        #print(f'push: {self.s1}, {self.s2}')\n",
    "        \n",
    "    def pop(self) -> None:\n",
    "        val = self.s1.pop()\n",
    "        if val == self.s2[-1]:\n",
    "            self.s2.pop()\n",
    "        #print(f'pop: {self.s1}, {self.s2}')\n",
    "\n",
    "    def top(self) -> int:\n",
    "        #print(f'top: {self.s1}, {self.s2}')\n",
    "        return self.s1[-1]\n",
    "\n",
    "    def getMin(self) -> int:\n",
    "        #print(f'getMin: {self.s1}, {self.s2}')\n",
    "        return self.s2[-1]\n",
    "\n",
    "\n",
    "# Your MinStack object will be instantiated and called as such:\n",
    "# obj = MinStack()\n",
    "# obj.push(val)\n",
    "# obj.pop()\n",
    "# param_3 = obj.top()\n",
    "# param_4 = obj.getMin()"
   ]
  },
  {
   "cell_type": "markdown",
   "id": "920e8e43",
   "metadata": {},
   "source": [
    "- I approached this problem by utilizing two stacks, `s1` and `s2`, where `s1` holds the actual values of the stack and `s2` saves information about the current minimum in `s1`.\n",
    "- Whenever a value is pushed onto `s1` and the value is less or equal to the `top` element in `s2`, it will be pushed onto `s2` as the current minimum of `s1`.\n",
    "- When an element is popped from `s1` and it is equal to the `top` element in `s2`, that means we are popping the current minimum of `s1`, and the element will also be popped from `s2`."
   ]
  },
  {
   "cell_type": "markdown",
   "id": "e4a833e2",
   "metadata": {},
   "source": [
    "### 22. Generate Parantheses"
   ]
  },
  {
   "cell_type": "markdown",
   "id": "23539fb5",
   "metadata": {},
   "source": [
    "#### My Initial Solution:"
   ]
  },
  {
   "cell_type": "code",
   "execution_count": null,
   "id": "2c7a3085",
   "metadata": {},
   "outputs": [],
   "source": [
    "class Solution:\n",
    "    def isValid(self, s: str) -> bool:\n",
    "        if len(s) % 2 != 0:\n",
    "            return False\n",
    "        stack = []\n",
    "        for c in s:\n",
    "            if c in '[{(':\n",
    "                stack.append(c)\n",
    "            elif c in '}])' and stack != []:\n",
    "                t = stack.pop()\n",
    "                if c == '}' and t != '{' or c == ')' and t != '(' or c == ']' and t != '[':\n",
    "                    return False\n",
    "            elif c in '}])' and stack == []:\n",
    "                return False\n",
    "        if stack != []:\n",
    "            return False\n",
    "        return True\n",
    "    \n",
    "    def kbits(self, n, k) -> list[str]:\n",
    "        res = []\n",
    "        for binary in itertools.combinations(range(n), k):\n",
    "            s = [')'] * n\n",
    "            for bit in binary:\n",
    "                s[bit] = '('\n",
    "            res.append(''.join(s))\n",
    "        return res\n",
    "\n",
    "    def generateParenthesis(self, n: int) -> List[str]:\n",
    "        res = []\n",
    "        pot = self.kbits(2*n, n)\n",
    "        for p in pot:\n",
    "            valid = self.isValid(p)\n",
    "            if valid:\n",
    "                res.append(p)\n",
    "        return res"
   ]
  },
  {
   "cell_type": "markdown",
   "id": "18673e23",
   "metadata": {},
   "source": [
    "- I had a lot of difficulties figuring out a solution for this problem, and I am convinced that this is not the intended solution, but it was accepted nonetheless.\n",
    "- How it works is that we generate all possible ways to pick `n` opening parantheses in a string of length `2n`, where the remaining elements will be closing parantheses.\n",
    "- Then we reuse `isValid` from problem `20. Valid Parantheses`, to filter out all valid combinations of parantheses."
   ]
  },
  {
   "cell_type": "markdown",
   "id": "e0b2090c",
   "metadata": {},
   "source": [
    "#### Improved Solution:"
   ]
  },
  {
   "cell_type": "code",
   "execution_count": null,
   "id": "9ccc199f",
   "metadata": {},
   "outputs": [],
   "source": [
    "class Solution:\n",
    "    def bt(self, opened: int, closed: int, res: str, n: int, arr: list[str]) -> None:\n",
    "        if closed > opened or opened > n or closed > n:\n",
    "            # invalid solution / overshooting n\n",
    "            return\n",
    "        if closed == opened and closed == n:\n",
    "            # print(f'appending {res} to {arr}')\n",
    "            arr.append(res)\n",
    "            return\n",
    "        self.bt(opened+1, closed, res + '(', n, arr)\n",
    "        self.bt(opened, closed+1, res + ')', n, arr)\n",
    "    def generateParenthesis(self, n: int) -> List[str]:\n",
    "        res = []\n",
    "        self.bt(0,0,'',n,res)\n",
    "        return res"
   ]
  },
  {
   "cell_type": "markdown",
   "id": "aa6b792d",
   "metadata": {},
   "source": [
    "- The intended Solution was to use backtracking with a cutoff condition of `closed > opened` and a result condition of `opened == closed == n`.\n",
    "- I achieved this with the recursive function `bt`, which calls itself until it either reaches the cutoff condition or a valid result `res` has been found, which will be appended to `arr`, the list holding all valid results.\n"
   ]
  },
  {
   "attachments": {
    "GenerateParantheses.png": {
     "image/png": "[encoded data removed]"
    }
   },
   "cell_type": "markdown",
   "id": "3d593ef7",
   "metadata": {},
   "source": [
    "![GenerateParantheses.png](attachment:GenerateParantheses.png)"
   ]
  },
  {
   "cell_type": "markdown",
   "id": "0cf8c450",
   "metadata": {},
   "source": [
    "### 739. Daily Temperatures"
   ]
  },
  {
   "cell_type": "markdown",
   "id": "1cb4522a",
   "metadata": {},
   "source": [
    "#### My Initial Solution:"
   ]
  },
  {
   "cell_type": "code",
   "execution_count": null,
   "id": "ca3d64d1",
   "metadata": {},
   "outputs": [],
   "source": [
    "class Solution:\n",
    "    def dailyTemperatures(self, temperatures: List[int]) -> List[int]:\n",
    "        res = [0] * len(temperatures) \n",
    "        d = defaultdict(int) # key: index val: [temp, dist]\n",
    "        for i, curr in enumerate(temperatures):\n",
    "            right = 0\n",
    "            if i < len(temperatures)-1:\n",
    "                right = temperatures[i+1]\n",
    "            if right <= curr:\n",
    "                d[i] = [curr, 1]\n",
    "                for key, val in d.items():\n",
    "                    if not i == key:\n",
    "                        val[1] += 1\n",
    "            elif right > curr:\n",
    "                d[i] = [curr, 0]\n",
    "                toPop = []\n",
    "                for key, val in d.items():\n",
    "                    val[1] += 1 \n",
    "                    if val[0] < right:\n",
    "                        res[key] = val[1]\n",
    "                        toPop.append(key)\n",
    "                for key in toPop:\n",
    "                    d.pop(key)\n",
    "            print(f'{curr}<{right}: {curr < right} d: {dict(d)}')\n",
    "        return res"
   ]
  },
  {
   "cell_type": "markdown",
   "id": "a6bf0047",
   "metadata": {},
   "source": [
    "- This code does return the correct values, but it is not efficient enough on larger inputs.\n",
    "- The way it works is that we iterate over `temperatures`, and whenever the `right` neighbor has a smaller or equal value, we increase the distance for each previous key in the dictionary `d` by one.\n",
    "- When the value of `right` is larger, we remove all the key value pairs from `d` whose value is less than `right`."
   ]
  },
  {
   "cell_type": "markdown",
   "id": "16e13ba6",
   "metadata": {},
   "source": [
    "#### Improved Solution: "
   ]
  },
  {
   "cell_type": "code",
   "execution_count": null,
   "id": "5f1a7afd",
   "metadata": {},
   "outputs": [],
   "source": [
    "class Solution:\n",
    "    def dailyTemperatures(self, temperatures: List[int]) -> List[int]:\n",
    "        stack = []\n",
    "        res = [0] * len(temperatures)\n",
    "        for i,temp in enumerate(temperatures):\n",
    "            if not i == len(temperatures) - 1:\n",
    "                right = temperatures[i+1]\n",
    "                # right > curr\n",
    "                if right > temp:\n",
    "                    res[i] = 1\n",
    "                    while stack != [] and stack[-1][0] < right:\n",
    "                        top = stack.pop()\n",
    "                        res[top[1]] = i+1 - top[1]\n",
    "                # right <= curr\n",
    "                else:\n",
    "                    stack.append([temp, i])\n",
    "                # print(f'c: {temp} r: {temperatures[i+1]} s: {stack} res: {res}')\n",
    "        return res"
   ]
  },
  {
   "cell_type": "markdown",
   "id": "1a65155e",
   "metadata": {},
   "source": [
    "- This time around, I have utilized a `stack` to reduce the time complexity to O(m*n), where `m` is the size of the stack and `n` is the length of `temperatures`.\n",
    "- We iterate through `temperatures` and whenever our `right` neighbor is smaller, we push the current `temp` onto the stack along with its index `i`.\n",
    "- Whenever we encounter a `right` neighbor that is larger, we `pop` from the `stack` and write the distance between the `top` element and `right` into `res`, until the `top` value is no longer smaller than `right`.\n",
    "- To better understand how this works, I have created a graphic below."
   ]
  },
  {
   "attachments": {
    "DailyTemperatures.png": {
     "image/png": "[encoded data removed]"
    }
   },
   "cell_type": "markdown",
   "id": "2773fb09",
   "metadata": {},
   "source": [
    "![DailyTemperatures.png](attachment:DailyTemperatures.png)"
   ]
  },
  {
   "cell_type": "markdown",
   "id": "4ba7538c",
   "metadata": {},
   "source": [
    "### 853. Car Fleet"
   ]
  },
  {
   "cell_type": "code",
   "execution_count": null,
   "id": "5461b68f",
   "metadata": {},
   "outputs": [],
   "source": [
    "class Solution:\n",
    "    def carFleet(self, target: int, position: List[int], speed: List[int]) -> int:\n",
    "        # l holds tuples (pos, speed) sorted and in reverse order\n",
    "        l = list(zip(position, speed))\n",
    "        l.sort(key=lambda a: a[0])\n",
    "        l = list(reversed(l))\n",
    "        stack = []\n",
    "        for car in l:\n",
    "            stack.append(car)\n",
    "            if len(stack) > 1:\n",
    "                # if time to target of top <= time to target of previous top\n",
    "                if (target - stack[-1][0]) / stack[-1][1] <= (target - stack[-2][0]) / stack[-2][1]:\n",
    "                    stack.pop()\n",
    "        return len(stack)"
   ]
  },
  {
   "cell_type": "markdown",
   "id": "0b14ac72",
   "metadata": {},
   "source": [
    "- This was probably the most difficult problem for me so far. After spending the whole day trying to come up with a solution, I looked at the intended solution and couldn't believe how ingenious it was.\n",
    "- The way it works is that we create a list of tuples `l` combining `position` and `speed` of every car and sorting it by `position`, such that it represents the order of the cars on the racetrack.\n",
    "- Then we traverse `l` in reverse order, starting with the car closest to the `target`.\n",
    "- On every iteration, we push the current car onto the `stack`, and if there are at least two cars on the `stack`, we compare the time they require to reach the target, and if the current car requires less time to reach the `target`, it will be `popped` from the stack.\n",
    "- This way, the length of the `stack` keeps track of the number of `fleets` there are, because when the current car requires less time to reach its `target`, it will bump into the previous car, which is the car ahead of it on the racetrack.\n",
    "- What we are left with is a `stack` containing the leaders of the respective `fleets`"
   ]
  },
  {
   "attachments": {
    "CarFleet.png": {
     "image/png": "[encoded data removed]"
    }
   },
   "cell_type": "markdown",
   "id": "9443f4dc",
   "metadata": {},
   "source": [
    "![CarFleet.png](attachment:CarFleet.png)"
   ]
  },
  {
   "cell_type": "markdown",
   "id": "d2352d7f",
   "metadata": {},
   "source": [
    "### 84. Largest Rectangle in Histogram"
   ]
  },
  {
   "cell_type": "code",
   "execution_count": null,
   "id": "9e979957",
   "metadata": {},
   "outputs": [],
   "source": [
    "class Solution:\n",
    "    def largestRectangleArea(self, heights: List[int]) -> int:\n",
    "        maxAr = 0\n",
    "        stack = []\n",
    "        pushed = False\n",
    "        for i, h in enumerate(heights):\n",
    "            if not pushed:\n",
    "                stack.append([i, h])\n",
    "            else:\n",
    "                pushed = False\n",
    "            # curr > right\n",
    "            if i < len(heights)-1 and heights[i+1] < h:\n",
    "                # pop from stack until top no longer greater than right\n",
    "                index = 0\n",
    "                while stack != []:\n",
    "                    top = stack.pop()\n",
    "                    area = (i+1 - top[0]) * top[1]\n",
    "                    if area > maxAr:\n",
    "                        maxAr = area\n",
    "                    if top[1] > heights[i+1]:\n",
    "                        index = top[0]\n",
    "                    else:\n",
    "                        stack.append(top)\n",
    "                        break\n",
    "                # push right neighbor with adjusted index\n",
    "                stack.append([index, heights[i+1]])\n",
    "                pushed = True\n",
    "                continue\n",
    "        while stack != []:\n",
    "            top = stack.pop()\n",
    "            area = (len(heights) - top[0]) * top[1]\n",
    "            if area > maxAr:\n",
    "                maxAr = area\n",
    "\n",
    "        return maxAr"
   ]
  },
  {
   "cell_type": "markdown",
   "id": "4f24ae1c",
   "metadata": {},
   "source": [
    "- I was unable to figure out the solution to this problem on my own, so I had to look it up.\n",
    "- How it works is that we iterate over `heights`, and whenever the right neighbor's height is greater or equal to the current height, we `push` the current height `h` onto the `stack`, along with its index `i`.\n",
    "- When the right neighbor is smaller, we `pop` from the `stack` and calculate the `area` between the index of `top` and the current index `i`, until the `top` element is no longer taller than the right neighbor, and `push` the right neighbor onto the stack with the `index` of the last element `popped` from the `stack`."
   ]
  },
  {
   "attachments": {
    "LargestRectangleHist.png": {
     "image/png": "[encoded data removed]"
    }
   },
   "cell_type": "markdown",
   "id": "849d5244",
   "metadata": {},
   "source": [
    "![LargestRectangleHist.png](attachment:LargestRectangleHist.png)"
   ]
  },
  {
   "cell_type": "markdown",
   "id": "224a4a38",
   "metadata": {},
   "source": [
    "## Sliding Window <a name=\"slidingwindow\"></a>"
   ]
  },
  {
   "cell_type": "markdown",
   "id": "af3225aa",
   "metadata": {},
   "source": [
    "### 121. Best Time to Buy and Sell Stock:"
   ]
  },
  {
   "cell_type": "markdown",
   "id": "4f2ad42d",
   "metadata": {},
   "source": [
    "#### My Initial Solution:"
   ]
  },
  {
   "cell_type": "code",
   "execution_count": null,
   "id": "90a91a13",
   "metadata": {},
   "outputs": [],
   "source": [
    "class Solution:\n",
    "    def maxProfit(self, prices: List[int]) -> int:\n",
    "        maxP = 0\n",
    "        last = 10000\n",
    "        for i,p in enumerate(prices):\n",
    "            if last <= p:\n",
    "                continue\n",
    "            profit = 0\n",
    "            if i < len(prices) - 1:\n",
    "                profit = max(prices[i+1:len(prices)]) - p\n",
    "            if profit > maxP:\n",
    "                maxP = profit\n",
    "                last = p\n",
    "        return maxP"
   ]
  },
  {
   "cell_type": "markdown",
   "id": "3ba36210",
   "metadata": {},
   "source": [
    "- This works, but it exceeds the time limit on some larger test cases.\n",
    "- The way I approached this problem was to iterate over `prices`, and for each price `p`, I searched for the maximum value `max` in the remaining list to the right.\n",
    "- Using `p` and `max`, I calculate the `profit` in each iteration, and if it is greater than the maximum profit `maxP`, I replace `maxP` with the current `profit`."
   ]
  },
  {
   "cell_type": "markdown",
   "id": "b3eee79f",
   "metadata": {},
   "source": [
    "#### Improved Solution:"
   ]
  },
  {
   "cell_type": "code",
   "execution_count": null,
   "id": "f3904a08",
   "metadata": {},
   "outputs": [],
   "source": [
    "class Solution:\n",
    "    def maxProfit(self, prices: List[int]) -> int:\n",
    "        maxP = 0\n",
    "        last = 10000\n",
    "        maxV = max(prices)\n",
    "        for i,p in enumerate(prices):\n",
    "            if p == maxV and maxV != 0 and i < len(prices) - 1:\n",
    "                maxV = max(prices[i+1:len(prices)])\n",
    "            if last <= p:\n",
    "                continue\n",
    "            profit = 0\n",
    "            if i < len(prices) - 1:\n",
    "                profit = maxV - p\n",
    "            if profit > maxP:\n",
    "                maxP = profit\n",
    "                last = p\n",
    "        return maxP"
   ]
  },
  {
   "cell_type": "markdown",
   "id": "ac6beed4",
   "metadata": {},
   "source": [
    "- I made the slight improvement that the maximum value, `max`, will only be recalculated when it is reached as `p`.\n",
    "- Unfortunately, there was one test case that I was unsure how to pass, so I had to hardcode it with a conditional check to determine whether `maxV` is equal to `0`."
   ]
  },
  {
   "cell_type": "markdown",
   "id": "e83b423e",
   "metadata": {},
   "source": [
    "### 3. Longest Substring Without Repeating Characters"
   ]
  },
  {
   "cell_type": "code",
   "execution_count": null,
   "id": "030172fc",
   "metadata": {},
   "outputs": [],
   "source": [
    "class Solution:\n",
    "    def lengthOfLongestSubstring(self, s: str) -> int:\n",
    "        left, right = 0, 1\n",
    "        maxW = 0\n",
    "        \n",
    "        while right < len(s) + 1:\n",
    "            window = s[left:right]\n",
    "            #print(window)\n",
    "            if len(window) > maxW:\n",
    "                maxW = len(window)\n",
    "            leftC = s[left]\n",
    "            if right == len(s):\n",
    "                right += 1\n",
    "            else:\n",
    "                rightC = s[right]\n",
    "                if rightC in window:\n",
    "                    left += 1\n",
    "                else:\n",
    "                    right += 1\n",
    "        return maxW"
   ]
  },
  {
   "cell_type": "markdown",
   "id": "372997ec",
   "metadata": {},
   "source": [
    "- The way I approached this problem was to put pointers `left` and `right` on the first two characters in `s`, and consider the `window` inbetween the two pointers.\n",
    "- Whenever the character to the right, `rightC`, would already appear in the `window`, we increase the `left` pointer by one; otherwise, we increase the right pointer by one.\n",
    "- Furthermore, we keep track of the largest `window` in the variable `maxW`."
   ]
  },
  {
   "attachments": {
    "LongestSubstring.png": {
     "image/png": "[encoded data removed]"
    }
   },
   "cell_type": "markdown",
   "id": "43685c1d",
   "metadata": {},
   "source": [
    "![LongestSubstring.png](attachment:LongestSubstring.png)"
   ]
  },
  {
   "cell_type": "markdown",
   "id": "12b5d73b",
   "metadata": {},
   "source": [
    "### 424. Longest Repeating Character Replacement"
   ]
  },
  {
   "cell_type": "code",
   "execution_count": null,
   "id": "aded3e97",
   "metadata": {},
   "outputs": [],
   "source": [
    "class Solution:\n",
    "    def isValid(self, window: str, k: int, freq: dict) -> bool:\n",
    "        if window == '':\n",
    "            return True\n",
    "        maxKey = max(freq, key=freq.get)\n",
    "        if len(window) - freq[maxKey] <= k:\n",
    "            return True\n",
    "        return False\n",
    "\n",
    "\n",
    "    def characterReplacement(self, s: str, k: int) -> int:\n",
    "        freq = defaultdict(int)\n",
    "        left, right = 0,0\n",
    "        maxW = 0\n",
    "\n",
    "        while right < len(s) + 1:\n",
    "            window = s[left:right]\n",
    "            if self.isValid(window, k, freq):\n",
    "                if len(window) > maxW:\n",
    "                    maxW = len(window)\n",
    "                #print(f's[{left}:{right}] = {window}, valid')\n",
    "                if right < len(s):\n",
    "                    freq[s[right]] += 1\n",
    "                right += 1\n",
    "            else:\n",
    "                #print(f's[{left}:{right}] = {window}, invalid')\n",
    "                freq[s[left]] -= 1\n",
    "                left += 1\n",
    "        return maxW"
   ]
  },
  {
   "cell_type": "markdown",
   "id": "269fa255",
   "metadata": {},
   "source": [
    "- I was not able to find the solution for this problem on my own, so I looked at the explanation video provided by Neetcode.\n",
    "- The way it works is that we iterate over `s` with a sliding `window` between `left` and `right`, and check whether the amount of characters that would need to be replaced in that window is within the limit of replaceable characters `k`.\n",
    "- This is ensured via the helper function `isValid`, which returns `True` when the amount of a window's characters that differ from it's most frequent character, i.e. the characters that would have to be replaced, is within the limit `k`.\n",
    "- Whenever a window is valid, it will be extended to the `right` and when it is not valid, it's size will be decreased from the `left`.\n",
    "- The size of the largest valid `window` is being tracked in the variable `maxW`."
   ]
  },
  {
   "attachments": {
    "LongestRepeatingCharacters.png": {
     "image/png": "[encoded data removed]"
    }
   },
   "cell_type": "markdown",
   "id": "b36dbf8e",
   "metadata": {},
   "source": [
    "![LongestRepeatingCharacters.png](attachment:LongestRepeatingCharacters.png)"
   ]
  },
  {
   "cell_type": "markdown",
   "id": "1d9a38cb",
   "metadata": {},
   "source": [
    "### 567. Permutation in String"
   ]
  },
  {
   "cell_type": "code",
   "execution_count": null,
   "id": "35f1ee3b",
   "metadata": {},
   "outputs": [],
   "source": [
    "class Solution:\n",
    "    def checkInclusion(self, s1: str, s2: str) -> bool:\n",
    "        res = False\n",
    "        left, right = 0,1\n",
    "        freq = defaultdict(int)\n",
    "        for c in s1:\n",
    "            freq[c] += 1\n",
    "\n",
    "        freqW = defaultdict(int)\n",
    "        flag = False\n",
    "\n",
    "        while right < len(s2) + 1:\n",
    "            window = s2[left:right]\n",
    "            if not flag:\n",
    "                freqW[s2[right-1]] += 1\n",
    "            #print(f'freq: {dict(freq)} freqW: {dict(freqW)} window: {window}')\n",
    "            # invalid window\n",
    "            if not s2[right-1] in freq.keys():\n",
    "                freqW.clear()\n",
    "                left = right\n",
    "                right += 1\n",
    "                flag = False\n",
    "            # invalid window\n",
    "            elif freqW[s2[right-1]] > freq[s2[right-1]]:\n",
    "                freqW[s2[left]] -= 1\n",
    "                left += 1\n",
    "                flag = True\n",
    "            # valid window\n",
    "            else:\n",
    "                if freqW == freq:\n",
    "                    res = True\n",
    "                    return res\n",
    "                right += 1\n",
    "                flag = False\n",
    "\n",
    "        return res"
   ]
  },
  {
   "cell_type": "markdown",
   "id": "f1281979",
   "metadata": {},
   "source": [
    "- The solution to this problem was pretty straightforward. \n",
    "- How it works is that we iterate over `s2` with a sliding `window` between `left` and `right`, and whenever the frequency of letters in `window`, `freqW`,  fits into the frequency of letters in `s1`, `freq`, we increase the window size towards the `right`.\n",
    "- When this is not the case, we start with a new `window` on the next letter towards the right of our current `window`."
   ]
  },
  {
   "attachments": {
    "PermutationInString.png": {
     "image/png": "[encoded data removed]"
    }
   },
   "cell_type": "markdown",
   "id": "e3cce6fe",
   "metadata": {},
   "source": [
    "![PermutationInString.png](attachment:PermutationInString.png)"
   ]
  },
  {
   "cell_type": "markdown",
   "id": "1bb2ac0b",
   "metadata": {},
   "source": [
    "### 76. Minimum Window Substring"
   ]
  },
  {
   "cell_type": "markdown",
   "id": "307ca699",
   "metadata": {},
   "source": [
    "#### My Initial Attempt:"
   ]
  },
  {
   "cell_type": "code",
   "execution_count": null,
   "id": "ff2821e4",
   "metadata": {},
   "outputs": [],
   "source": [
    "class Solution:\n",
    "    def minWindow(self, s: str, t: str) -> str:\n",
    "        res = \"\"\n",
    "        left,right = 0,0\n",
    "        dic = defaultdict(int)\n",
    "        for c in t:\n",
    "            dic[c] += 1\n",
    "        dicW = defaultdict(int)\n",
    "        minW = 100000\n",
    "        #print(f's: {s} t: {t} dic: {dict(dic)}')\n",
    "        f = True\n",
    "        \n",
    "        while right < len(s):\n",
    "            if f and s[right] in list(dic.keys()):\n",
    "                dicW[s[right]] += 1\n",
    "\n",
    "            print(f's[{left}:{right+1}] = {s[left:right+1]} , {dict(dicW)}')\n",
    "\n",
    "            # right elem is contained in the window too often -> decrease left until no longer too often\n",
    "            if s[right] in dicW.keys() and dicW[s[right]] > dic[s[right]]:\n",
    "                while dicW[s[right]] > dic[s[right]] or s[left] not in list(dicW.keys()):\n",
    "                    if s[left] in list(dicW.keys()):\n",
    "                        if dicW[s[left]] == 1:\n",
    "                            dicW.pop(s[left])\n",
    "                        else:\n",
    "                            dicW[s[left]] -= 1\n",
    "                    left += 1\n",
    "                    f = False\n",
    "\n",
    "            # increase window to the right to reach dic\n",
    "            elif dicW != dic:\n",
    "                if dicW == {} and not s[left] in list(dic.keys()):\n",
    "                    left += 1\n",
    "                    right += 1\n",
    "                else:\n",
    "                    right += 1\n",
    "                f = True\n",
    "\n",
    "            # dic has been reached -> decrease left until first occurence of an elem in dic\n",
    "            elif dicW == dic:\n",
    "                if len(s[left:right+1]) < minW:\n",
    "                    minW = len(s[left:right+1])\n",
    "                    res = s[left:right+1]\n",
    "                if dicW[s[left]] == 1:\n",
    "                    dicW.pop(s[left])\n",
    "                else:\n",
    "                    dicW[s[left]] -= 1\n",
    "                while left < right and not s[left+1] in dic.keys():\n",
    "                    left += 1\n",
    "                if abs(left-right) > 0:\n",
    "                    left += 1 \n",
    "                f = False\n",
    "                if right == len(s)-1:\n",
    "                    break\n",
    "        return res"
   ]
  },
  {
   "cell_type": "markdown",
   "id": "03648ba5",
   "metadata": {},
   "source": [
    "- Unfortunately, this is not quite the correct algorithm for solving this problem, although it passes almost all test cases.\n",
    "- However, I noticed on test case 192 that this algorithm is unable to handle a certain case, so I had to figure out a new one, which I did shortly after."
   ]
  },
  {
   "cell_type": "markdown",
   "id": "c196224a",
   "metadata": {},
   "source": [
    "#### Improved Solution:"
   ]
  },
  {
   "cell_type": "code",
   "execution_count": null,
   "id": "92c7add4",
   "metadata": {},
   "outputs": [],
   "source": [
    "class Solution:\n",
    "    def minWindow(self, s: str, t: str) -> str:\n",
    "        res = \"\"\n",
    "        left,right = 0,0\n",
    "        dic = defaultdict(int)\n",
    "        for c in t:\n",
    "            dic[c] += 1\n",
    "        dicW = defaultdict(int)\n",
    "        minW = 100000\n",
    "        valid = False\n",
    "        #print(f's: {s} t: {t} dic: {dict(dic)}')\n",
    "\n",
    "        # increase window to the right until its valid and set valid flag if it is\n",
    "        while right < len(s):\n",
    "            if s[right] in list(dic.keys()):\n",
    "                dicW[s[right]] += 1\n",
    "            count = 0\n",
    "            for k,v in dic.items():\n",
    "                count += 1\n",
    "                if not k in dicW.keys() or not dicW[k] >= v:\n",
    "                    valid = False\n",
    "                    break\n",
    "                if count == len(dic):\n",
    "                    valid = True\n",
    "            if valid:\n",
    "                break\n",
    "            right += 1\n",
    "        #print(f'[0.1]  {s[left:right+1]}  {dict(dicW)}')\n",
    "\n",
    "        if valid:\n",
    "            while ( s[left] in dicW.keys() and dicW[s[left]] > dic[s[left]] ) or ( not s[left] in dic.keys() ):\n",
    "                if s[left] in dicW.keys():\n",
    "                    dicW[s[left]] -= 1\n",
    "                left += 1\n",
    "        #print(f'[0.2]  {s[left:right+1]}  {dict(dicW)}')\n",
    "    \n",
    "        if valid and len(s[left:right+1]) < minW:\n",
    "            minW = len(s[left:right+1])\n",
    "            res = s[left:right+1]\n",
    "\n",
    "        counter = 0\n",
    "        while right < len(s):\n",
    "\n",
    "            while right+1 < len(s) and not s[right+1] in dic.keys():\n",
    "                right += 1\n",
    "            right += 1\n",
    "            if right < len(s):\n",
    "                dicW[s[right]] += 1\n",
    "            #print(f'[{counter+1}.1]  {s[left:right+1]}  {dict(dicW)}')\n",
    "            \n",
    "            while ( s[left] in dicW.keys() and dicW[s[left]] > dic[s[left]] ) or ( not s[left] in dic.keys() ):\n",
    "                if s[left] in dicW.keys():\n",
    "                    dicW[s[left]] -= 1\n",
    "                left += 1\n",
    "            #print(f'[{counter+1}.2]  {s[left:right+1]}  {dict(dicW)}')\n",
    "\n",
    "            if len(s[left:right+1]) < minW:\n",
    "                minW = len(s[left:right+1])\n",
    "                res = s[left:right+1]\n",
    "\n",
    "            counter += 1\n",
    "        return res"
   ]
  },
  {
   "cell_type": "markdown",
   "id": "24d87a2d",
   "metadata": {},
   "source": [
    "- Fortunately, my improved algorithm was able to pass all of the tests, but it took me quite a while longer to implement than I expected.\n",
    "- The way it works is that we move a sliding window over `s` until `right` is no longer inside the bounds of `s`, and in each iteration we first increase the window towards the `right` and then decrease it from the `left`.\n",
    "- Starting with a `valid` window, we increase the window towards the `right` until we encounter the first character that is part of `t`, or until we have reached the end of `s`.\n",
    "- Then we decrease the window from the `left` as long as the window stays `valid`, i.e., it contains all of the letters contained in `t`.\n",
    "- Furthermore, we keep track of the smallest window with the variable `minW`.\n",
    "- The algorithm is best understood with the graphic that I have provided below."
   ]
  },
  {
   "attachments": {
    "MinWindowSubstring.png": {
     "image/png": "[encoded data removed]"
    }
   },
   "cell_type": "markdown",
   "id": "97074197",
   "metadata": {},
   "source": [
    "![MinWindowSubstring.png](attachment:MinWindowSubstring.png)"
   ]
  },
  {
   "cell_type": "markdown",
   "id": "030f1546",
   "metadata": {},
   "source": [
    "### 239. Sliding Window Maximum"
   ]
  },
  {
   "cell_type": "markdown",
   "id": "6e71aa1f",
   "metadata": {},
   "source": [
    "#### My Initial Solution:"
   ]
  },
  {
   "cell_type": "code",
   "execution_count": null,
   "id": "72b3df6c",
   "metadata": {},
   "outputs": [],
   "source": [
    "class Solution:\n",
    "    def maxSlidingWindow(self, nums: List[int], k: int) -> List[int]:\n",
    "        if k == 1:\n",
    "            return nums\n",
    "        left, right = 0, k\n",
    "        window = nums[left:right]\n",
    "        maxV = max(window)\n",
    "        res = [maxV]\n",
    "        while right < len(nums):\n",
    "            window = nums[left:right]\n",
    "            #print(window)\n",
    "            if nums[left] == maxV:\n",
    "                maxV = max(window[1:])\n",
    "            if nums[right] > maxV:\n",
    "                maxV = nums[right]\n",
    "            res.append(maxV)\n",
    "            left += 1\n",
    "            right += 1\n",
    "            #print(res)\n",
    "        return res"
   ]
  },
  {
   "cell_type": "markdown",
   "id": "69cacb7e",
   "metadata": {},
   "source": [
    "- This does return the correct results, but it is not efficient enough to pass some larger test cases.\n",
    "- I am sure that the thing that is increasing the time complexity is the recalculation of the maximum value `maxV` in the current `window` when the value on the `left` is equal to the current `maxV.`\n",
    "- Maybe I can skip that step by keeping track of not only the largest value but also the second largest value inside each `window`."
   ]
  },
  {
   "cell_type": "markdown",
   "id": "a03d510f",
   "metadata": {},
   "source": [
    "#### Improved Solution:"
   ]
  },
  {
   "cell_type": "code",
   "execution_count": null,
   "id": "ec60f428",
   "metadata": {},
   "outputs": [],
   "source": [
    "class Solution:\n",
    "    def maxSlidingWindow(self, nums: List[int], k: int) -> List[int]:\n",
    "        res = []\n",
    "        left, right = 0,0\n",
    "        deque = collections.deque()\n",
    "\n",
    "        while right < len(nums):\n",
    "            # pop everything less than nums[right] from deque so that the largest value is always in deque[0]\n",
    "            while deque and nums[right] > nums[deque[-1]]:\n",
    "                deque.pop() \n",
    "            deque.append(right)\n",
    "            # pop left index from deque if the current left index of our window is already further ahead\n",
    "            if left > deque[0]:\n",
    "                deque.popleft()\n",
    "            # shift window by one to the right and append current max(deque[0]) to res\n",
    "            if (right + 1) >= k:\n",
    "                res.append(nums[deque[0]])\n",
    "                left += 1\n",
    "            right += 1\n",
    "        return res"
   ]
  },
  {
   "cell_type": "markdown",
   "id": "83649e4f",
   "metadata": {},
   "source": [
    "- I was unable to find an efficient solution to this problem on my own, so I looked up the solution video provided by Neetcode.\n",
    "- The way it works is that we are using the `deque` data structure to store the index of the largest value for each window at `deque[0]`.\n",
    "- At the beginning of every iteration, we `pop` from the `deque` while the value that the `right` pointer is on is larger than the value of the rightmost element in the `deque`, and append `right` to the `deque` afterwards.\n",
    "- By doing this and adding an additional check to ensure that `deque[0]` is still inside our current window and `popping` from the `left`, otherwise, `deque[0]` will always hold the maximum value for our current window."
   ]
  },
  {
   "attachments": {
    "SlidingWindowMax.png": {
     "image/png": "[encoded data removed]"
    }
   },
   "cell_type": "markdown",
   "id": "9e3eef7f",
   "metadata": {},
   "source": [
    "![SlidingWindowMax.png](attachment:SlidingWindowMax.png)"
   ]
  },
  {
   "cell_type": "markdown",
   "id": "18ca65a0",
   "metadata": {},
   "source": [
    "## Binary Search <a name=\"binarysearch\"></a>"
   ]
  },
  {
   "cell_type": "markdown",
   "id": "8ea40472",
   "metadata": {},
   "source": [
    "### 704. Binary Search"
   ]
  },
  {
   "cell_type": "code",
   "execution_count": null,
   "id": "6c0d96b7",
   "metadata": {},
   "outputs": [],
   "source": [
    "class Solution:\n",
    "    def bin(self, nums: List[int], l: int, r: int, target: int) -> int:\n",
    "        if r >= l:\n",
    "            middle = l + (r-l)//2\n",
    "\n",
    "            if nums[middle] == target:\n",
    "                return middle\n",
    "            elif nums[middle] < target:\n",
    "                return self.bin(nums, middle+1, r, target)\n",
    "            elif nums[middle] > target:\n",
    "                return self.bin(nums, l, middle-1, target)\n",
    "        else:\n",
    "            return -1\n",
    "\n",
    "    def search(self, nums: List[int], target: int) -> int:\n",
    "        return self.bin(nums, 0, len(nums)-1, target)"
   ]
  },
  {
   "cell_type": "markdown",
   "id": "68138ae3",
   "metadata": {},
   "source": [
    "- The solution to this problem was quite simple.\n",
    "- The way it works is that we define a recursive function `bin`, that will perform a binary search on `nums` and return the index of `target` if it gets found and `-1` otherwise."
   ]
  },
  {
   "cell_type": "markdown",
   "id": "1d1393af",
   "metadata": {},
   "source": [
    "### 74. Search a 2D Matrix"
   ]
  },
  {
   "cell_type": "code",
   "execution_count": null,
   "id": "dc31d091",
   "metadata": {},
   "outputs": [],
   "source": [
    "class Solution:\n",
    "    def bin(self, nums: List[int], l: int, r: int, target: int) -> bool:\n",
    "        if r >= l:\n",
    "            middle = l + (r-l)//2\n",
    "\n",
    "            if nums[middle] == target:\n",
    "                return True\n",
    "            elif nums[middle] < target:\n",
    "                return self.bin(nums, middle+1, r, target)\n",
    "            elif nums[middle] > target:\n",
    "                return self.bin(nums, l, middle-1, target)\n",
    "        else:\n",
    "            return False\n",
    "\n",
    "    def searchMatrix(self, matrix: List[List[int]], target: int) -> bool:\n",
    "        nums = list(itertools.chain.from_iterable(matrix))\n",
    "        return self.bin(nums, 0, len(nums)-1, target)"
   ]
  },
  {
   "cell_type": "markdown",
   "id": "e504286d",
   "metadata": {},
   "source": [
    "- This was pretty much just a copy-paste of the previous question, with the exception that I first had to flatten the list of lists, `matrix`.\n",
    "- Furthermore, we were only expected to return `True` if the value is contained in `nums` and `False` otherwise."
   ]
  },
  {
   "cell_type": "markdown",
   "id": "d045eaba",
   "metadata": {},
   "source": [
    "### 875. Koko Eating Bananas"
   ]
  },
  {
   "cell_type": "code",
   "execution_count": null,
   "id": "16d7ccfa",
   "metadata": {},
   "outputs": [],
   "source": [
    "class Solution:\n",
    "    def getHours(self, k: int, piles: List[int]) -> int:\n",
    "        h = 0\n",
    "        for pile in piles:\n",
    "            h += math.ceil(pile/k)\n",
    "        return h\n",
    "\n",
    "    def bin(self, piles: List[int], l: int, r: int, target: int, maxK: tuple[int, int]) -> int:\n",
    "        if l <= r:\n",
    "            middle = l + (r-l)//2\n",
    "            k = middle+1\n",
    "            hours = self.getHours(k, piles)\n",
    "            #print(f'l = {l}  r = {r}  k = {k}  getHours({k}) = {hours}')\n",
    "\n",
    "            if hours == target:\n",
    "                while k > 1 and self.getHours(k-1, piles) == target:\n",
    "                    k -= 1\n",
    "                return k\n",
    "            elif hours < target:\n",
    "                if hours > maxK[1]:\n",
    "                    maxK[1] = hours\n",
    "                    maxK[0] = k\n",
    "                return self.bin(piles, l, middle-1, target, maxK)\n",
    "            elif hours > target:\n",
    "                return self.bin(piles, middle+1, r, target, maxK)\n",
    "        else:\n",
    "            return maxK[0]\n",
    "\n",
    "    def minEatingSpeed(self, piles: List[int], h: int) -> int:\n",
    "        k = self.bin(piles, 0, max(piles)-1, h, [0,0])\n",
    "        return k"
   ]
  },
  {
   "cell_type": "markdown",
   "id": "7fec9265",
   "metadata": {},
   "source": [
    "- This problem was a little tricky to figure out, but fortunately I did get to the solution after some failed attempts.\n",
    "- The way it works is that we perform a binary search for `h` in the list of all possible values for `k`, which will be an index list starting with `1` and ending with the value of the largest `pile`.\n",
    "- When we find `k`, whose hours match the given hours `h`, we have to decrease `k` until there is no smaller `k`, whose hours also match `h`.\n",
    "- Lastly, we also have to keep track of the value `k` with the largest number of `hours` that are still within our target `h`, and return that in our binary search if the exact target `h` can't be found."
   ]
  },
  {
   "attachments": {
    "KokoBananas.png": {
     "image/png": "[encoded data removed]"
    }
   },
   "cell_type": "markdown",
   "id": "d1b7ce5a",
   "metadata": {},
   "source": [
    "![KokoBananas.png](attachment:KokoBananas.png)"
   ]
  },
  {
   "cell_type": "markdown",
   "id": "ab0c7d8d",
   "metadata": {},
   "source": [
    "### 153. Find Minimum in Rotated Sorted Array"
   ]
  },
  {
   "cell_type": "markdown",
   "id": "8b7a84b9",
   "metadata": {},
   "source": [
    "#### My Initial Solution:"
   ]
  },
  {
   "cell_type": "code",
   "execution_count": null,
   "id": "afd93bd4",
   "metadata": {},
   "outputs": [],
   "source": [
    "class Solution:\n",
    "    def findMin(self, nums: List[int]) -> int:\n",
    "        return min(nums)"
   ]
  },
  {
   "cell_type": "markdown",
   "id": "c382567d",
   "metadata": {},
   "source": [
    "- This solution got accepted for whatever reason.\n",
    "- It is not the intended solution, though, that is for sure."
   ]
  },
  {
   "cell_type": "markdown",
   "id": "8d60e390",
   "metadata": {},
   "source": [
    "#### Improved Solution:"
   ]
  },
  {
   "cell_type": "code",
   "execution_count": null,
   "id": "6a0d33ae",
   "metadata": {},
   "outputs": [],
   "source": [
    "class Solution:\n",
    "    def bin(self, nums: List[int], l: int, r: int, min: int) -> int:\n",
    "        if l <= r:\n",
    "            middle = l + (r-l)//2\n",
    "\n",
    "            #print(f'l = {l}  r = {r}  m = {middle}  nums[m] = {nums[middle]}')\n",
    "\n",
    "            if nums[r] < nums[middle-1]:\n",
    "                #print(f'{nums[r]} < {nums[middle-1]}')\n",
    "                if nums[middle] < min:\n",
    "                    min = nums[middle]\n",
    "                return self.bin(nums, middle+1, r, min)\n",
    "            elif nums[r] >= nums[middle-1]:\n",
    "                #print(f'{nums[r]} >= {nums[middle-1]}')\n",
    "                if nums[middle] < min:\n",
    "                    min = nums[middle]\n",
    "                return self.bin(nums, l, middle-1, min)\n",
    "        else:\n",
    "            return min\n",
    "\n",
    "    def findMin(self, nums: List[int]) -> int:\n",
    "        if len(nums) < 3:\n",
    "            return min(nums)\n",
    "        return self.bin(nums, 0, len(nums)-1, 5000)"
   ]
  },
  {
   "cell_type": "markdown",
   "id": "bb29eae2",
   "metadata": {},
   "source": [
    "- With this solution, I was able to reduce the runtime complexity to O(log n), as the task expected.\n",
    "- Unfortunately, it only works for inputs with a length greater than 2, which is why I return `min(nums)` if `nums` contains 2 or fewer elements.\n",
    "- The way it works is that we choose between the left and right subarrays based on the condition that the topmost element in that subarray should be less than the topmost element in the other subarray.\n",
    "- Throughout this process, we keep track of the minimum value with the variable `min` and return that after the binary search has been completed."
   ]
  },
  {
   "attachments": {
    "MinimumRotatedArr.png": {
     "image/png": "[encoded data removed]"
    }
   },
   "cell_type": "markdown",
   "id": "05f6b34a",
   "metadata": {},
   "source": [
    "![MinimumRotatedArr.png](attachment:MinimumRotatedArr.png)"
   ]
  },
  {
   "cell_type": "markdown",
   "id": "1a928ae0",
   "metadata": {},
   "source": [
    "### 33. Search in Rotated Sorted Array"
   ]
  },
  {
   "cell_type": "code",
   "execution_count": null,
   "id": "5128e872",
   "metadata": {},
   "outputs": [],
   "source": [
    "class Solution:\n",
    "    def bin(self, nums: List[int], l: int, r: int, target: int) -> int:\n",
    "        if l <= r:\n",
    "            m = l + (r-l)//2\n",
    "            #print(f'l = {l}  r = {r}  m = {m}  nums[m] = {nums[m]}')\n",
    "            if nums[m] == target:\n",
    "                return m\n",
    "            elif nums[r] == target:\n",
    "                return r\n",
    "            elif nums[m-1] == target:\n",
    "                return m-1\n",
    "            # case 1 / 2\n",
    "            elif nums[m-1] >= target and nums[r] >= target or nums[m-1] <= target and nums[r] <= target:\n",
    "                if nums[m-1] < nums[r]:\n",
    "                    return self.bin(nums, l, m-1, target)\n",
    "                else:\n",
    "                    return self.bin(nums, m+1, r, target)\n",
    "            # case 3\n",
    "            elif nums[m-1] >= target and not nums[r] >= target:\n",
    "                return self.bin(nums, l, m-1, target)\n",
    "            # case 4\n",
    "            elif nums[r] >= target and not nums[m-1] >= target:\n",
    "                return self.bin(nums, m+1, r, target)\n",
    "        else:\n",
    "            return -1\n",
    "    def search(self, nums: List[int], target: int) -> int:\n",
    "\n",
    "        # case 1 topleft and topright >= target  -> go with lesser top\n",
    "        # case 2 topleft and topright <= target  -> go with lesser top\n",
    "        # case 3 topleft >= target and topright not >= target -> go left\n",
    "        # case 4 topright >= target and topleft not >= target -> go right\n",
    "\n",
    "        return self.bin(nums, 0, len(nums)-1, target)"
   ]
  },
  {
   "cell_type": "markdown",
   "id": "5f84af09",
   "metadata": {},
   "source": [
    "- The way I figured out the solution to this problem was by looking at a few test cases and coming up with a way of finding the target with a modified version of binary search.\n",
    "- There are four cases based on which I decide whether to continue the search in the left or the right subarray.\n",
    "- I have added the cases as comments inside the solution code."
   ]
  },
  {
   "attachments": {
    "TargetRotatedArr.png": {
     "image/png": "[encoded data removed]"
    }
   },
   "cell_type": "markdown",
   "id": "112f9a17",
   "metadata": {},
   "source": [
    "![TargetRotatedArr.png](attachment:TargetRotatedArr.png)"
   ]
  },
  {
   "cell_type": "markdown",
   "id": "79a375f2",
   "metadata": {},
   "source": [
    "### 981. Time Based Key-Value Store"
   ]
  },
  {
   "cell_type": "code",
   "execution_count": null,
   "id": "e7ae3374",
   "metadata": {},
   "outputs": [],
   "source": [
    "class TimeMap:\n",
    "    def __init__(self):\n",
    "        self.map = defaultdict(list)\n",
    "        \n",
    "\n",
    "    def set(self, key: str, value: str, timestamp: int) -> None:\n",
    "        if len(self.map[key]) == 0:\n",
    "            self.map[key].append([value, timestamp])\n",
    "        else: \n",
    "            bisect.insort(self.map[key], [value, timestamp], key=lambda x: x[1])\n",
    "        #print(dict(self.map))\n",
    "\n",
    "\n",
    "    def get(self, key: str, timestamp: int) -> str:\n",
    "        def binS(vals: List, l: int, r: int, target: int, maxT: List) -> str:\n",
    "            if l <= r:\n",
    "                m = l + (r-l)//2\n",
    "                #print(f't = {target}  l = {l}  r = {r}  m = {m}  vals[m] = {vals[m]}')\n",
    "\n",
    "                if vals[m][1] == target:\n",
    "                    return vals[m][0]\n",
    "                elif vals[m][1] < target:\n",
    "                    if vals[m][1] > maxT[1]:\n",
    "                        maxT[1] = vals[m][1]\n",
    "                        maxT[0] = vals[m][0]\n",
    "                    return binS(vals, m+1, r, target, maxT)\n",
    "                elif vals[m][1] > target:\n",
    "                    return binS(vals, l, m-1, target, maxT)\n",
    "            else: \n",
    "                return maxT[0]\n",
    "\n",
    "        if not key in self.map.keys():\n",
    "            return \"\"\n",
    "        vals = self.map[key]\n",
    "        return binS(vals, 0, len(self.map[key])-1, timestamp, [\"\", 0])\n",
    "\n",
    "\n",
    "        \n",
    "# Your TimeMap object will be instantiated and called as such:\n",
    "# obj = TimeMap()\n",
    "# obj.set(key,value,timestamp)\n",
    "# param_2 = obj.get(key,timestamp)"
   ]
  },
  {
   "cell_type": "markdown",
   "id": "a4231908",
   "metadata": {},
   "source": [
    "- The solution to this problem was quite straightforward, and both the `set` and `get` operations have a runtime complexity of O(log(n)).\n",
    "- How it works is that we keep a sorted list of `values` and their `timestamps` for every key. These are stored in the dictionary `self.map`.\n",
    "- Whenever we `set` a value, we use `bisect.insort` to insert the value into its respective list while keeping the list sorted.\n",
    "- When the `get` method is called, we perform a simple binary search to find the value with the appropriate `timestamp`."
   ]
  },
  {
   "cell_type": "markdown",
   "id": "29744729",
   "metadata": {},
   "source": [
    "### 4. Median of Two Sorted Arrays"
   ]
  },
  {
   "cell_type": "code",
   "execution_count": null,
   "id": "001eeefc",
   "metadata": {},
   "outputs": [],
   "source": [
    "class Solution:\n",
    "    def findMedianSortedArrays(self, nums1: List[int], nums2: List[int]) -> float:\n",
    "        A, B = nums1, nums2\n",
    "        total = len(A) + len(B)\n",
    "        half = total//2\n",
    "\n",
    "        if len(A) > len(B):\n",
    "            A, B = B, A\n",
    "\n",
    "        left, right = 0, len(A)-1\n",
    "        while True:\n",
    "            i = (left + right)//2\n",
    "            j = half - i - 2\n",
    "\n",
    "            print(f'{A[:i+1]}  {B[:j+1]}')\n",
    "\n",
    "            Aleft = A[i] if i >= 0 else float(\"-infinity\")\n",
    "            Aright = A[i+1] if (i+1) < len(A) else float(\"infinity\")\n",
    "            Bleft = B[j] if j >= 0 else float(\"-infinity\")\n",
    "            Bright = B[j+1] if (j+1) < len(B) else float(\"infinity\")\n",
    "\n",
    "            if Aleft <= Bright and Bleft <= Aright:\n",
    "                if total % 2 == 1:\n",
    "                    return min(Aright, Bright)\n",
    "                return (max(Aleft, Bleft) + min(Aright, Bright)) / 2\n",
    "            \n",
    "            elif Aleft > Bright:\n",
    "                right = i-1\n",
    "            \n",
    "            else:\n",
    "                left = i+1"
   ]
  },
  {
   "cell_type": "markdown",
   "id": "6f53538d",
   "metadata": {},
   "source": [
    "- Unfortunately, I was unable to come up with the solution to this problem on my own, so I had to look up the solution provided by Neetcode.\n",
    "- How it works is that we try to find a partition of the left half of the merged list consisting of `num1` and `num2`.\n",
    "- Further, it has to satisfy the condition that the rightmost element of each of the two parts has to be less or equal to the first element to the right of the other part.\n",
    "- We achieve this with a binary search through the smaller of the two lists, called `A`."
   ]
  },
  {
   "cell_type": "markdown",
   "id": "48dba496",
   "metadata": {},
   "source": [
    "## Linked List <a name=\"linkedlist\"></a>"
   ]
  },
  {
   "cell_type": "markdown",
   "id": "964e98bc",
   "metadata": {},
   "source": [
    "### 206. Reverse Linked List"
   ]
  },
  {
   "cell_type": "code",
   "execution_count": null,
   "id": "da8a65cf",
   "metadata": {},
   "outputs": [],
   "source": [
    "# Definition for singly-linked list.\n",
    "# class ListNode:\n",
    "#     def __init__(self, val=0, next=None):\n",
    "#         self.val = val\n",
    "#         self.next = next\n",
    "class Solution:\n",
    "    def reverseList(self, head: Optional[ListNode]) -> Optional[ListNode]:\n",
    "        if not head:\n",
    "            return None\n",
    "        \n",
    "        newHead = ListNode(head.val)\n",
    "        first = True\n",
    "        while head.next:\n",
    "            newHead = ListNode(head.next.val)\n",
    "            newHead.next = ListNode(head.val) if first else prev\n",
    "            prev = newHead\n",
    "            first = False\n",
    "            head = head.next\n",
    "\n",
    "        return newHead"
   ]
  },
  {
   "cell_type": "markdown",
   "id": "f8fb5bf3",
   "metadata": {},
   "source": [
    "- At first, I had a few problems figuring out how to properly create a new linked list with fully contiguous nodes.\n",
    "- After I had figured that out, coding out the solution was not very difficult.\n",
    "- How it works is that we traverse through the given linked list and add the next element `head.next` as a new node while adding the previous element `prev` as the `next` node."
   ]
  },
  {
   "cell_type": "markdown",
   "id": "874b0212",
   "metadata": {},
   "source": [
    "### 21. Merge Two Sorted Lists"
   ]
  },
  {
   "cell_type": "code",
   "execution_count": null,
   "id": "a1763029",
   "metadata": {},
   "outputs": [],
   "source": [
    "class Solution:\n",
    "    def add_last(self, llist: Optional[ListNode], node: Optional[ListNode]):\n",
    "        if llist is None:\n",
    "            llist = node\n",
    "            return\n",
    "        while not llist.next is None:\n",
    "            llist = llist.next\n",
    "        llist.next = node\n",
    "    def mergeTwoLists(self, list1: Optional[ListNode], list2: Optional[ListNode]) -> Optional[ListNode]:\n",
    "        if list1 is None and list2 is None:\n",
    "            return None\n",
    "\n",
    "        res = ListNode()\n",
    "        while list1 or list2:\n",
    "            if list1 and list2:\n",
    "                if list1.val <= list2.val:\n",
    "                    #print(f'case 1 {list1.val}')\n",
    "                    self.add_last(res, ListNode(list1.val))\n",
    "                    list1 = list1.next\n",
    "                else:\n",
    "                    #print(f'case 2 {list2.val}')\n",
    "                    self.add_last(res, ListNode(list2.val))\n",
    "                    list2 = list2.next\n",
    "            elif list1 and not list2:\n",
    "                #print(f'case 3 {list1.val}')\n",
    "                self.add_last(res, ListNode(list1.val))\n",
    "                list1 = list1.next\n",
    "            elif list2 and not list1:\n",
    "                #print(f'case 4 {list2.val}')\n",
    "                self.add_last(res, ListNode(list2.val))\n",
    "                list2 = list2.next\n",
    "        res = res.next\n",
    "        return res\n"
   ]
  },
  {
   "cell_type": "markdown",
   "id": "976a70d2",
   "metadata": {},
   "source": [
    "- I am still struggling to become more comfortable working with linked lists, so I spent more time on this problem than I had wanted.\n",
    "- The way it works is that we iterate over the given linked lists `list1` and `list2` until we have reached the end of both, and we add the minimum of the two current values to our resulting list `res`."
   ]
  },
  {
   "cell_type": "markdown",
   "id": "75f35d95",
   "metadata": {},
   "source": [
    "### 143. Reorder List"
   ]
  },
  {
   "cell_type": "markdown",
   "id": "8ec415ba",
   "metadata": {},
   "source": [
    "#### My Initial Solution:"
   ]
  },
  {
   "cell_type": "code",
   "execution_count": null,
   "id": "f20167e4",
   "metadata": {},
   "outputs": [],
   "source": [
    "class Solution:\n",
    "    def popTail(self, head: Optional[ListNode]) -> Optional[ListNode]:\n",
    "        if head is None:\n",
    "            #print('[0] popped None')\n",
    "            return None\n",
    "        elif head.next is None:\n",
    "            #print(f'[1] popped {head.val}')\n",
    "            return head\n",
    "        while head.next:\n",
    "            curr = head\n",
    "            head = head.next\n",
    "        curr.next = None\n",
    "        #print(f'[2] popped {head.val}')\n",
    "        return head\n",
    "\n",
    "    def reorderList(self, head: Optional[ListNode]) -> None:\n",
    "        \"\"\"\n",
    "        Do not return anything, modify head in-place instead.\n",
    "        \"\"\"\n",
    "        if not head or not head.next:\n",
    "            return \n",
    "        \n",
    "        res = head\n",
    "\n",
    "        c = 0\n",
    "        while head:\n",
    "            c += 1\n",
    "            head = head.next\n",
    "        head = res\n",
    "\n",
    "        while head:\n",
    "            tmp = head.next\n",
    "            head.next = self.popTail(head)\n",
    "            if c % 2 == 0 and tmp.next:\n",
    "                head.next.next = tmp\n",
    "            elif c % 2 == 1:\n",
    "                head.next.next = tmp\n",
    "            else:\n",
    "                break\n",
    "            head = tmp\n",
    "        head = res"
   ]
  },
  {
   "cell_type": "markdown",
   "id": "023e5651",
   "metadata": {},
   "source": [
    "- This does result in the correct reordering of elements, but the time complexity is in O(n^2) so it does not pass the last, large test case.\n",
    "- The time complexity comes from the function `popTail`, which traverses the given linked list `head` until it reaches its tail, which it will remove and return.\n",
    "- We iterate over the given linked list `head`, and call `popTail` on every element until we have achieved the proper reordering."
   ]
  },
  {
   "cell_type": "markdown",
   "id": "51436809",
   "metadata": {},
   "source": [
    "#### Another Solution:"
   ]
  },
  {
   "cell_type": "code",
   "execution_count": null,
   "id": "f061c028",
   "metadata": {},
   "outputs": [],
   "source": [
    "class Solution:\n",
    "    def insertAfterId(self, head: Optional[ListNode], i: int, insert: Optional[ListNode]):\n",
    "        #print(f'{insert.val} -> {i}')\n",
    "        s = head\n",
    "        j = 0\n",
    "        while j < i and head.next:\n",
    "            head = head.next\n",
    "            j += 1\n",
    "        tmp = head.next\n",
    "        tmp2 = head.next.next\n",
    "        head.next = insert\n",
    "        insert.next = tmp\n",
    "        insert.next.next = tmp2\n",
    "        head = s\n",
    "\n",
    "    def printList(self, head: Optional[ListNode], i: int):\n",
    "        v = head\n",
    "        l = []\n",
    "        while v and len(l) < i:\n",
    "            l.append(v.val)\n",
    "            v = v.next\n",
    "        print(l)\n",
    "\n",
    "    def truncate(self, head: Optional[ListNode], i: int):\n",
    "        s = head\n",
    "        for j in range(i-1):\n",
    "            head = head.next\n",
    "        head.next = None\n",
    "        head = s\n",
    "\n",
    "    def reorderList(self, head: Optional[ListNode]) -> None:\n",
    "        \"\"\"\n",
    "        Do not return anything, modify head in-place instead.\n",
    "        \"\"\"\n",
    "        s = head\n",
    "        total = 0\n",
    "        while head:\n",
    "            total += 1\n",
    "            head = head.next\n",
    "        \n",
    "        head = s\n",
    "        count = total // 2\n",
    "        i = 0\n",
    "        curr = head\n",
    "        while i < total:\n",
    "            v = curr\n",
    "            curr = curr.next\n",
    "            if i == total - count:\n",
    "                if i-1 != count - 1:\n",
    "                    self.insertAfterId(head, count-1, v)\n",
    "                count -= 1\n",
    "                #self.printList(s, total)\n",
    "            i += 1\n",
    "\n",
    "        head = s\n",
    "        self.truncate(head, total)"
   ]
  },
  {
   "cell_type": "markdown",
   "id": "f140928a",
   "metadata": {},
   "source": [
    "- The time complexity for this solution should be less than the previous solution's time complexity, but it is still not fast enough to pass the last test case.\n",
    "- My idea this time around was to iterate over the linked list `head`, and once I reach the halfway point, I start shifting elements to the front of the linked list with the helper function `insertAfterId`.\n",
    "- The problem here is that `insertAfterId` traverses the linked list until it reaches the given index `i`, which adds up and results in too much runtime."
   ]
  },
  {
   "cell_type": "markdown",
   "id": "b37ca4f8",
   "metadata": {},
   "source": [
    "#### Improved Solution:"
   ]
  },
  {
   "cell_type": "code",
   "execution_count": null,
   "id": "0683e6f5",
   "metadata": {},
   "outputs": [],
   "source": [
    "class Solution:\n",
    "    def truncate(self, head: Optional[ListNode], i: int):\n",
    "        s = head\n",
    "        for j in range(i-1):\n",
    "            head = head.next\n",
    "        head.next = None\n",
    "        head = s\n",
    "\n",
    "    def reorderList(self, head: Optional[ListNode]) -> None:\n",
    "        \"\"\"\n",
    "        Do not return anything, modify head in-place instead.\n",
    "        \"\"\"\n",
    "        d = collections.deque()\n",
    "        s = head\n",
    "        total = 0\n",
    "        while head:\n",
    "            total += 1\n",
    "            d.append(head.val)\n",
    "            head = head.next\n",
    "        head = s\n",
    "        \n",
    "        for i in range(total//2):\n",
    "            d.popleft()\n",
    "        if total % 2:\n",
    "            d.popleft()\n",
    "\n",
    "        while d:\n",
    "            toAppend = d.pop()\n",
    "            tmp = head.next\n",
    "            head.next = ListNode(toAppend)\n",
    "            head.next.next = tmp\n",
    "            head = head.next.next\n",
    "\n",
    "        head = s \n",
    "        self.truncate(head, total)"
   ]
  },
  {
   "cell_type": "markdown",
   "id": "aa14589b",
   "metadata": {},
   "source": [
    "- At last, I have figured out how to do this efficiently, but I had to trade some space complexity for better time complexity.\n",
    "- The way I have done it is to use a double-ended queue `d`, which will be filled with the values of the nodes in the right half of the linked list.\n",
    "- After filling the deque with the node values, I iterate over it and insert the nodes in their proper positions in the linked list.\n",
    "- Lastly, I still have to truncate the linked list to its original length due to the way I am inserting the new nodes, which I achieve with the helper function `truncate`."
   ]
  },
  {
   "cell_type": "markdown",
   "id": "31e4b5dc",
   "metadata": {},
   "source": [
    "### 19. Remove Nth Node From End of List"
   ]
  },
  {
   "cell_type": "code",
   "execution_count": null,
   "id": "62ccbe97",
   "metadata": {},
   "outputs": [],
   "source": [
    "class Solution:\n",
    "    def removeNthFromEnd(self, head: Optional[ListNode], n: int) -> Optional[ListNode]:\n",
    "        if not head or not head.next:\n",
    "            return None\n",
    "\n",
    "        res = head\n",
    "        count = 0\n",
    "        while head:\n",
    "            head = head.next\n",
    "            count += 1\n",
    "    \n",
    "        removeIdx = count-n\n",
    "        if removeIdx == 0:\n",
    "            res = res.next\n",
    "            return res\n",
    "\n",
    "        head = res\n",
    "        count = 1\n",
    "        while head:\n",
    "            if count == removeIdx:\n",
    "                head.next = head.next.next\n",
    "            count += 1\n",
    "            head = head.next\n",
    "        \n",
    "        return res"
   ]
  },
  {
   "cell_type": "markdown",
   "id": "087f7c4b",
   "metadata": {},
   "source": [
    "- Luckily, this problem was not too difficult to solve.\n",
    "- The way it works is that we iterate over the linked list `head`, once to find out its length, which we save in the variable `count`.\n",
    "- We can then calculate the index of the element that we would like to remove by subtracting `n` from `count`, and we will save the result in the variable `removeIdx`.\n",
    "- Lastly, we iterate through the linked list and remove the element at `removeIdx`."
   ]
  },
  {
   "cell_type": "markdown",
   "id": "c81e49ac",
   "metadata": {},
   "source": [
    "### 138. Copy List with Random Pointer"
   ]
  },
  {
   "cell_type": "code",
   "execution_count": null,
   "id": "830c623d",
   "metadata": {},
   "outputs": [],
   "source": [
    "\"\"\"\n",
    "# Definition for a Node.\n",
    "class Node:\n",
    "    def __init__(self, x: int, next: 'Node' = None, random: 'Node' = None):\n",
    "        self.val = int(x)\n",
    "        self.next = next\n",
    "        self.random = random\n",
    "\"\"\"\n",
    "\n",
    "class Solution:\n",
    "    def copyRandomList(self, head: 'Optional[Node]') -> 'Optional[Node]':\n",
    "        if not head:\n",
    "            return None\n",
    "        d = {}\n",
    "        while head:\n",
    "            d[str(head)[-13:-1]] = [head.val, str(head.next)[-13:-1] if head.next else None, str(head.random)[-13:-1] if head.random else None]\n",
    "            head = head.next\n",
    "\n",
    "        first = True\n",
    "        res = Node(0)\n",
    "        for k,v in d.items():\n",
    "            new = Node(v[0], None, None)\n",
    "            if first:\n",
    "                res = new\n",
    "                first = False\n",
    "            d[k].append(new)\n",
    "\n",
    "        # print(d)\n",
    "        for k,v in d.items():\n",
    "            v[3].next = None if v[1] is None else d[v[1]][3]\n",
    "            v[3].random = None if v[2] is None else d[v[2]][3]\n",
    "            # print(f'node {v[3].val}  next {v[3].next.val if v[3].next else None}  random {v[3].random.val if v[3].random else None}')\n",
    "\n",
    "        return res"
   ]
  },
  {
   "cell_type": "markdown",
   "id": "2913357c",
   "metadata": {},
   "source": [
    "- The solution for this was not that easy to figure out, but I believe I have found a pretty creative way of solving this problem.\n",
    "- The way it works is that we traverse the given linked list and store the information about the specific nodes in a dictionary `d` with the unique memory addresses of the nodes as `keys`.\n",
    "- Afterwards, we can create a new node for each dictionary entry, copying the original node's values.\n",
    "- Lastly, we use our previously created dictionary `d` to figure out which node we will have to set as `next`, and which node we have to set as `random`."
   ]
  },
  {
   "cell_type": "markdown",
   "id": "82eb1449",
   "metadata": {},
   "source": [
    "### 2. Add Two Numbers"
   ]
  },
  {
   "cell_type": "code",
   "execution_count": null,
   "id": "e0d10322",
   "metadata": {},
   "outputs": [],
   "source": [
    "class Solution:\n",
    "    def addTwoNumbers(self, l1: Optional[ListNode], l2: Optional[ListNode]) -> Optional[ListNode]:\n",
    "        num1 = num2 = ''\n",
    "        while l1:\n",
    "            num1 = str(l1.val) + num1\n",
    "            l1 = l1.next\n",
    "        while l2:\n",
    "            num2 = str(l2.val) + num2\n",
    "            l2 = l2.next\n",
    "        res = str(int(num1) + int(num2))[::-1]\n",
    "        head = ListNode()\n",
    "        it = head\n",
    "        for c in res:\n",
    "            it.next = ListNode(int(c))\n",
    "            it = it.next\n",
    "        head = head.next\n",
    "        return head"
   ]
  },
  {
   "cell_type": "markdown",
   "id": "2c3819c4",
   "metadata": {},
   "source": [
    "- This problem was not very difficult either.\n",
    "- The way it works is that we first iterate through the given linked lists `l1` and `l2` to convert them into their integer representations `num1` and `num2`.\n",
    "- We can then add `num1` and `num2` together and save the result in `res`.\n",
    "- Lastly, we can iterate over a string representation of `res` and create new nodes for our resulting list, which will hold the characters converted to integers as values."
   ]
  },
  {
   "cell_type": "markdown",
   "id": "8c7c3dec",
   "metadata": {},
   "source": [
    "### 141. Linked List Cycle"
   ]
  },
  {
   "cell_type": "code",
   "execution_count": null,
   "id": "af9d8873",
   "metadata": {},
   "outputs": [],
   "source": [
    "class Solution:\n",
    "    def hasCycle(self, head: Optional[ListNode]) -> bool:\n",
    "        counter = 0\n",
    "        while head:\n",
    "            counter += 1\n",
    "            head = head.next\n",
    "            if counter == 10001:\n",
    "                return True\n",
    "        return False"
   ]
  },
  {
   "cell_type": "markdown",
   "id": "45304ddc",
   "metadata": {},
   "source": [
    "- Well, it works... \n",
    "- It is probably not the intended solution, but I figured that I could iterate through the linked list with a `counter`, and if the `counter` exceeds the given constraint that a linked list contains at most 10000 nodes, then the linked list must contain a cycle."
   ]
  },
  {
   "cell_type": "markdown",
   "id": "11a4e6cd",
   "metadata": {},
   "source": [
    "### 287. Find the Duplicate Number"
   ]
  },
  {
   "cell_type": "code",
   "execution_count": null,
   "id": "547447c5",
   "metadata": {},
   "outputs": [],
   "source": [
    "class Solution:\n",
    "    def findDuplicate(self, nums: List[int]) -> int:\n",
    "        s = f = 0\n",
    "        while True:\n",
    "            s = nums[s]\n",
    "            f = nums[nums[f]]\n",
    "            if f == s:\n",
    "                break\n",
    "        \n",
    "        s2 = 0\n",
    "        while True:\n",
    "            s = nums[s]\n",
    "            s2 = nums[s2]\n",
    "            if s == s2:\n",
    "                return s"
   ]
  },
  {
   "cell_type": "markdown",
   "id": "c456b019",
   "metadata": {},
   "source": [
    "- Truth be told I would have never gotten to the solution for this one on my own.\n",
    "- What you were supposed to do here was use **Floyd's Algorithm** to first find the index where the fast pointer `f` and the slow pointer `s` intersect.\n",
    "- Afterwards, you were supposed to put another slow pointer `s2` at the start of `nums` and move both `s` and `s2` until they intersect, which will be on the duplicate number."
   ]
  },
  {
   "cell_type": "markdown",
   "id": "0c3f2647",
   "metadata": {},
   "source": [
    "### 146. LRU Cache"
   ]
  },
  {
   "cell_type": "code",
   "execution_count": null,
   "id": "533e62f5",
   "metadata": {},
   "outputs": [],
   "source": [
    "class Node:\n",
    "    def __init__(self, key=0, val=0, next=None, prev=None):\n",
    "        self.key = key\n",
    "        self.val = val\n",
    "        self.next = next\n",
    "        self.prev = prev\n",
    "\n",
    "class LRUCache:\n",
    "    def __init__(self, capacity: int):\n",
    "        self.cap = capacity\n",
    "        self.d = {}\n",
    "        self.head = None\n",
    "        self.tail = None    \n",
    "\n",
    "\n",
    "    def get(self, key: int) -> int:\n",
    "        try:\n",
    "            n = self.d[key]\n",
    "            if n == self.tail:\n",
    "                self._tail()\n",
    "                if len(self.d) == 0:\n",
    "                    self.tail = n\n",
    "                self._add(n)\n",
    "            elif n == self.head:\n",
    "                pass\n",
    "            else:\n",
    "                self._remove(n)\n",
    "                self._add(n)\n",
    "            self.d[key] = n\n",
    "            #self.debug('g1', key, n.val)\n",
    "            return n.val\n",
    "        except KeyError:\n",
    "            #self.debug('g2', key, -1)\n",
    "            return -1\n",
    "\n",
    "\n",
    "    def put(self, key: int, value: int) -> None:\n",
    "        # at capacity\n",
    "        if len(self.d) == self.cap:\n",
    "\n",
    "            # just updating the value\n",
    "            if key in self.d.keys():\n",
    "                n = self.d[key]\n",
    "                if n == self.tail:\n",
    "                    self._tail()\n",
    "                else:\n",
    "                    self._remove(n)\n",
    "                n.val = value\n",
    "                self._add(n)\n",
    "                self.d[key] = n\n",
    "                #self.debug('a1', key, value)\n",
    "\n",
    "            # remove LRU and add new\n",
    "            else:\n",
    "                if len(self.d) == 1:\n",
    "                    self.d.pop(self.tail.key)\n",
    "                    self.head = self.tail = None\n",
    "                else:\n",
    "                    self._tail()\n",
    "                n = Node(key, value, None, None)\n",
    "                self._add(n)\n",
    "                self.d[key] = n\n",
    "                #self.debug('a2', key, value)\n",
    "\n",
    "        # still have space\n",
    "        else:\n",
    "            # just updating the value\n",
    "            if key in self.d.keys():\n",
    "                n = self.d[key]\n",
    "                if n == self.tail:\n",
    "                    self._tail()\n",
    "                    if len(self.d) == 0:\n",
    "                        self.tail = n\n",
    "                else:\n",
    "                    self._remove(n)\n",
    "                n.val = value\n",
    "                self._add(n)\n",
    "                self.d[key] = n\n",
    "                #self.debug('a3', key, value)\n",
    "\n",
    "            # add new\n",
    "            else:\n",
    "                n = Node(key, value, None, None)\n",
    "                self._add(n)\n",
    "                self.d[key] = n\n",
    "                #self.debug('a4', key, value)\n",
    "\n",
    "    \n",
    "    def _add(self, node):\n",
    "        h = self.head\n",
    "        if not h:\n",
    "            self.tail = node\n",
    "        self.head = node\n",
    "        self.head.next = h\n",
    "        self.head.prev = None\n",
    "        if h:\n",
    "            h.prev = self.head\n",
    "\n",
    "    def _remove(self, node):\n",
    "        if node:\n",
    "            if node.prev:\n",
    "                node.prev.next = node.next\n",
    "            if node.next:\n",
    "                node.next.prev = node.prev\n",
    "                if node == self.head:\n",
    "                    self.head = node.next\n",
    "\n",
    "    def _tail(self):\n",
    "        if self.tail:\n",
    "            self.d.pop(self.tail.key)\n",
    "            self.tail = self.tail.prev\n",
    "            if self.tail:\n",
    "                self.tail.next = None\n",
    "\n",
    "    def debug(self, m, key, value):\n",
    "        if m == 'g1' or m == 'g2':\n",
    "            print(f'[{m}] get({key}) -> {value}')\n",
    "        else:\n",
    "            print(f'[{m}] added ({key}: {value}) to d')\n",
    "        l = []\n",
    "        l2 = []\n",
    "        for k,v in self.d.items():\n",
    "            l.append([k, v.val])\n",
    "        print(f'd = {list(reversed(l))}')\n",
    "        a = self.head\n",
    "        c = 0\n",
    "        while a:\n",
    "            c+=1\n",
    "            l2.append([{'key': a.key}, {'val': a.val}, {'next': a.next.val if a.next else None}, {'prev': a.prev.val if a.prev else None}])\n",
    "            a = a.next\n",
    "            if c == self.cap:\n",
    "                break\n",
    "        print(f'LL = {l2}')\n",
    "        print(f'head = ({self.head.val if self.head else None}  n: {self.head.next.val if self.head and self.head.next else None}  p: {self.head.prev.val if self.head and self.head.prev else None})  tail = ({self.tail.val if self.tail else None}  n: {self.tail.next.val if self.tail and self.tail.next else None}  p: {self.tail.prev.val if self.tail and self.tail.prev else None})')\n",
    "\n",
    "        \n",
    "\n",
    "# Your LRUCache object will be instantiated and called as such:\n",
    "# obj = LRUCache(capacity)\n",
    "# param_1 = obj.get(key)\n",
    "# obj.put(key,value)"
   ]
  },
  {
   "cell_type": "markdown",
   "id": "2678be36",
   "metadata": {},
   "source": [
    "- If anyone ever asked me this question in an interview, I would walk right out.\n",
    "- There were so many frustrating edge cases that it felt like it took forever to solve this problem."
   ]
  },
  {
   "cell_type": "markdown",
   "id": "47a1b05a",
   "metadata": {},
   "source": [
    "### 23. Merge k Sorted Lists"
   ]
  },
  {
   "cell_type": "code",
   "execution_count": null,
   "id": "3c0cb404",
   "metadata": {},
   "outputs": [],
   "source": [
    "\n",
    "class Solution:\n",
    "    def mergeKLists(self, lists: List[Optional[ListNode]]) -> Optional[ListNode]:\n",
    "        lists = list(filter(lambda x: x != None, lists))\n",
    "        if lists == []:\n",
    "            return None\n",
    "        s_list = sorted(lists, key=lambda x: x.val)\n",
    "        res = ListNode()\n",
    "        head = res\n",
    "        #print(s_list)\n",
    "        \n",
    "        while s_list != []:\n",
    "            #print(s_list)\n",
    "            res.next = s_list[0]\n",
    "            s_list[0] = s_list[0].next\n",
    "            if s_list[0] is None:\n",
    "                s_list = s_list[1:]\n",
    "            else:\n",
    "                n = s_list[0]\n",
    "                s_list = s_list[1:]\n",
    "                bisect.insort(s_list, n, key=lambda x: x.val)\n",
    "            res = res.next\n",
    "        res.next = None\n",
    "                \n",
    "        return head.next"
   ]
  },
  {
   "cell_type": "markdown",
   "id": "33929e5a",
   "metadata": {},
   "source": [
    "- This one was not very difficult considering it is rated as a hard problem.\n",
    "- How it works is that we first sort the given `lists` by the values of the heads of the linked lists and store the result in `s_list`.\n",
    "- We will then remove the head of the first list in `s_list`, and add it to our resulting linked list `res`.\n",
    "- Lastly, we reinsert the linked list whose head we just removed into `s_list`, using `bisect.insort` to ensure that `s_list` stays sorted.\n",
    "- We keep removing the head of the first linked list in `s_list` until all nodes of the linked lists in `s_list` have been removed and added to the result `res`."
   ]
  },
  {
   "cell_type": "markdown",
   "id": "2e030301",
   "metadata": {},
   "source": [
    "### 25. Reverse Nodes in k-Group"
   ]
  },
  {
   "cell_type": "code",
   "execution_count": null,
   "id": "75d2e5c0",
   "metadata": {},
   "outputs": [],
   "source": [
    "class Solution:\n",
    "    def printList(self, head: Optional[ListNode]):\n",
    "        s = head\n",
    "        l = []\n",
    "        while head:\n",
    "            l.append(head.val)\n",
    "            head = head.next\n",
    "        head = s\n",
    "        print(l)\n",
    "\n",
    "    def reverseListK(self, head: Optional[ListNode], k: int) -> [Optional[ListNode], Optional[ListNode]]:\n",
    "        if not head:\n",
    "            return None\n",
    "        newHead = ListNode(head.val)\n",
    "        first = True\n",
    "        i = 0\n",
    "        tail = newHead\n",
    "        while head.next and i < k-1:\n",
    "            newHead = ListNode(head.next.val)\n",
    "            newHead.next = ListNode(head.val) if first else prev\n",
    "            if first:\n",
    "                tail = newHead.next\n",
    "            prev = newHead\n",
    "            first = False\n",
    "            head = head.next\n",
    "            i += 1\n",
    "\n",
    "        return newHead, tail\n",
    "        \n",
    "    def reverseKGroup(self, head: Optional[ListNode], k: int) -> Optional[ListNode]:\n",
    "        s = head\n",
    "        total = 0\n",
    "        heads = []\n",
    "        while head:\n",
    "            total += 1\n",
    "            if (total-1) % k == 0:\n",
    "                heads.append(head) \n",
    "            head = head.next\n",
    "        head = s\n",
    "        reversals = total//k\n",
    "\n",
    "        first = ListNode()\n",
    "        s = first\n",
    "        for j in range(reversals):\n",
    "            newHead, tail = self.reverseListK(heads[j], k)\n",
    "            #self.printList(newHead)\n",
    "            first.next = newHead\n",
    "            first = tail\n",
    "        if len(heads) > reversals:\n",
    "            first.next = heads[-1]\n",
    "            \n",
    "        #self.printList(s.next)\n",
    "        return s.next"
   ]
  },
  {
   "cell_type": "markdown",
   "id": "acdfff65",
   "metadata": {},
   "source": [
    "- Surprisingly, this hard problem was also not very difficult.\n",
    "- The way it works is that we first traverse the given linked list and save the heads of the sublists that we are trying to reverse in a list named `heads`.\n",
    "- We also calculate the number of lists that need to be reversed by doing an integer division of the length of the linked list, `total`, divided by the length of the sublists, `k`. The result of this will be saved in the variable `reversals`.\n",
    "- Lastly, we iterate over `heads`, and using the helper function `reverseListK`, we calculate all of the reversed sublists and put them together for our result."
   ]
  },
  {
   "cell_type": "markdown",
   "id": "716613d7",
   "metadata": {},
   "source": [
    "## Trees <a name=\"trees\"></a>"
   ]
  },
  {
   "cell_type": "markdown",
   "id": "141f5531",
   "metadata": {},
   "source": [
    "### 226. Invert Binary Tree"
   ]
  },
  {
   "cell_type": "code",
   "execution_count": null,
   "id": "c99d0d82",
   "metadata": {},
   "outputs": [],
   "source": [
    "# Definition for a binary tree node.\n",
    "# class TreeNode:\n",
    "#     def __init__(self, val=0, left=None, right=None):\n",
    "#         self.val = val\n",
    "#         self.left = left\n",
    "#         self.right = right\n",
    "class Solution:\n",
    "    def invertTree(self, root: Optional[TreeNode]) -> Optional[TreeNode]:\n",
    "        def a(node):\n",
    "            if not node:\n",
    "                return\n",
    "            l = node.left\n",
    "            node.left = node.right\n",
    "            node.right = l\n",
    "            a(node.left)\n",
    "            a(node.right)\n",
    "        a(root)\n",
    "        return root"
   ]
  },
  {
   "cell_type": "markdown",
   "id": "85acf8d1",
   "metadata": {},
   "source": [
    "- I traversed the given tree recursively and swapped the left and right child nodes of the current `node`."
   ]
  },
  {
   "cell_type": "markdown",
   "id": "dc494968",
   "metadata": {},
   "source": [
    "### 104. Maximum Depth of Binary Tree"
   ]
  },
  {
   "cell_type": "code",
   "execution_count": null,
   "id": "c00779f0",
   "metadata": {},
   "outputs": [],
   "source": [
    "class Solution:\n",
    "    def maxDepth(self, root: Optional[TreeNode]) -> int:\n",
    "        m = 0\n",
    "        def a(node, d):\n",
    "            nonlocal m\n",
    "            if d > m:\n",
    "                m = d\n",
    "            if not node:\n",
    "                return \n",
    "            a(node.left, d+1)\n",
    "            a(node.right, d+1)\n",
    "        a(root, 0)\n",
    "        return m"
   ]
  },
  {
   "cell_type": "markdown",
   "id": "a606d001",
   "metadata": {},
   "source": [
    "- I did a recursive tree traversal for the given tree, keeping track of the depth with the variable `d`.\n",
    "- I also kept track of the largest depth via the variable `m`, which I had to specify as `nonlocal` in order to use it in my recursive calls."
   ]
  },
  {
   "cell_type": "markdown",
   "id": "9dad96df",
   "metadata": {},
   "source": [
    "### 543. Diameter of Binary Tree"
   ]
  },
  {
   "cell_type": "markdown",
   "id": "0396378a",
   "metadata": {},
   "source": [
    "#### My Initial Solution:"
   ]
  },
  {
   "cell_type": "code",
   "execution_count": null,
   "id": "22ed2835",
   "metadata": {},
   "outputs": [],
   "source": [
    "class Solution:\n",
    "    def diameterOfBinaryTree(self, root: Optional[TreeNode]) -> int:\n",
    "        def subDiam(root: Optional[TreeNode]) -> int:\n",
    "            m = 0\n",
    "            def a(node, d):\n",
    "                nonlocal m\n",
    "                if d > m:\n",
    "                    m = d\n",
    "                if not node:\n",
    "                    return \n",
    "                a(node.left, d+1)\n",
    "                a(node.right, d+1)\n",
    "            a(root.left, 0)\n",
    "            mL = m\n",
    "            m = 0\n",
    "            a(root.right, 0)\n",
    "            mR = m\n",
    "            return mL+mR\n",
    "\n",
    "        mD = 0\n",
    "        def a(node: Optional[TreeNode]) -> int:\n",
    "            if not node:\n",
    "                return\n",
    "            nonlocal mD\n",
    "            d = subDiam(node)\n",
    "            if d > mD:\n",
    "                mD = d\n",
    "            a(node.left)\n",
    "            a(node.right)\n",
    "        a(root)\n",
    "        return mD"
   ]
  },
  {
   "cell_type": "markdown",
   "id": "9bfe1070",
   "metadata": {},
   "source": [
    "- How I approached this problem was to do a recursive tree traversal on the given tree while keeping track of the largest diameter among its subtrees.\n",
    "- The diameter for each subtree was calculated via the helper function `subDiam`, which essentially returns the sum of the maximum depths of the given node's left and right subtrees.\n",
    "- The time complexity and space complexity of this solution are suboptimal, and there is definitely a better way to solve this problem."
   ]
  },
  {
   "cell_type": "markdown",
   "id": "64d73bf3",
   "metadata": {},
   "source": [
    "#### Improved Solution:"
   ]
  },
  {
   "cell_type": "code",
   "execution_count": null,
   "id": "56863b65",
   "metadata": {},
   "outputs": [],
   "source": [
    "class Solution:\n",
    "    def diameterOfBinaryTree(self, root: Optional[TreeNode]) -> int:\n",
    "        mDiam = 0\n",
    "        def a(node):\n",
    "            if not node:\n",
    "                return 0\n",
    "            nonlocal mDiam\n",
    "            ldepth = a(node.left)\n",
    "            rdepth = a(node.right)\n",
    "            diam = ldepth + rdepth # check if the current diameter d is greater than max diameter\n",
    "            if diam > mDiam:\n",
    "                mDiam = diam\n",
    "            return 1 + max(ldepth, rdepth) # return the longer of the two paths to the left and to the right + 1 for current node\n",
    "        a(root)\n",
    "        return mDiam"
   ]
  },
  {
   "cell_type": "markdown",
   "id": "028c3788",
   "metadata": {},
   "source": [
    "- This was a solution that I came up with after looking through the solutions tab, but I find it to be somewhat unintuitive.\n",
    "- How it works is that we traverse the given tree, and on every iteration we do two things. \n",
    "- The first thing we do is calculate the current diameter, `diam`, by taking the sum of the depths of the longest paths to the left and to the right, `ldepth` and `rdepth`, and updating our maximum diameter, `mDiam`.\n",
    "- The second thing we do is return the length of the longer of the two paths to our left and to our right plus 1 for the current node."
   ]
  },
  {
   "cell_type": "markdown",
   "id": "46d3ace7",
   "metadata": {},
   "source": [
    "### 110. Balanced Binary Tree"
   ]
  },
  {
   "cell_type": "code",
   "execution_count": null,
   "id": "86c1b200",
   "metadata": {},
   "outputs": [],
   "source": [
    "class Solution:\n",
    "    def isBalanced(self, root: Optional[TreeNode]) -> bool:\n",
    "        def subBal(root: Optional[TreeNode]) -> bool:\n",
    "            if not root:\n",
    "                return True\n",
    "            m = 0\n",
    "            def a(node, d):\n",
    "                nonlocal m\n",
    "                if d > m:\n",
    "                    m = d\n",
    "                if not node:\n",
    "                    return\n",
    "                a(node.left, d+1)\n",
    "                a(node.right, d+1)\n",
    "            a(root.left, 0)\n",
    "            mL = m\n",
    "            m = 0\n",
    "            a(root.right, 0)\n",
    "            mR = m\n",
    "            return abs(mR-mL) <= 1\n",
    "\n",
    "        res = True\n",
    "        def a(node):\n",
    "            nonlocal res\n",
    "            if not node:\n",
    "                return\n",
    "            if not subBal(node):\n",
    "                res = False\n",
    "            a(node.left)\n",
    "            a(node.right)\n",
    "        a(root)\n",
    "        return res"
   ]
  },
  {
   "cell_type": "markdown",
   "id": "af33bb35",
   "metadata": {},
   "source": [
    "- Initially, I had tried to submit my helper function `subBal` as a solution to this problem, but after reading the definition for a **height-balanced tree**  again, I realized that I had to ensure this quality not only for the given tree but for every one of its subtrees as well.\n",
    "- The function `subBal` returns `True` when the maximum depth of the left and right subtrees of the given tree differ by 1 at most, and it returns `False`, otherwise.\n",
    "- We recursively traverse the given tree and return `True` if `subBal` returns `True` on every node, and we return `False`, otherwise.\n",
    "- The runtime complexity of this solution is quite suboptimal, and I am sure there is a better way to do it."
   ]
  },
  {
   "cell_type": "markdown",
   "id": "d7bc3f4f",
   "metadata": {},
   "source": [
    "### 100. Same Tree"
   ]
  },
  {
   "cell_type": "code",
   "execution_count": null,
   "id": "12fa8be9",
   "metadata": {},
   "outputs": [],
   "source": [
    "class Solution:\n",
    "    def isSameTree(self, p: Optional[TreeNode], q: Optional[TreeNode]) -> bool:\n",
    "        res = True\n",
    "        def a(n1, n2):\n",
    "            nonlocal res\n",
    "            if not n1 and n2:\n",
    "                res = False\n",
    "                return\n",
    "            elif not n2 and n1:\n",
    "                res = False\n",
    "                return\n",
    "            elif not n1 and not n2:\n",
    "                return\n",
    "            if n1.val != n2.val:\n",
    "                res = False\n",
    "            a(n1.left, n2.left)\n",
    "            a(n1.right, n2.right)\n",
    "        a(p,q)\n",
    "        return res"
   ]
  },
  {
   "cell_type": "markdown",
   "id": "a3e47b76",
   "metadata": {},
   "source": [
    "- I slightly modified my recursive function from earlier to traverse the given trees `p` and `q` simultaneously.\n",
    "- If at any point the values of the current nodes `n1` and `n2` do not match, or one of the nodes exists while the other does not, we return `False`."
   ]
  },
  {
   "cell_type": "markdown",
   "id": "1f6a55dd",
   "metadata": {},
   "source": [
    "### 572. Subtree of Another Tree"
   ]
  },
  {
   "cell_type": "code",
   "execution_count": null,
   "id": "d854428c",
   "metadata": {},
   "outputs": [],
   "source": [
    "class Solution:\n",
    "    def isSameTree(self, p: Optional[TreeNode], q: Optional[TreeNode]) -> bool:\n",
    "        res = True\n",
    "        def a(n1, n2):\n",
    "            nonlocal res\n",
    "            if not n1 and n2:\n",
    "                res = False\n",
    "                return\n",
    "            elif not n2 and n1:\n",
    "                res = False\n",
    "                return\n",
    "            elif not n1 and not n2:\n",
    "                return\n",
    "            if n1.val != n2.val:\n",
    "                res = False\n",
    "            a(n1.left, n2.left)\n",
    "            a(n1.right, n2.right)\n",
    "        a(p,q)\n",
    "        return res\n",
    "    def isSubtree(self, root: Optional[TreeNode], subRoot: Optional[TreeNode]) -> bool: \n",
    "        res = False\n",
    "        def a(node: Optional[TreeNode], subRoot: Optional[TreeNode]):\n",
    "            nonlocal res\n",
    "            if not node:\n",
    "                return\n",
    "            if node.val == subRoot.val and not res:\n",
    "                res = self.isSameTree(node, subRoot)\n",
    "            a(node.left, subRoot)\n",
    "            a(node.right, subRoot)\n",
    "\n",
    "        a(root, subRoot)\n",
    "        return res"
   ]
  },
  {
   "cell_type": "markdown",
   "id": "242ee924",
   "metadata": {},
   "source": [
    "- The way it works is that we do a recursive tree traversal of the given tree, and whenever the value of the current `node` is equal to the value of `subRoot`, we use the function that we have defined in our previous solution to check whether the current tree is equal to the given subtree.\n",
    "- If we have found a matching subtree, we return `True` and don't perform this check on any other nodes."
   ]
  },
  {
   "cell_type": "markdown",
   "id": "27a266c7",
   "metadata": {},
   "source": [
    "### 235. Lowest Common Ancestor of a Binary Search Tree"
   ]
  },
  {
   "cell_type": "code",
   "execution_count": null,
   "id": "e5037e9a",
   "metadata": {},
   "outputs": [],
   "source": [
    "class Solution:\n",
    "    def lowestCommonAncestor(self, root: 'TreeNode', p: 'TreeNode', q: 'TreeNode') -> 'TreeNode':\n",
    "        def inSubtrees(haystack: 'TreeNode', needle: 'TreeNode') -> bool:\n",
    "            res = False\n",
    "            def a(node: 'TreeNode'):\n",
    "                nonlocal res\n",
    "                nonlocal haystack\n",
    "                if not node:\n",
    "                    return\n",
    "                if not node is haystack and node is needle:\n",
    "                    res = True\n",
    "                a(node.left)\n",
    "                a(node.right)\n",
    "            a(haystack)\n",
    "            return res\n",
    "        \n",
    "        # traverse until either p or q found\n",
    "        # if one found and the other in it's subtree return the found node\n",
    "        # else go up one layer and search again, if found return this node \n",
    "        # repeat step 3 \n",
    "        \n",
    "        end = False\n",
    "        found = None\n",
    "        lcas = []\n",
    "        res = root\n",
    "        def a(node: 'TreeNode'):\n",
    "            if not node:\n",
    "                return\n",
    "            nonlocal found, res, lcas, end\n",
    "            if not found:\n",
    "                lcas.append(node)\n",
    "\n",
    "            if found and not end:\n",
    "                #print(f'searching subtrees of {lcas[-1].val} for {p.val if found == q else q.val}')\n",
    "                if inSubtrees(lcas[-1], p if found is q else q):\n",
    "                    #print(f'found it. res -> {lcas[-1].val}')\n",
    "                    res = lcas[-1]\n",
    "                    return\n",
    "                if lcas:\n",
    "                    lcas.pop()\n",
    "                    #print(f'didnt find it lcas = {[v.val for v in lcas]}')\n",
    "\n",
    "            if (node is p or node is q) and not found:\n",
    "                #print(f'found the first node: {node.val}')\n",
    "                found = node\n",
    "                if inSubtrees(found, p if found is q else q):\n",
    "                    res = found\n",
    "                    end = True\n",
    "                lcas.pop()\n",
    "                return\n",
    "            a(node.left)\n",
    "            a(node.right)\n",
    "\n",
    "        a(root)\n",
    "        return res"
   ]
  },
  {
   "cell_type": "markdown",
   "id": "89010a2a",
   "metadata": {},
   "source": [
    "- This problem felt a bit more complicated than the other tree-related problems so far.\n",
    "- The way I have approached this problem is to search the tree until I find either `p` or `q`, and when I do find one of them, I check whether its subtrees contain the other node.\n",
    "- If one of the subtrees does contain the other node, the `found` node will be our solution.\n",
    "- Otherwise, we keep searching the subtrees of the parent node until we find the parent node, whose subtrees contain the other node."
   ]
  },
  {
   "cell_type": "markdown",
   "id": "3572a836",
   "metadata": {},
   "source": [
    "### 102. Binary Tree Level Order Traversal"
   ]
  },
  {
   "cell_type": "markdown",
   "id": "89eb5c24",
   "metadata": {},
   "source": [
    "#### My Initial Solution:"
   ]
  },
  {
   "cell_type": "code",
   "execution_count": null,
   "id": "d7b55ca8",
   "metadata": {},
   "outputs": [],
   "source": [
    "class Solution:\n",
    "    def levelOrder(self, root: Optional[TreeNode]) -> List[List[int]]:\n",
    "        res = [ [] for _ in range(2000) ]  #maxnodes = 2000 -> maxdepth = 2000\n",
    "\n",
    "        def a(node: Optional[TreeNode], d: int):\n",
    "            if not node:\n",
    "                return\n",
    "            res[d].append(node.val)\n",
    "            a(node.left, d+1)\n",
    "            a(node.right, d+1)\n",
    "        a(root, 0)\n",
    "\n",
    "        return [ l for l in res if l != [] ]"
   ]
  },
  {
   "cell_type": "markdown",
   "id": "d4454849",
   "metadata": {},
   "source": [
    "- I am quite sure that I could have done this in a more optimized way by iterating over the tree twice to find out its maximum depth before initializing my result list `res`.\n",
    "- Nevertheless, this solution also got accepted, but I should probably improve it some other time.\n",
    "- How it works is that we iterate over the given tree while keeping track of the depth with the variable `d`, and we append the value of the current `node` to the list that keeps track of the nodes at that depth, `res[d]`."
   ]
  },
  {
   "cell_type": "markdown",
   "id": "fd772f2b",
   "metadata": {},
   "source": [
    "#### Improved Solution:"
   ]
  },
  {
   "cell_type": "code",
   "execution_count": null,
   "id": "8e890167",
   "metadata": {},
   "outputs": [],
   "source": [
    "class Solution:\n",
    "    def levelOrder(self, root: Optional[TreeNode]) -> List[List[int]]:\n",
    "        res = []\n",
    "\n",
    "        def a(node: Optional[TreeNode], d: int):\n",
    "            if not node:\n",
    "                return\n",
    "            if d > len(res)-1:\n",
    "                res.append([])\n",
    "            res[d].append(node.val)\n",
    "            a(node.left, d+1)\n",
    "            a(node.right, d+1)\n",
    "        a(root, 0)\n",
    "\n",
    "        return res"
   ]
  },
  {
   "cell_type": "markdown",
   "id": "1e782de5",
   "metadata": {},
   "source": [
    "- This runs a lot faster than my previous solution because this time around we dynamically increase the length of the result list `res` with increasing depth `d`."
   ]
  },
  {
   "cell_type": "markdown",
   "id": "900b5a22",
   "metadata": {},
   "source": [
    "### 199. Binary Tree Right Side View"
   ]
  },
  {
   "cell_type": "markdown",
   "id": "5591d30a",
   "metadata": {},
   "source": [
    "#### My Initial Solution:"
   ]
  },
  {
   "cell_type": "code",
   "execution_count": null,
   "id": "ec3102e2",
   "metadata": {},
   "outputs": [],
   "source": [
    "class Solution:\n",
    "    def rightSideView(self, root: Optional[TreeNode]) -> List[int]:\n",
    "        res = [ [] for _ in range(2000) ]  #maxnodes = 2000 -> maxdepth = 2000\n",
    "\n",
    "        def a(node: Optional[TreeNode], d: int):\n",
    "            if not node:\n",
    "                return\n",
    "            res[d].append(node.val)\n",
    "            a(node.left, d+1)\n",
    "            a(node.right, d+1)\n",
    "        a(root, 0)\n",
    "\n",
    "        return [ l[-1] for l in res if l != [] ]"
   ]
  },
  {
   "cell_type": "markdown",
   "id": "2ab7bf8e",
   "metadata": {},
   "source": [
    "- This is pretty much exactly the same as the last problem, with the slight difference that we return a list containing only the rightmost element of each layer instead of a list containing every layer in its entirety."
   ]
  },
  {
   "cell_type": "markdown",
   "id": "be0a9159",
   "metadata": {},
   "source": [
    "#### Improved Solution"
   ]
  },
  {
   "cell_type": "code",
   "execution_count": null,
   "id": "2ba5e361",
   "metadata": {},
   "outputs": [],
   "source": [
    "class Solution:\n",
    "    def rightSideView(self, root: Optional[TreeNode]) -> List[int]:\n",
    "        res = []\n",
    "\n",
    "        def a(node: Optional[TreeNode], d: int):\n",
    "            if not node:\n",
    "                return\n",
    "            if d > len(res)-1:\n",
    "                res.append([])\n",
    "            res[d].append(node.val)\n",
    "            a(node.left, d+1)\n",
    "            a(node.right, d+1)\n",
    "        a(root, 0)\n",
    "\n",
    "        return [l[-1] for l in res]"
   ]
  },
  {
   "cell_type": "markdown",
   "id": "cf8685e3",
   "metadata": {},
   "source": [
    "- I have pretty much copied and pasted my improved solution for the previous problem. "
   ]
  },
  {
   "cell_type": "markdown",
   "id": "cd999ea0",
   "metadata": {},
   "source": [
    "### 1448. Count Good Nodes in Binary Tree"
   ]
  },
  {
   "cell_type": "code",
   "execution_count": null,
   "id": "a67aaff4",
   "metadata": {},
   "outputs": [],
   "source": [
    "class Solution:\n",
    "    def goodNodes(self, root: TreeNode) -> int:\n",
    "        s = []\n",
    "        maxS = [root.val if root else None]\n",
    "        res = 0\n",
    "\n",
    "        def a(node: TreeNode):\n",
    "            if not node:\n",
    "                return\n",
    "\n",
    "            nonlocal s, maxS, res\n",
    "            s.append(node)\n",
    "            if node.val >= maxS[-1]:\n",
    "                maxS.append(node.val)\n",
    "            \n",
    "            #print(f'current path: {[v.val for v in s]}  current max: {[v for v in maxS]}')\n",
    "\n",
    "            if node.val >= maxS[-1]:\n",
    "                #print(f\"{node.val} is a good node!\")\n",
    "                res += 1\n",
    "\n",
    "            a(node.left)\n",
    "            a(node.right)\n",
    "            if s and not s[-1] is root:\n",
    "                n = s.pop()\n",
    "                if maxS and maxS[-1] == n.val and len(maxS) > 1:\n",
    "                    maxS.pop()\n",
    "        a(root)\n",
    "\n",
    "        return res"
   ]
  },
  {
   "cell_type": "markdown",
   "id": "a827978b",
   "metadata": {},
   "source": [
    "- The way I have approached this problem is to recursively iterate over the given tree while keeping track of the path to the current `node` with the help of the stack `s`.\n",
    "- Furthermore, I have used a second stack, `maxS`, to keep track of the maximum value in the current path that is saved in `s`.\n",
    "- Whenever the value of the current `node` is greater or equal to the maximum in the path leading up to it, `maxS[-1]`,  we increase the number of good nodes by 1."
   ]
  },
  {
   "cell_type": "markdown",
   "id": "0c813967",
   "metadata": {},
   "source": [
    "### 98. Validate Binary Search Tree"
   ]
  },
  {
   "cell_type": "markdown",
   "id": "4303cbfe",
   "metadata": {},
   "source": [
    "#### My Initial Solution:"
   ]
  },
  {
   "cell_type": "code",
   "execution_count": null,
   "id": "2736a896",
   "metadata": {},
   "outputs": [],
   "source": [
    "class Solution:\n",
    "    def isValidBST(self, root: Optional[TreeNode]) -> bool:\n",
    "        def maxN(node):\n",
    "            if not node:\n",
    "                return\n",
    "            nonlocal mx\n",
    "            if node.val > mx:\n",
    "                mx = node.val\n",
    "            maxN(node.left)\n",
    "            maxN(node.right)\n",
    "            \n",
    "        def minN(node):\n",
    "            if not node:\n",
    "                return\n",
    "            nonlocal mn\n",
    "            if node.val < mn:\n",
    "                mn = node.val\n",
    "            minN(node.left)\n",
    "            minN(node.right)\n",
    "        \n",
    "        mx,mn = 2**31-1, -(2**31)-1\n",
    "        res = True\n",
    "        def a(node):\n",
    "            if not node:\n",
    "                return\n",
    "            nonlocal res,mx,mn\n",
    "            if node.left:\n",
    "                mx = -(2**31)-1\n",
    "                maxN(node.left)\n",
    "                print(mx)\n",
    "                if mx >= node.val:\n",
    "                    res = False\n",
    "                    return\n",
    "            if node.right:\n",
    "                mn = 2**31-1\n",
    "                minN(node.right)\n",
    "                print(mn)\n",
    "                if mn <= node.val:\n",
    "                    res = False\n",
    "                    return\n",
    "            a(node.left)\n",
    "            a(node.right)\n",
    "        a(root)\n",
    "        return res"
   ]
  },
  {
   "cell_type": "markdown",
   "id": "64e63255",
   "metadata": {},
   "source": [
    "- This is probably the most brute-force way to solve this problem, so I am not very happy with this solution.\n",
    "- How it works is that we utilize the helper functions `minN` and `maxN` to search for the maximum value in every left subtree and the minimum value in every right subtree.\n",
    "- If the maximum value `mx` of the left subtree is greater or equal to the value of the current `node`, or if the minimum value `mn` of the right subtree is less or equal to the value of the current `node`, we return `False`."
   ]
  },
  {
   "cell_type": "markdown",
   "id": "13c72a6d",
   "metadata": {},
   "source": [
    "#### Improved Solution:"
   ]
  },
  {
   "cell_type": "code",
   "execution_count": null,
   "id": "7693a395",
   "metadata": {},
   "outputs": [],
   "source": [
    "class Solution:\n",
    "    def isValidBST(self, root: Optional[TreeNode]) -> bool:\n",
    "        def a(node: Optional[TreeNode], mn: int, mx: int) -> bool:\n",
    "            if not node: \n",
    "                return True\n",
    "            if node.val >= mx or node.val <= mn:\n",
    "                return False\n",
    "            return a(node.left, mn, node.val) and a(node.right, node.val, mx)\n",
    "        return a(root, float(-inf), float(inf))"
   ]
  },
  {
   "cell_type": "markdown",
   "id": "5008da8f",
   "metadata": {},
   "source": [
    "- Admittedly, I had to look up a better solution to this problem and reimplement it.\n",
    "- The way it works is that we recursively traverse the given tree with the helper function `a`, which gets called with the parameters `mn` and `mx`, which set a boundary for the smallest and largest allowed values of the current `node`.\n",
    "- When we branch to the left, we set the upper boundary to the value of the current `node`, and when we branch to the right, we set the lower boundary to the value of the current `node`."
   ]
  },
  {
   "attachments": {
    "validBST.png": {
     "image/png": "[encoded data removed]"
    }
   },
   "cell_type": "markdown",
   "id": "7f56ed35",
   "metadata": {},
   "source": [
    "![validBST.png](attachment:validBST.png)"
   ]
  },
  {
   "cell_type": "markdown",
   "id": "962000dc",
   "metadata": {},
   "source": [
    "### 230. Kth Smallest Element in a BST"
   ]
  },
  {
   "cell_type": "code",
   "execution_count": null,
   "id": "b2bbcca0",
   "metadata": {},
   "outputs": [],
   "source": [
    "class Solution:\n",
    "    def kthSmallest(self, root: Optional[TreeNode], k: int) -> int:\n",
    "        vals = []\n",
    "        def a(node: Optional[TreeNode]):\n",
    "            if not node:\n",
    "                return\n",
    "            nonlocal vals\n",
    "            vals.append(node.val)\n",
    "            a(node.left)\n",
    "            a(node.right)\n",
    "        a(root)\n",
    "        s_vals = list(sorted(vals))\n",
    "        return s_vals[k-1]"
   ]
  },
  {
   "cell_type": "markdown",
   "id": "d7ddf088",
   "metadata": {},
   "source": [
    "- This was quite easy, and I am not sure why it has a medium difficulty rating.\n",
    "- The way it works is that we iterate over the given tree and save the value of every `node` inside of the list `vals`.\n",
    "- Lastly, we sort `vals` and save the result in `s_vals`. The element at index `k-1` will be the Kth smallest element."
   ]
  },
  {
   "cell_type": "markdown",
   "id": "399bfbe2",
   "metadata": {},
   "source": [
    "### 105. Construct Binary Tree from Preorder and Inorder Traversal\n"
   ]
  },
  {
   "cell_type": "code",
   "execution_count": null,
   "id": "48321ea4",
   "metadata": {},
   "outputs": [],
   "source": [
    "class Solution:\n",
    "    def buildTree(self, preorder: List[int], inorder: List[int]) -> Optional[TreeNode]:\n",
    "        if not preorder or not inorder:\n",
    "            return None\n",
    "        \n",
    "        # the first elem in preorder is always the root of that subtree\n",
    "        root = TreeNode(preorder[0])\n",
    "        # the index of the root in the inorder list\n",
    "        i = inorder.index(root.val)\n",
    "        # recursive call with the elements to the left of root\n",
    "        root.left = self.buildTree(preorder[1:i+1], inorder[:i])\n",
    "        # recursive call with the elements to the right of root\n",
    "        root.right = self.buildTree(preorder[i+1:], inorder[i+1:])\n",
    "        return root"
   ]
  },
  {
   "cell_type": "markdown",
   "id": "c5f9b856",
   "metadata": {},
   "source": [
    "- Unfortunately, I could not figure out the solution to this problem on my own, so I had to look up the solution provided by Neetcode.\n",
    "- The way it works is that we build up the tree recursively by calling `buildTree` with the `preorder` traversal and the `inorder` traversal of the left and right subtrees of the current node `root`.\n",
    "- This works because we know that `root` will always be the first element in the `preorder` traversal."
   ]
  },
  {
   "attachments": {
    "PreorderInorder.png": {
     "image/png": "[encoded data removed]"
    }
   },
   "cell_type": "markdown",
   "id": "bc481fb5",
   "metadata": {},
   "source": [
    "![PreorderInorder.png](attachment:PreorderInorder.png)"
   ]
  },
  {
   "cell_type": "markdown",
   "id": "44bbfec4",
   "metadata": {},
   "source": [
    "### 124. Binary Tree Maximum Path Sum"
   ]
  },
  {
   "cell_type": "code",
   "execution_count": null,
   "id": "5dc446a8",
   "metadata": {},
   "outputs": [],
   "source": [
    "class Solution:\n",
    "    def maxPathSum(self, root: Optional[TreeNode]) -> int:\n",
    "        mSum = -1001\n",
    "        def a(node):\n",
    "            if not node:\n",
    "                return 0\n",
    "            nonlocal mSum\n",
    "            lsum = a(node.left)\n",
    "            rsum = a(node.right)\n",
    "            sums = [node.val, node.val + lsum, node.val + rsum, node.val + lsum + rsum] # all possible sums for the current node\n",
    "            currentMaxSum = max(sums) # the largest of all possible sums for the current node\n",
    "            mSum = max(mSum, currentMaxSum) # check if the current max sum is greater than our largest sum so far\n",
    "            return max(sums[:-1]) # return the largest possible sum for our current node excluding the last sum of sums because this would not be a path anymore\n",
    "        a(root)\n",
    "        return mSum"
   ]
  },
  {
   "cell_type": "markdown",
   "id": "e9e06fc5",
   "metadata": {},
   "source": [
    "- This problem is extremely similar to the problem *543. Diameter of Binary Tree* so the solution will follow the same approach.\n",
    "- How it works is that we traverse the given tree and do two things in every iteration.\n",
    "- The first thing that we do is to recursively retrieve the largest possible sums in the left and right subtrees, `lsum` and `rsum`. We will then figure out the largest possible sum between the current `node` and the two sums that we have retrieved. If this sum, `currentMaxSum`, is larger than the greatest sum we have encountered so far, `mSum`, we update the value of `mSum`.\n",
    "- The second thing we do is return the largest possible sum between `node`, `lsum`, and `rsum` that still maintains the structure of a path, which is important because we are recursively constructing a path."
   ]
  },
  {
   "cell_type": "markdown",
   "id": "3e49345e",
   "metadata": {},
   "source": [
    "### 297. Serialize and Deserialize Binary Tree"
   ]
  },
  {
   "cell_type": "code",
   "execution_count": null,
   "id": "7549e584",
   "metadata": {},
   "outputs": [],
   "source": [
    "class Codec:\n",
    "    def serialize(self, root):\n",
    "        po = []\n",
    "        def preorder(node):\n",
    "            nonlocal po\n",
    "            if not node:\n",
    "                po.append('x')\n",
    "                return\n",
    "            po.append(node.val)\n",
    "            preorder(node.left)\n",
    "            preorder(node.right)\n",
    "        preorder(root)\n",
    "        return str(po)\n",
    "\n",
    "    def deserialize(self, data):\n",
    "        po = eval(data)\n",
    "        def preorder():\n",
    "            nonlocal po\n",
    "            if po[0] == 'x':\n",
    "                po = po[1:]\n",
    "                return None\n",
    "            node = TreeNode(po[0], None, None)\n",
    "            po = po[1:]\n",
    "            node.left = preorder()\n",
    "            node.right = preorder()\n",
    "            return node\n",
    "\n",
    "        root = preorder()\n",
    "        return root\n",
    "\n",
    "        \n",
    "# Your Codec object will be instantiated and called as such:\n",
    "# ser = Codec()\n",
    "# deser = Codec()\n",
    "# ans = deser.deserialize(ser.serialize(root))"
   ]
  },
  {
   "cell_type": "markdown",
   "id": "6206f6f9",
   "metadata": {},
   "source": [
    "- At first, I tried to copy the approach from the previous problem and apply it to this one as well.\n",
    "- Then I realized that the solution to the previous problem depended on the values of the tree being unique, which was not the case here.\n",
    "- I slightly altered my approach by using a `preorder` traversal for serializing the tree and then deserializing it in the same manner.\n",
    "- The slight difference is that I also had to add an identifier for when we reached an empty node, for which I chose to use `'x'`."
   ]
  },
  {
   "cell_type": "markdown",
   "id": "38c27227",
   "metadata": {},
   "source": [
    "## Tries <a name=\"tries\"></a>"
   ]
  },
  {
   "cell_type": "markdown",
   "id": "ae3bbc6d",
   "metadata": {},
   "source": [
    "### 208. Implement Trie (Prefix Tree)"
   ]
  },
  {
   "cell_type": "code",
   "execution_count": null,
   "id": "e99ff8a1",
   "metadata": {},
   "outputs": [],
   "source": [
    "class TrieNode:\n",
    "    def __init__(self, val, childs, end):\n",
    "        self.val = val\n",
    "        self.childs = childs\n",
    "        self.end = end\n",
    "\n",
    "\n",
    "class Trie:\n",
    "    def __init__(self):\n",
    "        self.root = TrieNode('', dict(), False)\n",
    "\n",
    "    def insert(self, word: str) -> None:\n",
    "        n = self.root\n",
    "        k = 0\n",
    "        while k < len(word):\n",
    "            try:\n",
    "                n = n.childs[word[k]]\n",
    "                k += 1\n",
    "            except KeyError:\n",
    "                nn = TrieNode(word[k], dict(), False)\n",
    "                n.childs[word[k]] = nn\n",
    "                n = nn\n",
    "                k += 1\n",
    "        n.end = True\n",
    "        \n",
    "    def search(self, word: str) -> bool:\n",
    "        n = self.root\n",
    "        k = 0\n",
    "        while k < len(word):\n",
    "            try:\n",
    "                n = n.childs[word[k]]\n",
    "                k += 1\n",
    "            except KeyError:\n",
    "                return False\n",
    "        return True if n.end else False\n",
    "         \n",
    "    def startsWith(self, prefix: str) -> bool:\n",
    "        n = self.root\n",
    "        k = 0\n",
    "        while k < len(prefix):\n",
    "            try:\n",
    "                n = n.childs[prefix[k]]\n",
    "                k += 1\n",
    "            except KeyError:\n",
    "                return False\n",
    "        return True \n",
    "        \n",
    "\n",
    "\n",
    "# Your Trie object will be instantiated and called as such:\n",
    "# obj = Trie()\n",
    "# obj.insert(word)\n",
    "# param_2 = obj.search(word)\n",
    "# param_3 = obj.startsWith(prefix)"
   ]
  },
  {
   "cell_type": "markdown",
   "id": "7efe4889",
   "metadata": {},
   "source": [
    "- This problem was not too difficult; I only had to look up the general concept of a **Trie** beforehand, and then implementing it was an easy task.\n",
    "- Every node represents a letter of the alphabet, and when we want to find or insert a `word`, we start at the root node and navigate to the `word` letter for letter via the respective child nodes, `childs`.\n",
    "- When it comes to inserting, we also have to create new nodes when the nodes corresponding to the letters of a `word` don't exist yet."
   ]
  },
  {
   "cell_type": "markdown",
   "id": "f16c9a88",
   "metadata": {},
   "source": [
    "### 211. Design Add and Search Words Data Structure"
   ]
  },
  {
   "cell_type": "code",
   "execution_count": null,
   "id": "c65f8612",
   "metadata": {},
   "outputs": [],
   "source": [
    "class TrieNode:\n",
    "    def __init__(self, val, childs, end):\n",
    "        self.val = val\n",
    "        self.childs = childs\n",
    "        self.end = end\n",
    "\n",
    "class WordDictionary:\n",
    "\n",
    "    def __init__(self):\n",
    "        self.root = TrieNode('', dict(), False)\n",
    "        \n",
    "    def addWord(self, word: str) -> None:\n",
    "        n = self.root\n",
    "        k = 0\n",
    "        while k < len(word):\n",
    "            try:\n",
    "                n = n.childs[word[k]]\n",
    "                k += 1\n",
    "            except KeyError:\n",
    "                nn = TrieNode(word[k], dict(), False)\n",
    "                n.childs[word[k]] = nn\n",
    "                n = nn\n",
    "                k += 1\n",
    "        n.end = True\n",
    "        \n",
    "    def search(self, word: str) -> bool:\n",
    "        def a(node: TrieNode, i: int):\n",
    "            if i == len(word): \n",
    "                return node.end\n",
    "\n",
    "            c = word[i]\n",
    "            if c != '.' and not c in node.childs: \n",
    "                return False\n",
    "            \n",
    "            # the next nodes to search are all childs on .\n",
    "            # and only the specific child on a specific character\n",
    "            nn = node.childs.values() if c == '.' else (node.childs[c],)\n",
    "\n",
    "            # we perform another search on every one of the next nodes\n",
    "            # any() returns True if any of the calls to a() return True\n",
    "            return any(a(n, i+1) for n in nn)\n",
    "\n",
    "        return a(self.root, 0)\n",
    "\n",
    "# Your WordDictionary object will be instantiated and called as such:\n",
    "# obj = WordDictionary()\n",
    "# obj.addWord(word)\n",
    "# param_2 = obj.search(word)"
   ]
  },
  {
   "cell_type": "markdown",
   "id": "045799a8",
   "metadata": {},
   "source": [
    "- Unfortunately, I had to look up a solution for the `search` function, but other than that, I have used my **Trie** implementation from the previous task.\n",
    "- How the search function works is via the recursive search function `a`, which will terminate when either the end of the word has been reached or when the next character `c` is not contained in the `childs` of the current `node`.\n",
    "- When the next character `c` is equal to `'.'`, we call `a` for every child of the current `node`; otherwise, we call `a` on the child that matches the character `c`.\n",
    "- These calls are put inside the `any` function, which returns `True` if any of the values passed to it are `True`. This will also be the return value of `a`."
   ]
  },
  {
   "cell_type": "markdown",
   "id": "1fe7f48a",
   "metadata": {},
   "source": [
    "### 212. Word Search II"
   ]
  },
  {
   "cell_type": "markdown",
   "id": "9175c9f2",
   "metadata": {},
   "source": [
    "#### My Initial Solution:"
   ]
  },
  {
   "cell_type": "code",
   "execution_count": null,
   "id": "e7daed22",
   "metadata": {},
   "outputs": [],
   "source": [
    "class Solution:\n",
    "    def _neighbors(self, pos: tuple[int, int], board: List[List[str]]) -> List[str]:\n",
    "        d = defaultdict(list)\n",
    "        #up\n",
    "        if pos[0]-1 >= 0:\n",
    "            d[board[pos[0]-1][pos[1]]].append((pos[0]-1, pos[1]))\n",
    "        #right\n",
    "        if pos[1]+1 <= len(board[0])-1:\n",
    "            d[board[pos[0]][pos[1]+1]].append((pos[0], pos[1]+1))\n",
    "        #down\n",
    "        if pos[0]+1 <= len(board)-1:\n",
    "            d[board[pos[0]+1][pos[1]]].append((pos[0]+1, pos[1]))\n",
    "        #left\n",
    "        if pos[1]-1 >= 0:\n",
    "            d[board[pos[0]][pos[1]-1]].append((pos[0], pos[1]-1))\n",
    "        return d\n",
    "\n",
    "    def _search(self, pos: tuple[int, int], board: List[List[str]], word: str, i: int, prev: List[tuple[str, tuple[int, int]]]) -> bool:\n",
    "        if i >= len(word)-1:\n",
    "            return True\n",
    "        nb = self._neighbors(pos, board)\n",
    "        if prev:\n",
    "            for p in prev:\n",
    "                try:\n",
    "                    nb[p[0]].remove(p[1])\n",
    "                except:\n",
    "                    continue\n",
    "        else:\n",
    "            prev = []\n",
    "        prev.append((word[i], pos))\n",
    "        if not word[i+1] in nb.keys():\n",
    "            return False\n",
    "        return any( self._search(p, board, word, i+1, list(prev)) for p in nb[word[i+1]] )\n",
    "\n",
    "    def findWords(self, board: List[List[str]], words: List[str]) -> List[str]:\n",
    "        def find(word: str, board: List[List[str]]):\n",
    "            nonlocal res\n",
    "            for row in range(len(board)):\n",
    "                for col in range(len(board[0])):\n",
    "                    if board[row][col] == word[0]:\n",
    "                        if self._search((row, col), board, word, 0, None):\n",
    "                            res.append(word)\n",
    "                            return\n",
    "        res = []\n",
    "        boardsize = len(board[0]) * len(board)\n",
    "        for word in words:\n",
    "            if len(word) > boardsize:\n",
    "                continue    \n",
    "            find(word, board)\n",
    "\n",
    "        return res"
   ]
  },
  {
   "cell_type": "markdown",
   "id": "859e07d9",
   "metadata": {},
   "source": [
    "- This solution uses backtracking as an approach to find out whether a `word` exists in the given `board` or not.\n",
    "- While it does seem to return the correct results, it is not efficient enough to pass the larger test cases.\n",
    "- How it works is that we iterate over the `board` until we find the first letter of the given `word`, and then we use the helper functions `_search` and `_neighbors` to search for the `word` inside of the `board`.\n",
    "- If we have managed to find the `word`, we add it to our list of valid words, `res`."
   ]
  },
  {
   "cell_type": "markdown",
   "id": "830a0f18",
   "metadata": {},
   "source": [
    "#### Another Solution:"
   ]
  },
  {
   "cell_type": "code",
   "execution_count": null,
   "id": "67ad22b7",
   "metadata": {},
   "outputs": [],
   "source": [
    "class TrieNode:\n",
    "    def __init__(self, val, childs):\n",
    "        self.val = val\n",
    "        self.childs = childs\n",
    "\n",
    "class Trie:\n",
    "    class TrieNode:\n",
    "        def __init__(self, val, childs):\n",
    "            self.val = val\n",
    "            self.childs = childs\n",
    "\n",
    "    def __init__(self):\n",
    "        self.root = TrieNode('root', dict())\n",
    "\n",
    "    def insert(self, pos: tuple[int, int], board: List[List[str]], depth: int):\n",
    "        def _insert(node, pos, board, prev, d):\n",
    "            nonlocal depth\n",
    "            nb = self._neighbors(pos, board) # get neighbors \n",
    "            if prev:\n",
    "                for p in prev:\n",
    "                    try:\n",
    "                        nb[p[0]].remove(p[1])\n",
    "                    except:\n",
    "                        continue\n",
    "            else:\n",
    "                prev = []   # previous positions filtered from neighbors\n",
    "            letter = board[pos[0]][pos[1]]\n",
    "            prev.append((letter, pos))  # add current letter to previous \n",
    "            #print(f'[{letter}]  neighbors = {dict(nb)}  prev = {prev}  depth = {d}')\n",
    "\n",
    "            if not letter in node.childs.keys():\n",
    "                node.childs[letter] = TrieNode(letter, dict())\n",
    "            if not nb or d == depth: return\n",
    "\n",
    "            poslist = list(chain.from_iterable([l for l in nb.values()]))\n",
    "            for p in poslist:\n",
    "                _insert(node.childs[letter], p, board, list(prev), d+1)\n",
    "\n",
    "        _insert(self.root, pos, board, None, 0)\n",
    "\n",
    "    def search(self, word: str) -> bool:\n",
    "        #print(f'starting search for: \"{word}\" ...')\n",
    "        def _search(node, word: str, i: int) -> bool:\n",
    "            if i == len(word):\n",
    "                #print('found the word!')\n",
    "                return True\n",
    "            c = word[i]\n",
    "            #print(f'node = {node.val}  word[{i}] = {c}  childNodes = {list(node.childs.keys())}')\n",
    "            if not c in list(node.childs.keys()):\n",
    "                #print(f'not found: \"{c}\" not in {list(node.childs.keys())}')\n",
    "                return False\n",
    "            return _search(node.childs[c], word, i+1)\n",
    "        return _search(self.root, word, 0)\n",
    "\n",
    "    def _neighbors(self, pos: tuple[int, int], board: List[List[str]]) -> List[str]:\n",
    "        d = defaultdict(list)\n",
    "        #up\n",
    "        if pos[0]-1 >= 0:\n",
    "            d[board[pos[0]-1][pos[1]]].append((pos[0]-1, pos[1]))\n",
    "        #right\n",
    "        if pos[1]+1 <= len(board[0])-1:\n",
    "            d[board[pos[0]][pos[1]+1]].append((pos[0], pos[1]+1))\n",
    "        #down\n",
    "        if pos[0]+1 <= len(board)-1:\n",
    "            d[board[pos[0]+1][pos[1]]].append((pos[0]+1, pos[1]))\n",
    "        #left\n",
    "        if pos[1]-1 >= 0:\n",
    "            d[board[pos[0]][pos[1]-1]].append((pos[0], pos[1]-1))\n",
    "        return d\n",
    "\n",
    "class Solution:\n",
    "    def findWords(self, board: List[List[str]], words: List[str]) -> List[str]:\n",
    "        res = []\n",
    "        boardsize = len(board[0]) * len(board)\n",
    "        t = Trie()\n",
    "        d = dict()\n",
    "        for word in words:\n",
    "            try:\n",
    "                length = d[word[0]]\n",
    "                if length < len(word):\n",
    "                    d[word[0]] = len(word)\n",
    "            except KeyError:\n",
    "                d[word[0]] = len(word)\n",
    "        #print(f'starting letters of input and their max length:  {d}')\n",
    "        lettersToInsert = list(d.keys())\n",
    "\n",
    "        inserted = []\n",
    "        def trieInsertSearch(word: str):\n",
    "            nonlocal inserted\n",
    "            for row in range(len(board)):\n",
    "                for col in range(len(board[0])):\n",
    "                    if board[row][col] == word[0]:\n",
    "                        if not (row,col) in inserted:\n",
    "                            t.insert((row, col), board, d[word[0]])\n",
    "                        inserted.append((row, col))\n",
    "                        if t.search(word):\n",
    "                            return True\n",
    "\n",
    "        for word in words:\n",
    "            if len(word) > boardsize:\n",
    "                continue\n",
    "            if word in res:\n",
    "                res.append(word)\n",
    "                continue\n",
    "            if trieInsertSearch(word):\n",
    "                res.append(word)\n",
    "        return res"
   ]
  },
  {
   "cell_type": "markdown",
   "id": "5cd46dcb",
   "metadata": {},
   "source": [
    "- This time around I am utilizing a **Trie** to assist in the finding of words, but there are still some larger test cases that exceed the time limit."
   ]
  },
  {
   "cell_type": "markdown",
   "id": "1b8232d6",
   "metadata": {},
   "source": [
    "#### Improved Solution:"
   ]
  },
  {
   "cell_type": "code",
   "execution_count": null,
   "id": "a8dcde7e",
   "metadata": {},
   "outputs": [],
   "source": [
    "class TrieNode:\n",
    "    def __init__(self, val, childs, end):\n",
    "        self.val = val\n",
    "        self.childs = childs\n",
    "        self.end = end\n",
    "\n",
    "class Trie:\n",
    "    def __init__(self):\n",
    "        self.root = TrieNode('root', dict(), False)\n",
    "\n",
    "    def insert(self, word):\n",
    "        n = self.root\n",
    "        for c in word:\n",
    "            if not c in n.childs:\n",
    "                n.childs[c] = TrieNode(c, dict(), False)\n",
    "            n = n.childs[c]\n",
    "        n.end = True\n",
    "\n",
    "\n",
    "class Solution:\n",
    "    def findWords(self, board: List[List[str]], words: List[str]) -> List[str]:\n",
    "        # we construct a trie from the given words\n",
    "        t = Trie()\n",
    "        for word in words:\n",
    "            t.insert(word)\n",
    "\n",
    "        ROWS, COLS = len(board), len(board[0])\n",
    "        res, prev = set(), set()\n",
    "\n",
    "        def dfs(node, row, col, word):\n",
    "            # if we are out of bounds, or on a previously visited node, or the current field is not part of the current node's children\n",
    "            if row < 0 or col < 0 or row >= ROWS or col >= COLS or (row, col) in prev or not board[row][col] in node.childs:\n",
    "                return\n",
    "\n",
    "            # keep track of previously visited nodes and extend the word by the letter on the current field. also update the node to the next child node\n",
    "            prev.add((row, col))\n",
    "            letter = board[row][col]\n",
    "            word += letter\n",
    "            node = node.childs[letter]\n",
    "\n",
    "            # if we reached an ending node in the trie\n",
    "            if node.end:\n",
    "                res.add(word)\n",
    "\n",
    "            # perform dfs on N, E, S, W neighbors\n",
    "            dfs(node, row-1, col, word)\n",
    "            dfs(node, row, col+1, word)\n",
    "            dfs(node, row+1, col, word)\n",
    "            dfs(node, row, col-1, word)\n",
    "\n",
    "            # we reset the set of previous nodes because it is external of the function and we want to reuse it for the next call to dfs\n",
    "            prev.remove((row, col))\n",
    "\n",
    "\n",
    "        for row in range(ROWS):\n",
    "            for col in range(COLS):\n",
    "                dfs(t.root, row, col, '')\n",
    "\n",
    "        return list(res)"
   ]
  },
  {
   "cell_type": "markdown",
   "id": "63f0c1b3",
   "metadata": {},
   "source": [
    "- At last, I had to look up the solution, and I realized that my previous approach was not quite going in the right direction.\n",
    "- What you were supposed to do was build a **Trie** from the given `words`, and using that, you were supposed to search through the trie for each field in the `board`.\n",
    "- What I did in my previous solution was to build a Trie from the fields in the `board`, rather than building a trie from the given `words`.\n",
    "- It was also quite important to utilize sets for keeping track of the already encountered positions, `prev`. When I tried to accomplish the same with lists, I was unable to pass some of the larger test cases. "
   ]
  },
  {
   "cell_type": "markdown",
   "id": "09aeee63",
   "metadata": {},
   "source": [
    "## Heap / Priority Queue <a name=\"heappriority\"></a>"
   ]
  },
  {
   "cell_type": "markdown",
   "id": "d6d9dea8",
   "metadata": {},
   "source": [
    "### 703. Kth Largest Element in a Stream"
   ]
  },
  {
   "cell_type": "code",
   "execution_count": null,
   "id": "8633ac00",
   "metadata": {},
   "outputs": [],
   "source": [
    "class KthLargest:\n",
    "    def __init__(self, k: int, nums: List[int]):\n",
    "        self.nums = sorted(nums)\n",
    "        self.k = k\n",
    "        \n",
    "    def add(self, val: int) -> int:\n",
    "        bisect.insort(self.nums, val)\n",
    "        return self.nums[-self.k]\n",
    "        \n",
    "\n",
    "# Your KthLargest object will be instantiated and called as such:\n",
    "# obj = KthLargest(k, nums)\n",
    "# param_1 = obj.add(val)"
   ]
  },
  {
   "cell_type": "markdown",
   "id": "88bad7a2",
   "metadata": {},
   "source": [
    "- As far as I am aware, my solution utilizes neither a heap nor a priority queue.\n",
    "- I should probably come up with another solution that makes use of them."
   ]
  },
  {
   "cell_type": "markdown",
   "id": "4c44a70c-6933-454b-be54-920ec9e8c06f",
   "metadata": {},
   "source": [
    "### 1046. Last Stone Weight"
   ]
  },
  {
   "cell_type": "code",
   "execution_count": null,
   "id": "a3cf6a15",
   "metadata": {},
   "outputs": [],
   "source": [
    "class Solution:\n",
    "    def lastStoneWeight(self, stones: List[int]) -> int:\n",
    "        s_stones = sorted(stones)\n",
    "\n",
    "        while len(s_stones) > 1:\n",
    "            stone1 = s_stones.pop()\n",
    "            stone2 = s_stones.pop()\n",
    "            if stone1 > stone2:\n",
    "                stones.remove(stone2)\n",
    "                i = stones.index(stone1)\n",
    "                stones[i] = stone1-stone2\n",
    "                bisect.insort(s_stones, stones[i])\n",
    "            elif stone1 == stone2:\n",
    "                stones.remove(stone1)\n",
    "                stones.remove(stone2)\n",
    "\n",
    "        return stones[0] if len(stones) == 1 else 0"
   ]
  },
  {
   "cell_type": "markdown",
   "id": "63d89f6a-e5dc-4343-aec3-c4ba3fb608ff",
   "metadata": {},
   "source": [
    "- The way this works is that we first sort the list of `stones` and store the sorted list in `s_stones`, which we will treat as some sort of **priority queue**.\n",
    "- Then we iterate over `s_stones` as long as it contains more than one element, and we `pop` the two heaviest stones, `stone1` and `stone2`, from the priority queue.\n",
    "- If the stones are not of equal weight, we `remove` the lighter stone, `stone2`, from `stones` and update the value of the heavier one. It is also important to note that we reinserted `stone1` into the priority queue because we did not remove it from `stones`.\n",
    "- Lastly, if the stones are of equal weight, we simply `remove` both of them from `stones`."
   ]
  },
  {
   "cell_type": "markdown",
   "id": "43540e58-7a2f-48ed-860c-970c91d450d3",
   "metadata": {},
   "source": [
    "### 973. K Closest Points to Origin"
   ]
  },
  {
   "cell_type": "code",
   "execution_count": null,
   "id": "bf4034dd-727b-4ca7-b540-b8be920f47b8",
   "metadata": {},
   "outputs": [],
   "source": [
    "class Solution:\n",
    "    def kClosest(self, points: List[List[int]], k: int) -> List[List[int]]:\n",
    "        s_points = sorted(points, key=lambda p: p[0]**2 + p[1]**2)\n",
    "        return s_points[:k]"
   ]
  },
  {
   "cell_type": "markdown",
   "id": "a3abac65-4f07-44d7-83ef-b876a28965f8",
   "metadata": {},
   "source": [
    "- I will also add a solution for this that uses a priority queue a bit later on.\n",
    "- What I have done here is sort the given `points` by the square of their euclidian distance to the origin, and then I return the first `k` elements."
   ]
  },
  {
   "cell_type": "markdown",
   "id": "e4b918ae",
   "metadata": {},
   "source": [
    "### 215. Kth Largest Element in an Array"
   ]
  },
  {
   "cell_type": "code",
   "execution_count": null,
   "id": "8068f4f6",
   "metadata": {},
   "outputs": [],
   "source": [
    "class Solution:\n",
    "    def findKthLargest(self, nums: List[int], k: int) -> int:\n",
    "        heap = []\n",
    "        heapify(heap)\n",
    "\n",
    "        for n in nums:\n",
    "            heappush(heap, -n)\n",
    "\n",
    "        for i in range(k-1):\n",
    "            heappop(heap)\n",
    "\n",
    "        return -heap[0]"
   ]
  },
  {
   "cell_type": "markdown",
   "id": "828c1cbd",
   "metadata": {},
   "source": [
    "- We are using the **Heap** implementation from the library `heapq` to solve this problem.\n",
    "- `heapify` returns a **MinHeap**, so we have to insert negated values for it to act like a **MaxHeap**.\n",
    "- After converting `nums` to a `heap`, we use the `heappop` method to remove the `k` largest values from the `heap`, and return the largest value, `heap[0]`."
   ]
  },
  {
   "cell_type": "markdown",
   "id": "35528644",
   "metadata": {},
   "source": [
    "### 621. Task Scheduler"
   ]
  },
  {
   "cell_type": "code",
   "execution_count": null,
   "id": "dc3e183d",
   "metadata": {},
   "outputs": [],
   "source": [
    "class Solution:\n",
    "    def leastInterval(self, tasks: List[str], n: int) -> int:\n",
    "        d = defaultdict(int)\n",
    "        for t in tasks:\n",
    "            d[t] += 1\n",
    "        pq = list( dict(sorted(d.items(), key=lambda x: x[1])).keys() )\n",
    "\n",
    "\n",
    "        offset = 0\n",
    "        res = 0\n",
    "        while tasks:\n",
    "            try:\n",
    "                currentTask = pq[-1 -offset]\n",
    "                #print(f'prioQ = {pq}  currentTask = {currentTask} (pq[{-1 -offset}])  tasks = {tasks}  [{res}]')\n",
    "                tasks.remove( currentTask )\n",
    "                if d[currentTask] > 1: d[currentTask] -= 1 \n",
    "                else: d.pop(currentTask)\n",
    "            except IndexError:\n",
    "                #print(f\"idling for one round  [{res}]\")\n",
    "                pass\n",
    "\n",
    "            if n == 0:  # had to consider the edge case where n = 0 because we can't modulo by 0\n",
    "                offset = -1 # have to set it to -1 because it gets increased by one a few lines down\n",
    "                pq = list( dict(sorted(d.items(), key=lambda x: x[1])).keys() ) # resort pq by most frequent task on every completed round of length n\n",
    "\n",
    "            elif offset > 0 and offset % n == 0:\n",
    "                #print(f'offset:  {offset} -> 0')\n",
    "                offset = -1\n",
    "                pq = list( dict(sorted(d.items(), key=lambda x: x[1])).keys() )\n",
    "\n",
    "            offset += 1\n",
    "            res += 1\n",
    "\n",
    "        return res"
   ]
  },
  {
   "cell_type": "markdown",
   "id": "dffd8620",
   "metadata": {},
   "source": [
    "- I am not too happy with this solution because it is not quite as efficient as it could be due to the frequent sorting that I perform on the priority queue, `pq`.\n",
    "- How it works is that we put the `tasks` into a priority queue sorted by the frequency of the specific tasks.\n",
    "- We then remove the topmost element in `pq` from `tasks` until there are no tasks left. Here we also take `n` into consideration via the variable `offset`.\n",
    "- It is best understood how we take the `offset` into account via the following graphic."
   ]
  }
 ],
 "metadata": {
  "kernelspec": {
   "display_name": "Python 3 (ipykernel)",
   "language": "python",
   "name": "python3"
  },
  "language_info": {
   "codemirror_mode": {
    "name": "ipython",
    "version": 3
   },
   "file_extension": ".py",
   "mimetype": "text/x-python",
   "name": "python",
   "nbconvert_exporter": "python",
   "pygments_lexer": "ipython3",
   "version": "3.10.9"
  }
 },
 "nbformat": 4,
 "nbformat_minor": 5
}
