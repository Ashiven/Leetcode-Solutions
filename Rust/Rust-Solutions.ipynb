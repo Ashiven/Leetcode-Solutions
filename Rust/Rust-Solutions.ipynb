{
 "cells": [
  {
   "cell_type": "markdown",
   "id": "906e9984-dea3-462e-a404-750b29580a11",
   "metadata": {},
   "source": [
    "### 28. Find the Index of the First Occurrence in a String"
   ]
  },
  {
   "cell_type": "code",
   "execution_count": null,
   "id": "7cfffb84-2dc4-4fb8-a622-812caac7947e",
   "metadata": {},
   "outputs": [],
   "source": [
    "impl Solution {\n",
    "    pub fn str_str(haystack: String, needle: String) -> i32 {\n",
    "        if !haystack.contains(&needle) {\n",
    "            return -1;\n",
    "        }\n",
    "\n",
    "        let mut found = true;\n",
    "        for (i, c) in haystack.chars().enumerate() {\n",
    "            found = true;\n",
    "            for (j, d) in needle.chars().enumerate() {\n",
    "                if i+j < haystack.len() && haystack.chars().nth(i+j).unwrap() != d {\n",
    "                    found = false;\n",
    "                    break;\n",
    "                }\n",
    "            }\n",
    "            if found {\n",
    "                return i as i32\n",
    "            }\n",
    "        }\n",
    "        return -1\n",
    "    }\n",
    "}"
   ]
  },
  {
   "cell_type": "markdown",
   "id": "06fab838-1770-408c-8f89-fa93c5ce6561",
   "metadata": {},
   "source": [
    "- How it works is that we iterate over the `haystack`, and starting at every character `c`, we iterate over the `needle` to find out whether we have found a match.\n",
    "- When we do find a match, we return the current index `i`, and we return `-1` if we have iterated over the entire `haystack` without finding the `needle`."
   ]
  },
  {
   "cell_type": "markdown",
   "id": "63a47c2e-9663-487e-b4b1-2205899f8099",
   "metadata": {},
   "source": [
    "### 35. Search Insert Position"
   ]
  },
  {
   "cell_type": "code",
   "execution_count": null,
   "id": "09713a96-ca69-48e4-9144-5a51693d4411",
   "metadata": {},
   "outputs": [],
   "source": [
    "impl Solution {\n",
    "    pub fn search_insert(nums: Vec<i32>, target: i32) -> i32 {\n",
    "        if nums[0] > target {\n",
    "            return 0;\n",
    "        }\n",
    "\n",
    "        let mut res = 0;\n",
    "        for (i, num) in nums.iter().enumerate() {\n",
    "            if *num == target {\n",
    "                res = i;\n",
    "                break;\n",
    "            }\n",
    "            else if i < nums.len()-1 && *num < target && nums[i+1] > target {\n",
    "                res = i+1;\n",
    "                break;\n",
    "            }\n",
    "            else if i == nums.len()-1 {\n",
    "                res = i+1;\n",
    "            }\n",
    "        }\n",
    "        return res as i32;\n",
    "    }\n",
    "}"
   ]
  },
  {
   "cell_type": "markdown",
   "id": "b009579b-9d85-4b15-a07a-8652611aaa26",
   "metadata": {},
   "source": [
    "- We iterate over the given array `nums`, and consider three distinct cases based on which we return the resulting index `res`.\n",
    "- When the current number `num` is our `target`, we return its index. When `num` is smaller than our `target` and the next number is greater than our target, we have found our insert position.\n",
    "- Lastly, if we have iterated over the whole array with neither of the first cases being entered, we have to insert at the end of `nums`."
   ]
  },
  {
   "cell_type": "markdown",
   "id": "39c73191",
   "metadata": {},
   "source": [
    "### 58. Length of Last Word"
   ]
  },
  {
   "cell_type": "code",
   "execution_count": null,
   "id": "44b5a192",
   "metadata": {},
   "outputs": [],
   "source": [
    "impl Solution {\n",
    "    pub fn length_of_last_word(s: String) -> i32 {\n",
    "        let parts = s.trim().split_whitespace();\n",
    "        let mut res = 0;\n",
    "        for part in parts {\n",
    "            res = part.len();\n",
    "        }\n",
    "        res as i32\n",
    "    }\n",
    "}"
   ]
  },
  {
   "cell_type": "markdown",
   "id": "54fa7e28",
   "metadata": {},
   "source": [
    "- We **trim** the string and **split** it on whitespaces first, and then we iterate over `parts`, while keeping track of the length of each `part`.\n",
    "- Finally, we return the length of the last string."
   ]
  }
 ],
 "metadata": {
  "kernelspec": {
   "display_name": "Rust",
   "language": "rust",
   "name": "rust"
  },
  "language_info": {
   "codemirror_mode": "rust",
   "file_extension": ".rs",
   "mimetype": "text/rust",
   "name": "Rust",
   "pygment_lexer": "rust",
   "version": ""
  }
 },
 "nbformat": 4,
 "nbformat_minor": 5
}
