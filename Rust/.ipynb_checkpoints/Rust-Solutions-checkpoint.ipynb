{
 "cells": [
  {
   "cell_type": "markdown",
   "id": "906e9984-dea3-462e-a404-750b29580a11",
   "metadata": {},
   "source": [
    "### 28. Find the Index of the First Occurrence in a String"
   ]
  },
  {
   "cell_type": "code",
   "execution_count": null,
   "id": "7cfffb84-2dc4-4fb8-a622-812caac7947e",
   "metadata": {},
   "outputs": [],
   "source": [
    "impl Solution {\n",
    "    pub fn str_str(haystack: String, needle: String) -> i32 {\n",
    "        if !haystack.contains(&needle) {\n",
    "            return -1;\n",
    "        }\n",
    "\n",
    "        let mut found = true;\n",
    "        for (i, c) in haystack.chars().enumerate() {\n",
    "            found = true;\n",
    "            for (j, d) in needle.chars().enumerate() {\n",
    "                if i+j < haystack.len() && haystack.chars().nth(i+j).unwrap() != d {\n",
    "                    found = false;\n",
    "                    break;\n",
    "                }\n",
    "            }\n",
    "            if found {\n",
    "                return i as i32\n",
    "            }\n",
    "        }\n",
    "        return -1\n",
    "    }\n",
    "}"
   ]
  },
  {
   "cell_type": "markdown",
   "id": "06fab838-1770-408c-8f89-fa93c5ce6561",
   "metadata": {},
   "source": [
    "- How it works is that we iterate over the `haystack`, and starting at every character `c`, we iterate over the `needle` to find out whether we have found a match.\n",
    "- When we do find a match, we return the current index `i`, and we return `-1` if we have iterated over the entire `haystack` without finding the `needle`."
   ]
  },
  {
   "cell_type": "code",
   "execution_count": null,
   "id": "cda1d76d-3a3a-49d8-9f73-eddf2ccab712",
   "metadata": {},
   "outputs": [],
   "source": []
  }
 ],
 "metadata": {
  "kernelspec": {
   "display_name": "Rust",
   "language": "rust",
   "name": "rust"
  },
  "language_info": {
   "codemirror_mode": "rust",
   "file_extension": ".rs",
   "mimetype": "text/rust",
   "name": "Rust",
   "pygment_lexer": "rust",
   "version": ""
  }
 },
 "nbformat": 4,
 "nbformat_minor": 5
}
