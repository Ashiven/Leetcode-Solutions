{
 "cells": [
  {
   "cell_type": "markdown",
   "id": "75ba7780",
   "metadata": {},
   "source": [
    "# Arrays & Hashing"
   ]
  },
  {
   "cell_type": "markdown",
   "id": "f7fdf0a0",
   "metadata": {},
   "source": [
    "## 217. Contains Duplicate "
   ]
  },
  {
   "cell_type": "code",
   "execution_count": null,
   "id": "2e55c071",
   "metadata": {},
   "outputs": [],
   "source": [
    "class Solution:\n",
    "    def containsDuplicate(self, nums: List[int]) -> bool:\n",
    "        return not len(set(nums)) == len(nums)"
   ]
  },
  {
   "cell_type": "markdown",
   "id": "42c3cf35",
   "metadata": {},
   "source": [
    "## 242. Valid Anagram"
   ]
  },
  {
   "cell_type": "code",
   "execution_count": null,
   "id": "7eb13482",
   "metadata": {},
   "outputs": [],
   "source": [
    "class Solution:\n",
    "    def isAnagram(self, s: str, t: str) -> bool:\n",
    "        for char in s:\n",
    "            if t == '':\n",
    "                return False\n",
    "            t = t.replace(char, '', 1)\n",
    "        if t != '':\n",
    "            return False\n",
    "        return True"
   ]
  },
  {
   "cell_type": "markdown",
   "id": "f630a2c5",
   "metadata": {},
   "source": [
    "## 1. Two Sum"
   ]
  },
  {
   "cell_type": "code",
   "execution_count": null,
   "id": "bd032073",
   "metadata": {},
   "outputs": [],
   "source": [
    "class Solution:\n",
    "    def twoSum(self, nums: List[int], target: int) -> List[int]:\n",
    "        for i in range(len(nums)):\n",
    "            for j in range(i + 1, len(nums)):\n",
    "                if nums[i] + nums[j] == target:\n",
    "                    return [i, j]"
   ]
  },
  {
   "cell_type": "markdown",
   "id": "14b0fe6c",
   "metadata": {},
   "source": [
    "## 49. Group Anagrams"
   ]
  },
  {
   "cell_type": "markdown",
   "id": "9dcbd3d9",
   "metadata": {},
   "source": [
    "### My Initial Solution:"
   ]
  },
  {
   "cell_type": "code",
   "execution_count": null,
   "id": "16a4f68a",
   "metadata": {},
   "outputs": [],
   "source": [
    "class Solution:\n",
    "    def isAnagram(self, s: str, t: str) -> bool:\n",
    "        if len(s) != len(t):\n",
    "            return False\n",
    "        for char in s:\n",
    "            if not list(s).count(char) == list(t).count(char):\n",
    "                return False\n",
    "        return True\n",
    "\n",
    "    def groupAnagrams(self, strs: List[str]) -> List[List[str]]:\n",
    "        dict = {}\n",
    "        for string in strs:\n",
    "            addedToDict = False\n",
    "            for key in dict.keys():\n",
    "                if self.isAnagram(string, key):\n",
    "                    arr = dict[key]\n",
    "                    arr.append(string)\n",
    "                    dict[key] = arr\n",
    "                    addedToDict = True\n",
    "            if not addedToDict:\n",
    "                dict[string] = [string]\n",
    "        return list(dict.values())"
   ]
  },
  {
   "cell_type": "markdown",
   "id": "0998c822",
   "metadata": {},
   "source": [
    "- The problem with this code is that very large sets don't run quickly enough.\n",
    "- I am looking for ways to improve performance for that reason.\n",
    "- Looking at the solution video it seems you have to use a dict with keys being the character count, i.e. {a:2, c:1, d:1} and values being a list of words matching that pattern."
   ]
  },
  {
   "cell_type": "markdown",
   "id": "5cb891b7",
   "metadata": {},
   "source": [
    "### Improved Solution:"
   ]
  },
  {
   "cell_type": "code",
   "execution_count": null,
   "id": "5aa3c2f1",
   "metadata": {},
   "outputs": [],
   "source": [
    "class Solution:\n",
    "    def groupAnagrams(self, strs: List[str]) -> List[List[str]]:\n",
    "        res = defaultdict(list)\n",
    "\n",
    "        for string in strs:\n",
    "            count = [0] * 26\n",
    "\n",
    "            for c in string:\n",
    "                count[ord(c) - ord('a')] += 1\n",
    "\n",
    "            res[tuple(count)].append(string)\n",
    "\n",
    "        return res.values()"
   ]
  },
  {
   "cell_type": "markdown",
   "id": "362f92a8",
   "metadata": {},
   "source": [
    "- The way this works is, we create a list `count` for each string, which holds 26 fields, representing the frequency of the lowercase letters of the alphabet. \n",
    "- Then we go through the characters of each string and populate `count`. For example the string `cab` would result in `[1,1,1,0,0,...]`\n",
    "- This will then be used as the key in the `res` dictionary, where we append the string to the corresponding list of values.\n",
    "- These values are then returned as the result.\n",
    "- An intuitive way to think about this, is that we are using histograms as keys, and lists of values fitting the pattern of the histogram, as values."
   ]
  },
  {
   "cell_type": "markdown",
   "id": "420355f5",
   "metadata": {},
   "source": [
    "## 347. Top K Frequent Elements"
   ]
  },
  {
   "cell_type": "code",
   "execution_count": null,
   "id": "b4c2680a",
   "metadata": {},
   "outputs": [],
   "source": [
    "class Solution:\n",
    "    def topKFrequent(self, nums: List[int], k: int) -> List[int]:\n",
    "        counter = dict(Counter(nums))\n",
    "        counter = dict(sorted(counter.items(), key=lambda item: item[1]))\n",
    "        counterList = list(reversed(list(counter.keys())))\n",
    "        res = []\n",
    "        for i in range(k):\n",
    "            res.append(counterList[i])\n",
    "        return res"
   ]
  },
  {
   "cell_type": "markdown",
   "id": "47d89262",
   "metadata": {},
   "source": [
    "- My thought process here was to use the `Counter` object from python to count the occurences of each number in `nums`, and return the `k` most frequent numbers.\n",
    "- To retrieve the most frequent numbers, I sorted the `counter` dictionary by it's values (ascending), extracted the keys as `counterList`, reversed `counterList` for a descending ordering, and returned the `k` first keys."
   ]
  },
  {
   "cell_type": "markdown",
   "id": "ce88ec82",
   "metadata": {},
   "source": [
    "## 238. Product of Array Except Self"
   ]
  },
  {
   "cell_type": "markdown",
   "id": "4c8ea971",
   "metadata": {},
   "source": [
    "### My Initial Solution:"
   ]
  },
  {
   "cell_type": "code",
   "execution_count": null,
   "id": "8437ade1",
   "metadata": {},
   "outputs": [],
   "source": [
    "class Solution:\n",
    "    def prod(self, nums: List[int]) -> int:\n",
    "        prod = 1\n",
    "        for i in range(len(nums)):\n",
    "            prod = prod * nums[i]\n",
    "        return prod\n",
    "        \n",
    "    def productExceptSelf(self, nums: List[int]) -> List[int]:\n",
    "        res = [0] * len(nums)\n",
    "        for i in range(len(nums)):\n",
    "            if nums[i] != 0:\n",
    "                res[i] = int(self.prod(nums) / nums[i])\n",
    "            elif nums[i] == 0:\n",
    "                temp = nums.copy()\n",
    "                nums.pop(i) \n",
    "                res[i] = self.prod(nums)\n",
    "                nums = temp\n",
    "        return res"
   ]
  },
  {
   "cell_type": "markdown",
   "id": "c21cd735",
   "metadata": {},
   "source": [
    "- Technically this works, but it is highly inefficient because each product is calculated by moving through the whole list, which results in a complexity of O(n^2)."
   ]
  },
  {
   "cell_type": "markdown",
   "id": "b4d4f23b",
   "metadata": {},
   "source": [
    "### Improved Solution:"
   ]
  },
  {
   "cell_type": "code",
   "execution_count": null,
   "id": "d06f5800",
   "metadata": {},
   "outputs": [],
   "source": [
    "class Solution:\n",
    "    #step 1: save the product for each unique number in a dict\n",
    "    #step 2: go through nums and for each number paste the corresponding value of the dict into the result array \n",
    "    def prod(self, nums: List[int]) -> int:\n",
    "        prod = 1\n",
    "        for i in range(len(nums)):\n",
    "            prod = prod * nums[i]\n",
    "        return prod\n",
    "\n",
    "    def productExceptSelf(self, nums: List[int]) -> List[int]:\n",
    "        unique = list(set(nums))\n",
    "        uniqueDict = defaultdict(int)\n",
    "        for num in unique:\n",
    "            temp = nums.copy()\n",
    "            nums.remove(num)\n",
    "            uniqueDict[num] = self.prod(nums)\n",
    "            nums = temp \n",
    "        res = [0] * len(nums)\n",
    "        for count, num in enumerate(nums):\n",
    "            res[count] = uniqueDict[num]\n",
    "        return res"
   ]
  },
  {
   "cell_type": "markdown",
   "id": "89cc2f80",
   "metadata": {},
   "source": [
    "- What I have done to drastically improve the performance and reduce the complexity to O(n), was to first retrieve all unique values inside of `nums`, and save them inside of `unique`.\n",
    "- Then I created a dictionary `uniqueDict`, which would hold the product corresponding to each of the unique numbers.\n",
    "- Lastly I went through `nums` and populated the `res` list with the matching dictionary entries for each `num` in `nums`."
   ]
  },
  {
   "cell_type": "markdown",
   "id": "cee435f3",
   "metadata": {},
   "source": [
    "## 36. Valid Sudoku"
   ]
  },
  {
   "cell_type": "code",
   "execution_count": null,
   "id": "80eb7029",
   "metadata": {},
   "outputs": [],
   "source": [
    "class Solution:\n",
    "    def isValidSudoku(self, board: List[List[str]]) -> bool:\n",
    "        # Step 1 validate rows\n",
    "        valid = range(1, 10)\n",
    "        isValid = True\n",
    "        for i in range(len(board)):\n",
    "            row = [int(val) for val in board[i] if val != \".\"]\n",
    "            print(row)\n",
    "            if not sorted(row) == sorted(list(set(row))):\n",
    "                isValid = False\n",
    "            for val in row:\n",
    "                if not val in valid:\n",
    "                    isValid = False\n",
    "        print(f'rows are {isValid}')\n",
    "        # Step 2 validate cols\n",
    "        colCount = 0\n",
    "        while colCount < len(board):\n",
    "            col = []\n",
    "            for i in range(len(board)):\n",
    "                col.append(board[i][colCount])\n",
    "            col = [int(val) for val in col if val != \".\"]\n",
    "            print(col)\n",
    "            if not sorted(col) == sorted(list(set(col))):\n",
    "                isValid = False\n",
    "            for val in col:\n",
    "                if not val in valid:\n",
    "                    isValid = False\n",
    "            colCount += 1\n",
    "        print(f'cols are {isValid}')\n",
    "        # Step 3 validate blocks\n",
    "        layer = 0\n",
    "        block = 0\n",
    "        for i in range(len(board)):\n",
    "            vals = []\n",
    "            if block == 9:\n",
    "                block = 0\n",
    "                layer += 3\n",
    "            for j in range(3):\n",
    "                for i in range(3):\n",
    "                    vals.append(board[block + j][layer + i])\n",
    "            vals = [int(val) for val in vals if val != \".\"]\n",
    "            print(vals)\n",
    "            if not sorted(vals) == sorted(list(set(vals))):\n",
    "                isValid = False\n",
    "            for val in vals:\n",
    "                if not val in valid:\n",
    "                    isValid = False\n",
    "            block += 3\n",
    "        print(f'blocks are {isValid}')\n",
    "        return isValid"
   ]
  },
  {
   "cell_type": "markdown",
   "id": "2ab3ead5",
   "metadata": {},
   "source": [
    "- This task was pretty straightforward. I went through it in three distinct steps.\n",
    "- First, I extracted the rows of the board, and validated them by making sure that each `row` only contains unique values from 1 to 9.\n",
    "- The second and third step follow the exact same pattern, although I had to put some more effort into properly indexing the blocks in step three."
   ]
  },
  {
   "cell_type": "markdown",
   "id": "19767268",
   "metadata": {},
   "source": [
    "## 271. Encode and Decode Strings"
   ]
  },
  {
   "cell_type": "markdown",
   "id": "c4edf70e",
   "metadata": {},
   "source": [
    "### Provisional Solution:"
   ]
  },
  {
   "cell_type": "code",
   "execution_count": null,
   "id": "d2e8bfe6",
   "metadata": {},
   "outputs": [],
   "source": [
    "class Solution:\n",
    "    def encode(self, strs: List[str]) -> str:\n",
    "        res = ''\n",
    "        for i, string in enumerate(strs):\n",
    "            if i != len(strs) - 1:\n",
    "                res = res + string + ':;'\n",
    "            else:\n",
    "                res = res + string\n",
    "        return res\n",
    "    \n",
    "    def decode(self, str) -> List[str]:\n",
    "        strs = str.join(':;')\n",
    "        return strs"
   ]
  },
  {
   "cell_type": "markdown",
   "id": "0687adb8",
   "metadata": {},
   "source": [
    "- Due to this being a problem that requires leetcode premium, I am unable to check whether my solution would be accepted.\n",
    "- For now I will leave this solution here, but it is definitely subject to change and likely will not pass the tests."
   ]
  },
  {
   "cell_type": "markdown",
   "id": "141d14a3",
   "metadata": {},
   "source": [
    "## 128. Longest Consecutive Sequence"
   ]
  },
  {
   "cell_type": "code",
   "execution_count": null,
   "id": "336ea36d",
   "metadata": {},
   "outputs": [],
   "source": [
    "class Solution:\n",
    "    def longestConsecutive(self, nums: List[int]) -> int:\n",
    "        if nums == []:\n",
    "            return 0\n",
    "        s_nums = sorted(list(set(nums)))\n",
    "        count = 1\n",
    "        res = 1\n",
    "        for i in range(len(s_nums) - 1):\n",
    "            if s_nums[i] == s_nums[i+1] - 1:\n",
    "                count += 1\n",
    "                if i == len(s_nums) - 2 and count > res:\n",
    "                    res = count\n",
    "            else:\n",
    "                if count > res:\n",
    "                    res = count\n",
    "                count = 1\n",
    "        return res"
   ]
  },
  {
   "cell_type": "markdown",
   "id": "4c54db14",
   "metadata": {},
   "source": [
    "- To solve this problem, I first converted `nums` into a sorted and unique list `s_nums`. \n",
    "- Similarly to finding the maximum value in a list, I traversed `s_nums` and saved the state of the longest sequence of elements increasing by steps of one, inside of `res`."
   ]
  },
  {
   "cell_type": "markdown",
   "id": "6cb799f7",
   "metadata": {},
   "source": [
    "# Two Pointers"
   ]
  },
  {
   "cell_type": "markdown",
   "id": "ffad6fe0",
   "metadata": {},
   "source": [
    "## 125. Valid Palindrome"
   ]
  },
  {
   "cell_type": "code",
   "execution_count": null,
   "id": "9d56f658",
   "metadata": {},
   "outputs": [],
   "source": [
    "class Solution:\n",
    "    def isPalindrome(self, s: str) -> bool:\n",
    "        s = re.sub(r'\\W', '', s)\n",
    "        s = s.lower()\n",
    "        s = s.replace('_', '')\n",
    "        if s == '':\n",
    "            return True\n",
    "        print(s)\n",
    "        half = int(len(s) / 2)\n",
    "        print(f'len {len(s)} half {half}')\n",
    "        for i in range(half):\n",
    "            print(f'comparing {s[i]} : {s[len(s) - 1 - i]}')\n",
    "            if s[i] != s[len(s) - 1 - i]:\n",
    "                return False\n",
    "        return True"
   ]
  },
  {
   "cell_type": "markdown",
   "id": "645d437a",
   "metadata": {},
   "source": [
    "- As the description of this task mentions, a String is a palindrome when its reduction to alphanumeric and lowercase letters, reads the same forward and backward.\n",
    "- To this end, I have used a regular expression and the `lower()` method to convert `s` into the desired format.\n",
    "- Lastly, I iterated through `half` the length of `s`, starting with one pointer at the end of `s` and another pointer at the start of `s`, and compared their characters."
   ]
  },
  {
   "cell_type": "markdown",
   "id": "9bf4e141",
   "metadata": {},
   "source": [
    "## 167. Two Sum II - Input Array Is Sorted"
   ]
  },
  {
   "cell_type": "code",
   "execution_count": null,
   "id": "f4970828",
   "metadata": {},
   "outputs": [],
   "source": [
    "class Solution:\n",
    "    def twoSum(self, numbers: List[int], target: int) -> List[int]:\n",
    "        for i, num in enumerate(numbers):\n",
    "            if i < len(numbers) - 2 and num == numbers[i+2]:  \n",
    "                continue\n",
    "            for j in range(i+1, len(numbers)):\n",
    "                if num + numbers[j] == target:\n",
    "                    print(f'target reached with {i}, {j}')\n",
    "                    return [i+1,j+1]\n",
    "                elif num + numbers[j] > target:\n",
    "                    break"
   ]
  },
  {
   "cell_type": "markdown",
   "id": "0755616b",
   "metadata": {},
   "source": [
    "- The way I approached this problem, was to iterate through every `num` in `numbers`, and for every `num`, to iterate over all subsequent numbers, until either the target is reached, or the sum is greater than the `target`.\n",
    "- To avoid unnecessary calculations of sums, the inner loop breaks as soon as the sum is greater than `target`.\n",
    "- I had to add another conditional check at the start of the outer loop, to further increase performance for large inputs.\n",
    "- The first check will ensure that we avoid entering the inner loop, as long as there are more than two subsequent numbers with the same value.\n",
    "- Both breaking out of the loop and the first conditional only work because the list is sorted."
   ]
  },
  {
   "cell_type": "markdown",
   "id": "1a482f9b",
   "metadata": {},
   "source": [
    "## 15. 3Sum"
   ]
  },
  {
   "cell_type": "markdown",
   "id": "2abad4ee",
   "metadata": {},
   "source": [
    "### My Initial Solution:"
   ]
  },
  {
   "cell_type": "code",
   "execution_count": null,
   "id": "26f2740f",
   "metadata": {},
   "outputs": [],
   "source": [
    "class Solution:\n",
    "    def threeSum(self, nums: List[int]) -> List[List[int]]:\n",
    "        res = []\n",
    "        for i in range(len(nums)):\n",
    "            for j in range(i+1, len(nums)):\n",
    "                for k in range(j+1, len(nums)):\n",
    "                    if nums[i] + nums[j] + nums[k] == 0:\n",
    "                        arr = sorted([nums[i],nums[j],nums[k]])\n",
    "                        if not arr in res:\n",
    "                            res.append(arr)\n",
    "        return res"
   ]
  },
  {
   "cell_type": "markdown",
   "id": "8a8533d9",
   "metadata": {},
   "source": [
    "- This works, but it is quite inefficient and therefore exceeds the time limit on larger inputs.\n",
    "- I have to think about a way of reducing the time complexity of my solution from O(n^3) to something smaller."
   ]
  },
  {
   "cell_type": "markdown",
   "id": "bc09d7a2",
   "metadata": {},
   "source": [
    "## 11. Container With Most Water"
   ]
  },
  {
   "cell_type": "markdown",
   "id": "bb8b840c",
   "metadata": {},
   "source": [
    "### My Initial Solution:"
   ]
  },
  {
   "cell_type": "code",
   "execution_count": null,
   "id": "c47f5d33",
   "metadata": {},
   "outputs": [],
   "source": [
    "class Solution:\n",
    "    def area(self, i: int, j: int, height: List[int]) -> int:\n",
    "        return min(height[i], height[j]) * (j - i)\n",
    "\n",
    "    def maxArea(self, height: List[int]) -> int:\n",
    "        res = 0\n",
    "        for i in range(len(height)):\n",
    "            for j in range(i+1, len(height)):\n",
    "                ar = self.area(i, j, height)\n",
    "                if ar > res:\n",
    "                    res = ar\n",
    "        return res"
   ]
  },
  {
   "cell_type": "markdown",
   "id": "96a10e70",
   "metadata": {},
   "source": [
    "- This does return the correct results, but it is not efficient enough on larger inputs.\n",
    "- I have to find a way to reduce the time complexity from O(n^2), because as is, I am calculating the area for all possible tuples."
   ]
  },
  {
   "cell_type": "markdown",
   "id": "dd6dd3ce",
   "metadata": {},
   "source": [
    "### Improved Solution:"
   ]
  },
  {
   "cell_type": "code",
   "execution_count": null,
   "id": "460b7c05",
   "metadata": {},
   "outputs": [],
   "source": [
    "class Solution:\n",
    "    def area(self, i: int, j: int, height: List[int]) -> int:\n",
    "        return min(height[i], height[j]) * (j - i)\n",
    "\n",
    "    def maxArea(self, height: List[int]) -> int:\n",
    "        res = 0\n",
    "        left = 0\n",
    "        right = len(height) - 1\n",
    "        while(abs(left-right) > 1):\n",
    "            ar = self.area(left, right, height)\n",
    "            if ar > res:\n",
    "                res = ar\n",
    "            if height[left] <= height[right]:\n",
    "                left += 1\n",
    "            elif height[left] > height[right]:\n",
    "                right -= 1\n",
    "        ar = self.area(left, right, height)\n",
    "        if ar > res:\n",
    "            res = ar\n",
    "        return res"
   ]
  },
  {
   "cell_type": "markdown",
   "id": "0a98317d",
   "metadata": {},
   "source": [
    "- A hint I received on the page was *\"Try to use two-pointers. Set one pointer to the left and one to the right of the array. Always move the pointer that points to the lower line.\"*\n",
    "- Thanks to this hint, I was able to come up with a solution with time complexity O(n).\n",
    "- The way it works is, `left` is an index to the leftmost element in `height` and `right` is an index to the rightmost element. We iterate through the elements in `height` until `left` and `right` are at a distance of 1 from each other.\n",
    "- We calculate the area `ar` between `left` and `right` in each iteration, saving the state of the largest area in `res`."
   ]
  }
 ],
 "metadata": {
  "kernelspec": {
   "display_name": "Python 3 (ipykernel)",
   "language": "python",
   "name": "python3"
  },
  "language_info": {
   "codemirror_mode": {
    "name": "ipython",
    "version": 3
   },
   "file_extension": ".py",
   "mimetype": "text/x-python",
   "name": "python",
   "nbconvert_exporter": "python",
   "pygments_lexer": "ipython3",
   "version": "3.10.9"
  }
 },
 "nbformat": 4,
 "nbformat_minor": 5
}
