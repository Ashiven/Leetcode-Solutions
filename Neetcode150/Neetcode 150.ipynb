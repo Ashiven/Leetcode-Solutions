{
 "cells": [
  {
   "cell_type": "markdown",
   "id": "75ba7780",
   "metadata": {},
   "source": [
    "## Arrays & Hashing"
   ]
  },
  {
   "cell_type": "markdown",
   "id": "f7fdf0a0",
   "metadata": {},
   "source": [
    "### 217. Contains Duplicate "
   ]
  },
  {
   "cell_type": "code",
   "execution_count": null,
   "id": "2e55c071",
   "metadata": {},
   "outputs": [],
   "source": [
    "class Solution:\n",
    "    def containsDuplicate(self, nums: List[int]) -> bool:\n",
    "        return not len(set(nums)) == len(nums)"
   ]
  },
  {
   "cell_type": "markdown",
   "id": "42c3cf35",
   "metadata": {},
   "source": [
    "### 242. Valid Anagram"
   ]
  },
  {
   "cell_type": "code",
   "execution_count": null,
   "id": "7eb13482",
   "metadata": {},
   "outputs": [],
   "source": [
    "class Solution:\n",
    "    def isAnagram(self, s: str, t: str) -> bool:\n",
    "        for char in s:\n",
    "            if t == '':\n",
    "                return False\n",
    "            t = t.replace(char, '', 1)\n",
    "        if t != '':\n",
    "            return False\n",
    "        return True"
   ]
  },
  {
   "cell_type": "markdown",
   "id": "f630a2c5",
   "metadata": {},
   "source": [
    "### 1. Two Sum"
   ]
  },
  {
   "cell_type": "code",
   "execution_count": null,
   "id": "bd032073",
   "metadata": {},
   "outputs": [],
   "source": [
    "class Solution:\n",
    "    def twoSum(self, nums: List[int], target: int) -> List[int]:\n",
    "        for i in range(len(nums)):\n",
    "            for j in range(i + 1, len(nums)):\n",
    "                if nums[i] + nums[j] == target:\n",
    "                    return [i, j]"
   ]
  }
 ],
 "metadata": {
  "kernelspec": {
   "display_name": "Python 3 (ipykernel)",
   "language": "python",
   "name": "python3"
  },
  "language_info": {
   "codemirror_mode": {
    "name": "ipython",
    "version": 3
   },
   "file_extension": ".py",
   "mimetype": "text/x-python",
   "name": "python",
   "nbconvert_exporter": "python",
   "pygments_lexer": "ipython3",
   "version": "3.10.9"
  }
 },
 "nbformat": 4,
 "nbformat_minor": 5
}
